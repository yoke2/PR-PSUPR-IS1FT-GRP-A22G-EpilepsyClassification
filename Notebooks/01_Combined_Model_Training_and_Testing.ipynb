{
  "nbformat": 4,
  "nbformat_minor": 0,
  "metadata": {
    "colab": {
      "name": "01_Combined_Model_Training_and Testing.ipynb",
      "provenance": [],
      "collapsed_sections": [],
      "toc_visible": true
    },
    "kernelspec": {
      "name": "python3",
      "display_name": "Python 3"
    },
    "accelerator": "GPU"
  },
  "cells": [
    {
      "cell_type": "markdown",
      "metadata": {
        "id": "kr6qkXjOjho0",
        "colab_type": "text"
      },
      "source": [
        "# Colab Setup"
      ]
    },
    {
      "cell_type": "code",
      "metadata": {
        "id": "HWQhawGvlRFZ",
        "colab_type": "code",
        "outputId": "bebe396c-ca8e-48a6-c6c8-40fece2f4eeb",
        "colab": {
          "base_uri": "https://localhost:8080/",
          "height": 311
        }
      },
      "source": [
        "!nvidia-smi"
      ],
      "execution_count": 0,
      "outputs": [
        {
          "output_type": "stream",
          "text": [
            "Sat Sep 28 07:56:32 2019       \n",
            "+-----------------------------------------------------------------------------+\n",
            "| NVIDIA-SMI 430.40       Driver Version: 418.67       CUDA Version: 10.1     |\n",
            "|-------------------------------+----------------------+----------------------+\n",
            "| GPU  Name        Persistence-M| Bus-Id        Disp.A | Volatile Uncorr. ECC |\n",
            "| Fan  Temp  Perf  Pwr:Usage/Cap|         Memory-Usage | GPU-Util  Compute M. |\n",
            "|===============================+======================+======================|\n",
            "|   0  Tesla K80           Off  | 00000000:00:04.0 Off |                    0 |\n",
            "| N/A   34C    P8    28W / 149W |      0MiB / 11441MiB |      0%      Default |\n",
            "+-------------------------------+----------------------+----------------------+\n",
            "                                                                               \n",
            "+-----------------------------------------------------------------------------+\n",
            "| Processes:                                                       GPU Memory |\n",
            "|  GPU       PID   Type   Process name                             Usage      |\n",
            "|=============================================================================|\n",
            "|  No running processes found                                                 |\n",
            "+-----------------------------------------------------------------------------+\n"
          ],
          "name": "stdout"
        }
      ]
    },
    {
      "cell_type": "code",
      "metadata": {
        "id": "lVOdMLWRc7gg",
        "colab_type": "code",
        "colab": {}
      },
      "source": [
        "!pip install scikit-plot --quiet"
      ],
      "execution_count": 0,
      "outputs": []
    },
    {
      "cell_type": "code",
      "metadata": {
        "id": "kMIYqyuItDIV",
        "colab_type": "code",
        "colab": {}
      },
      "source": [
        "!apt-get -qq install -y graphviz && pip install -q pydot --quiet"
      ],
      "execution_count": 0,
      "outputs": []
    },
    {
      "cell_type": "markdown",
      "metadata": {
        "id": "cfTxxKvvjvlT",
        "colab_type": "text"
      },
      "source": [
        "# Imports and Data Setup"
      ]
    },
    {
      "cell_type": "code",
      "metadata": {
        "id": "f0DND8dXllo_",
        "colab_type": "code",
        "outputId": "e6c3a292-e747-42a0-9a67-07015c84966a",
        "colab": {
          "base_uri": "https://localhost:8080/",
          "height": 207
        }
      },
      "source": [
        "!wget https://archive.ics.uci.edu/ml/machine-learning-databases/00388/data.csv"
      ],
      "execution_count": 0,
      "outputs": [
        {
          "output_type": "stream",
          "text": [
            "--2019-09-28 07:56:46--  https://archive.ics.uci.edu/ml/machine-learning-databases/00388/data.csv\n",
            "Resolving archive.ics.uci.edu (archive.ics.uci.edu)... 128.195.10.252\n",
            "Connecting to archive.ics.uci.edu (archive.ics.uci.edu)|128.195.10.252|:443... connected.\n",
            "HTTP request sent, awaiting response... 200 OK\n",
            "Length: 7635689 (7.3M) [application/x-httpd-php]\n",
            "Saving to: ‘data.csv’\n",
            "\n",
            "data.csv            100%[===================>]   7.28M  5.87MB/s    in 1.2s    \n",
            "\n",
            "2019-09-28 07:56:48 (5.87 MB/s) - ‘data.csv’ saved [7635689/7635689]\n",
            "\n"
          ],
          "name": "stdout"
        }
      ]
    },
    {
      "cell_type": "code",
      "metadata": {
        "id": "NefN5glf3k1h",
        "colab_type": "code",
        "colab": {}
      },
      "source": [
        "!mkdir data\n",
        "!mv data.csv data/data.csv"
      ],
      "execution_count": 0,
      "outputs": []
    },
    {
      "cell_type": "code",
      "metadata": {
        "id": "lii-aCiyllh4",
        "colab_type": "code",
        "colab": {}
      },
      "source": [
        "%reload_ext autoreload\n",
        "%autoreload 2\n",
        "%matplotlib inline"
      ],
      "execution_count": 0,
      "outputs": []
    },
    {
      "cell_type": "code",
      "metadata": {
        "id": "-5rVyG6Lllni",
        "colab_type": "code",
        "colab": {}
      },
      "source": [
        "import pydot\n",
        "import numpy as np\n",
        "import pandas as pd\n",
        "import sklearn.metrics as metrics\n",
        "import matplotlib.pyplot as plt\n",
        "from sklearn.model_selection import train_test_split\n",
        "from sklearn.preprocessing import StandardScaler\n",
        "from sklearn.ensemble import RandomForestClassifier, VotingClassifier, BaggingClassifier\n",
        "from sklearn.tree import DecisionTreeClassifier\n",
        "\n",
        "from xgboost import XGBClassifier\n",
        "\n",
        "from tensorflow.keras.callbacks import ModelCheckpoint,CSVLogger,LearningRateScheduler\n",
        "from tensorflow.keras.models import Model\n",
        "from tensorflow.keras.layers import Input\n",
        "from tensorflow.keras.layers import Dense\n",
        "from tensorflow.keras.layers import Conv1D\n",
        "from tensorflow.keras.layers import MaxPooling1D\n",
        "from tensorflow.keras.layers import Dropout\n",
        "from tensorflow.keras.layers import Flatten\n",
        "from tensorflow.keras.layers import BatchNormalization\n",
        "from tensorflow.keras.layers import Activation\n",
        "from tensorflow.keras.regularizers import l2\n",
        "from tensorflow.keras.utils import to_categorical\n",
        "from tensorflow.keras import optimizers\n",
        "\n",
        "import scikitplot as skplt\n",
        "from pathlib import Path\n",
        "\n",
        "from sklearn.decomposition import PCA"
      ],
      "execution_count": 0,
      "outputs": []
    },
    {
      "cell_type": "code",
      "metadata": {
        "id": "yhxbj8rTihH0",
        "colab_type": "code",
        "colab": {}
      },
      "source": [
        "                            # Set up 'ggplot' style\n",
        "plt.style.use('ggplot')     # if want to use the default style, set 'classic'\n",
        "plt.rcParams['ytick.right']     = True\n",
        "plt.rcParams['ytick.labelright']= True\n",
        "plt.rcParams['ytick.left']      = False\n",
        "plt.rcParams['ytick.labelleft'] = False\n",
        "plt.rcParams['font.family']     = 'Arial'"
      ],
      "execution_count": 0,
      "outputs": []
    },
    {
      "cell_type": "code",
      "metadata": {
        "id": "PR04Lma5mtJj",
        "colab_type": "code",
        "colab": {}
      },
      "source": [
        "datapath = Path('./data')"
      ],
      "execution_count": 0,
      "outputs": []
    },
    {
      "cell_type": "markdown",
      "metadata": {
        "id": "jkklUmg7j8zd",
        "colab_type": "text"
      },
      "source": [
        "# Explore Dataset"
      ]
    },
    {
      "cell_type": "code",
      "metadata": {
        "id": "F2s7MHgzmxia",
        "colab_type": "code",
        "colab": {}
      },
      "source": [
        "raw = pd.read_csv(datapath/'data.csv', index_col=0)"
      ],
      "execution_count": 0,
      "outputs": []
    },
    {
      "cell_type": "code",
      "metadata": {
        "id": "BiJWj3JDnSq2",
        "colab_type": "code",
        "outputId": "f6f0882f-2a70-417c-fd94-4629a196069b",
        "colab": {
          "base_uri": "https://localhost:8080/",
          "height": 251
        }
      },
      "source": [
        "raw.head()"
      ],
      "execution_count": 0,
      "outputs": [
        {
          "output_type": "execute_result",
          "data": {
            "text/html": [
              "<div>\n",
              "<style scoped>\n",
              "    .dataframe tbody tr th:only-of-type {\n",
              "        vertical-align: middle;\n",
              "    }\n",
              "\n",
              "    .dataframe tbody tr th {\n",
              "        vertical-align: top;\n",
              "    }\n",
              "\n",
              "    .dataframe thead th {\n",
              "        text-align: right;\n",
              "    }\n",
              "</style>\n",
              "<table border=\"1\" class=\"dataframe\">\n",
              "  <thead>\n",
              "    <tr style=\"text-align: right;\">\n",
              "      <th></th>\n",
              "      <th>X1</th>\n",
              "      <th>X2</th>\n",
              "      <th>X3</th>\n",
              "      <th>X4</th>\n",
              "      <th>X5</th>\n",
              "      <th>X6</th>\n",
              "      <th>X7</th>\n",
              "      <th>X8</th>\n",
              "      <th>X9</th>\n",
              "      <th>X10</th>\n",
              "      <th>X11</th>\n",
              "      <th>X12</th>\n",
              "      <th>X13</th>\n",
              "      <th>X14</th>\n",
              "      <th>X15</th>\n",
              "      <th>X16</th>\n",
              "      <th>X17</th>\n",
              "      <th>X18</th>\n",
              "      <th>X19</th>\n",
              "      <th>X20</th>\n",
              "      <th>X21</th>\n",
              "      <th>X22</th>\n",
              "      <th>X23</th>\n",
              "      <th>X24</th>\n",
              "      <th>X25</th>\n",
              "      <th>X26</th>\n",
              "      <th>X27</th>\n",
              "      <th>X28</th>\n",
              "      <th>X29</th>\n",
              "      <th>X30</th>\n",
              "      <th>X31</th>\n",
              "      <th>X32</th>\n",
              "      <th>X33</th>\n",
              "      <th>X34</th>\n",
              "      <th>X35</th>\n",
              "      <th>X36</th>\n",
              "      <th>X37</th>\n",
              "      <th>X38</th>\n",
              "      <th>X39</th>\n",
              "      <th>X40</th>\n",
              "      <th>...</th>\n",
              "      <th>X140</th>\n",
              "      <th>X141</th>\n",
              "      <th>X142</th>\n",
              "      <th>X143</th>\n",
              "      <th>X144</th>\n",
              "      <th>X145</th>\n",
              "      <th>X146</th>\n",
              "      <th>X147</th>\n",
              "      <th>X148</th>\n",
              "      <th>X149</th>\n",
              "      <th>X150</th>\n",
              "      <th>X151</th>\n",
              "      <th>X152</th>\n",
              "      <th>X153</th>\n",
              "      <th>X154</th>\n",
              "      <th>X155</th>\n",
              "      <th>X156</th>\n",
              "      <th>X157</th>\n",
              "      <th>X158</th>\n",
              "      <th>X159</th>\n",
              "      <th>X160</th>\n",
              "      <th>X161</th>\n",
              "      <th>X162</th>\n",
              "      <th>X163</th>\n",
              "      <th>X164</th>\n",
              "      <th>X165</th>\n",
              "      <th>X166</th>\n",
              "      <th>X167</th>\n",
              "      <th>X168</th>\n",
              "      <th>X169</th>\n",
              "      <th>X170</th>\n",
              "      <th>X171</th>\n",
              "      <th>X172</th>\n",
              "      <th>X173</th>\n",
              "      <th>X174</th>\n",
              "      <th>X175</th>\n",
              "      <th>X176</th>\n",
              "      <th>X177</th>\n",
              "      <th>X178</th>\n",
              "      <th>y</th>\n",
              "    </tr>\n",
              "  </thead>\n",
              "  <tbody>\n",
              "    <tr>\n",
              "      <th>X21.V1.791</th>\n",
              "      <td>135</td>\n",
              "      <td>190</td>\n",
              "      <td>229</td>\n",
              "      <td>223</td>\n",
              "      <td>192</td>\n",
              "      <td>125</td>\n",
              "      <td>55</td>\n",
              "      <td>-9</td>\n",
              "      <td>-33</td>\n",
              "      <td>-38</td>\n",
              "      <td>-10</td>\n",
              "      <td>35</td>\n",
              "      <td>64</td>\n",
              "      <td>113</td>\n",
              "      <td>152</td>\n",
              "      <td>164</td>\n",
              "      <td>127</td>\n",
              "      <td>50</td>\n",
              "      <td>-47</td>\n",
              "      <td>-121</td>\n",
              "      <td>-138</td>\n",
              "      <td>-125</td>\n",
              "      <td>-101</td>\n",
              "      <td>-50</td>\n",
              "      <td>11</td>\n",
              "      <td>39</td>\n",
              "      <td>24</td>\n",
              "      <td>48</td>\n",
              "      <td>64</td>\n",
              "      <td>46</td>\n",
              "      <td>13</td>\n",
              "      <td>-19</td>\n",
              "      <td>-61</td>\n",
              "      <td>-96</td>\n",
              "      <td>-130</td>\n",
              "      <td>-132</td>\n",
              "      <td>-116</td>\n",
              "      <td>-115</td>\n",
              "      <td>-71</td>\n",
              "      <td>-14</td>\n",
              "      <td>...</td>\n",
              "      <td>54</td>\n",
              "      <td>90</td>\n",
              "      <td>111</td>\n",
              "      <td>107</td>\n",
              "      <td>64</td>\n",
              "      <td>32</td>\n",
              "      <td>18</td>\n",
              "      <td>-25</td>\n",
              "      <td>-69</td>\n",
              "      <td>-65</td>\n",
              "      <td>-44</td>\n",
              "      <td>-33</td>\n",
              "      <td>-57</td>\n",
              "      <td>-88</td>\n",
              "      <td>-114</td>\n",
              "      <td>-130</td>\n",
              "      <td>-114</td>\n",
              "      <td>-83</td>\n",
              "      <td>-53</td>\n",
              "      <td>-79</td>\n",
              "      <td>-72</td>\n",
              "      <td>-85</td>\n",
              "      <td>-109</td>\n",
              "      <td>-98</td>\n",
              "      <td>-72</td>\n",
              "      <td>-65</td>\n",
              "      <td>-63</td>\n",
              "      <td>-11</td>\n",
              "      <td>10</td>\n",
              "      <td>8</td>\n",
              "      <td>-17</td>\n",
              "      <td>-15</td>\n",
              "      <td>-31</td>\n",
              "      <td>-77</td>\n",
              "      <td>-103</td>\n",
              "      <td>-127</td>\n",
              "      <td>-116</td>\n",
              "      <td>-83</td>\n",
              "      <td>-51</td>\n",
              "      <td>4</td>\n",
              "    </tr>\n",
              "    <tr>\n",
              "      <th>X15.V1.924</th>\n",
              "      <td>386</td>\n",
              "      <td>382</td>\n",
              "      <td>356</td>\n",
              "      <td>331</td>\n",
              "      <td>320</td>\n",
              "      <td>315</td>\n",
              "      <td>307</td>\n",
              "      <td>272</td>\n",
              "      <td>244</td>\n",
              "      <td>232</td>\n",
              "      <td>237</td>\n",
              "      <td>258</td>\n",
              "      <td>212</td>\n",
              "      <td>2</td>\n",
              "      <td>-267</td>\n",
              "      <td>-605</td>\n",
              "      <td>-850</td>\n",
              "      <td>-1001</td>\n",
              "      <td>-1109</td>\n",
              "      <td>-1090</td>\n",
              "      <td>-967</td>\n",
              "      <td>-746</td>\n",
              "      <td>-464</td>\n",
              "      <td>-152</td>\n",
              "      <td>118</td>\n",
              "      <td>318</td>\n",
              "      <td>427</td>\n",
              "      <td>473</td>\n",
              "      <td>485</td>\n",
              "      <td>447</td>\n",
              "      <td>397</td>\n",
              "      <td>339</td>\n",
              "      <td>312</td>\n",
              "      <td>314</td>\n",
              "      <td>326</td>\n",
              "      <td>335</td>\n",
              "      <td>332</td>\n",
              "      <td>324</td>\n",
              "      <td>310</td>\n",
              "      <td>312</td>\n",
              "      <td>...</td>\n",
              "      <td>27</td>\n",
              "      <td>146</td>\n",
              "      <td>229</td>\n",
              "      <td>269</td>\n",
              "      <td>297</td>\n",
              "      <td>307</td>\n",
              "      <td>303</td>\n",
              "      <td>305</td>\n",
              "      <td>306</td>\n",
              "      <td>307</td>\n",
              "      <td>280</td>\n",
              "      <td>231</td>\n",
              "      <td>159</td>\n",
              "      <td>85</td>\n",
              "      <td>51</td>\n",
              "      <td>43</td>\n",
              "      <td>62</td>\n",
              "      <td>63</td>\n",
              "      <td>63</td>\n",
              "      <td>69</td>\n",
              "      <td>89</td>\n",
              "      <td>123</td>\n",
              "      <td>136</td>\n",
              "      <td>127</td>\n",
              "      <td>102</td>\n",
              "      <td>95</td>\n",
              "      <td>105</td>\n",
              "      <td>131</td>\n",
              "      <td>163</td>\n",
              "      <td>168</td>\n",
              "      <td>164</td>\n",
              "      <td>150</td>\n",
              "      <td>146</td>\n",
              "      <td>152</td>\n",
              "      <td>157</td>\n",
              "      <td>156</td>\n",
              "      <td>154</td>\n",
              "      <td>143</td>\n",
              "      <td>129</td>\n",
              "      <td>1</td>\n",
              "    </tr>\n",
              "    <tr>\n",
              "      <th>X8.V1.1</th>\n",
              "      <td>-32</td>\n",
              "      <td>-39</td>\n",
              "      <td>-47</td>\n",
              "      <td>-37</td>\n",
              "      <td>-32</td>\n",
              "      <td>-36</td>\n",
              "      <td>-57</td>\n",
              "      <td>-73</td>\n",
              "      <td>-85</td>\n",
              "      <td>-94</td>\n",
              "      <td>-99</td>\n",
              "      <td>-94</td>\n",
              "      <td>-96</td>\n",
              "      <td>-104</td>\n",
              "      <td>-103</td>\n",
              "      <td>-92</td>\n",
              "      <td>-75</td>\n",
              "      <td>-69</td>\n",
              "      <td>-69</td>\n",
              "      <td>-53</td>\n",
              "      <td>-37</td>\n",
              "      <td>-14</td>\n",
              "      <td>-10</td>\n",
              "      <td>-39</td>\n",
              "      <td>-78</td>\n",
              "      <td>-102</td>\n",
              "      <td>-98</td>\n",
              "      <td>-80</td>\n",
              "      <td>-54</td>\n",
              "      <td>-40</td>\n",
              "      <td>-35</td>\n",
              "      <td>-39</td>\n",
              "      <td>-32</td>\n",
              "      <td>-13</td>\n",
              "      <td>7</td>\n",
              "      <td>34</td>\n",
              "      <td>41</td>\n",
              "      <td>33</td>\n",
              "      <td>6</td>\n",
              "      <td>-15</td>\n",
              "      <td>...</td>\n",
              "      <td>-82</td>\n",
              "      <td>-107</td>\n",
              "      <td>-126</td>\n",
              "      <td>-124</td>\n",
              "      <td>-108</td>\n",
              "      <td>-84</td>\n",
              "      <td>-68</td>\n",
              "      <td>-61</td>\n",
              "      <td>-56</td>\n",
              "      <td>-63</td>\n",
              "      <td>-62</td>\n",
              "      <td>-33</td>\n",
              "      <td>1</td>\n",
              "      <td>28</td>\n",
              "      <td>45</td>\n",
              "      <td>37</td>\n",
              "      <td>48</td>\n",
              "      <td>62</td>\n",
              "      <td>80</td>\n",
              "      <td>66</td>\n",
              "      <td>23</td>\n",
              "      <td>-11</td>\n",
              "      <td>-39</td>\n",
              "      <td>-44</td>\n",
              "      <td>-42</td>\n",
              "      <td>-45</td>\n",
              "      <td>-48</td>\n",
              "      <td>-42</td>\n",
              "      <td>-6</td>\n",
              "      <td>29</td>\n",
              "      <td>57</td>\n",
              "      <td>64</td>\n",
              "      <td>48</td>\n",
              "      <td>19</td>\n",
              "      <td>-12</td>\n",
              "      <td>-30</td>\n",
              "      <td>-35</td>\n",
              "      <td>-35</td>\n",
              "      <td>-36</td>\n",
              "      <td>5</td>\n",
              "    </tr>\n",
              "    <tr>\n",
              "      <th>X16.V1.60</th>\n",
              "      <td>-105</td>\n",
              "      <td>-101</td>\n",
              "      <td>-96</td>\n",
              "      <td>-92</td>\n",
              "      <td>-89</td>\n",
              "      <td>-95</td>\n",
              "      <td>-102</td>\n",
              "      <td>-100</td>\n",
              "      <td>-87</td>\n",
              "      <td>-79</td>\n",
              "      <td>-72</td>\n",
              "      <td>-68</td>\n",
              "      <td>-74</td>\n",
              "      <td>-80</td>\n",
              "      <td>-83</td>\n",
              "      <td>-73</td>\n",
              "      <td>-68</td>\n",
              "      <td>-61</td>\n",
              "      <td>-58</td>\n",
              "      <td>-59</td>\n",
              "      <td>-64</td>\n",
              "      <td>-79</td>\n",
              "      <td>-84</td>\n",
              "      <td>-97</td>\n",
              "      <td>-94</td>\n",
              "      <td>-84</td>\n",
              "      <td>-77</td>\n",
              "      <td>-75</td>\n",
              "      <td>-72</td>\n",
              "      <td>-68</td>\n",
              "      <td>-76</td>\n",
              "      <td>-76</td>\n",
              "      <td>-72</td>\n",
              "      <td>-67</td>\n",
              "      <td>-69</td>\n",
              "      <td>-69</td>\n",
              "      <td>-69</td>\n",
              "      <td>-67</td>\n",
              "      <td>-68</td>\n",
              "      <td>-69</td>\n",
              "      <td>...</td>\n",
              "      <td>-69</td>\n",
              "      <td>-66</td>\n",
              "      <td>-74</td>\n",
              "      <td>-69</td>\n",
              "      <td>-61</td>\n",
              "      <td>-51</td>\n",
              "      <td>-45</td>\n",
              "      <td>-45</td>\n",
              "      <td>-49</td>\n",
              "      <td>-58</td>\n",
              "      <td>-64</td>\n",
              "      <td>-78</td>\n",
              "      <td>-80</td>\n",
              "      <td>-90</td>\n",
              "      <td>-87</td>\n",
              "      <td>-83</td>\n",
              "      <td>-78</td>\n",
              "      <td>-64</td>\n",
              "      <td>-38</td>\n",
              "      <td>-22</td>\n",
              "      <td>-29</td>\n",
              "      <td>-42</td>\n",
              "      <td>-51</td>\n",
              "      <td>-68</td>\n",
              "      <td>-71</td>\n",
              "      <td>-69</td>\n",
              "      <td>-69</td>\n",
              "      <td>-74</td>\n",
              "      <td>-74</td>\n",
              "      <td>-80</td>\n",
              "      <td>-82</td>\n",
              "      <td>-81</td>\n",
              "      <td>-80</td>\n",
              "      <td>-77</td>\n",
              "      <td>-85</td>\n",
              "      <td>-77</td>\n",
              "      <td>-72</td>\n",
              "      <td>-69</td>\n",
              "      <td>-65</td>\n",
              "      <td>5</td>\n",
              "    </tr>\n",
              "    <tr>\n",
              "      <th>X20.V1.54</th>\n",
              "      <td>-9</td>\n",
              "      <td>-65</td>\n",
              "      <td>-98</td>\n",
              "      <td>-102</td>\n",
              "      <td>-78</td>\n",
              "      <td>-48</td>\n",
              "      <td>-16</td>\n",
              "      <td>0</td>\n",
              "      <td>-21</td>\n",
              "      <td>-59</td>\n",
              "      <td>-90</td>\n",
              "      <td>-103</td>\n",
              "      <td>-84</td>\n",
              "      <td>-43</td>\n",
              "      <td>-9</td>\n",
              "      <td>3</td>\n",
              "      <td>-21</td>\n",
              "      <td>-60</td>\n",
              "      <td>-96</td>\n",
              "      <td>-103</td>\n",
              "      <td>-75</td>\n",
              "      <td>-29</td>\n",
              "      <td>14</td>\n",
              "      <td>55</td>\n",
              "      <td>78</td>\n",
              "      <td>73</td>\n",
              "      <td>28</td>\n",
              "      <td>-13</td>\n",
              "      <td>-43</td>\n",
              "      <td>-68</td>\n",
              "      <td>-78</td>\n",
              "      <td>-75</td>\n",
              "      <td>-55</td>\n",
              "      <td>-41</td>\n",
              "      <td>-19</td>\n",
              "      <td>-20</td>\n",
              "      <td>-29</td>\n",
              "      <td>-36</td>\n",
              "      <td>-20</td>\n",
              "      <td>1</td>\n",
              "      <td>...</td>\n",
              "      <td>38</td>\n",
              "      <td>26</td>\n",
              "      <td>10</td>\n",
              "      <td>-4</td>\n",
              "      <td>-13</td>\n",
              "      <td>-8</td>\n",
              "      <td>0</td>\n",
              "      <td>10</td>\n",
              "      <td>19</td>\n",
              "      <td>29</td>\n",
              "      <td>57</td>\n",
              "      <td>63</td>\n",
              "      <td>45</td>\n",
              "      <td>7</td>\n",
              "      <td>-13</td>\n",
              "      <td>-23</td>\n",
              "      <td>-9</td>\n",
              "      <td>9</td>\n",
              "      <td>11</td>\n",
              "      <td>3</td>\n",
              "      <td>-1</td>\n",
              "      <td>-2</td>\n",
              "      <td>4</td>\n",
              "      <td>18</td>\n",
              "      <td>27</td>\n",
              "      <td>27</td>\n",
              "      <td>14</td>\n",
              "      <td>15</td>\n",
              "      <td>11</td>\n",
              "      <td>10</td>\n",
              "      <td>4</td>\n",
              "      <td>2</td>\n",
              "      <td>-12</td>\n",
              "      <td>-32</td>\n",
              "      <td>-41</td>\n",
              "      <td>-65</td>\n",
              "      <td>-83</td>\n",
              "      <td>-89</td>\n",
              "      <td>-73</td>\n",
              "      <td>5</td>\n",
              "    </tr>\n",
              "  </tbody>\n",
              "</table>\n",
              "<p>5 rows × 179 columns</p>\n",
              "</div>"
            ],
            "text/plain": [
              "             X1   X2   X3   X4   X5   X6  ...  X174  X175  X176  X177  X178  y\n",
              "X21.V1.791  135  190  229  223  192  125  ...  -103  -127  -116   -83   -51  4\n",
              "X15.V1.924  386  382  356  331  320  315  ...   157   156   154   143   129  1\n",
              "X8.V1.1     -32  -39  -47  -37  -32  -36  ...   -12   -30   -35   -35   -36  5\n",
              "X16.V1.60  -105 -101  -96  -92  -89  -95  ...   -85   -77   -72   -69   -65  5\n",
              "X20.V1.54    -9  -65  -98 -102  -78  -48  ...   -41   -65   -83   -89   -73  5\n",
              "\n",
              "[5 rows x 179 columns]"
            ]
          },
          "metadata": {
            "tags": []
          },
          "execution_count": 11
        }
      ]
    },
    {
      "cell_type": "code",
      "metadata": {
        "id": "Y_1V3PW7nT9x",
        "colab_type": "code",
        "outputId": "346b8d55-14c2-44a9-e256-3c8b2bc67129",
        "colab": {
          "base_uri": "https://localhost:8080/",
          "height": 343
        }
      },
      "source": [
        "raw.describe()"
      ],
      "execution_count": 0,
      "outputs": [
        {
          "output_type": "execute_result",
          "data": {
            "text/html": [
              "<div>\n",
              "<style scoped>\n",
              "    .dataframe tbody tr th:only-of-type {\n",
              "        vertical-align: middle;\n",
              "    }\n",
              "\n",
              "    .dataframe tbody tr th {\n",
              "        vertical-align: top;\n",
              "    }\n",
              "\n",
              "    .dataframe thead th {\n",
              "        text-align: right;\n",
              "    }\n",
              "</style>\n",
              "<table border=\"1\" class=\"dataframe\">\n",
              "  <thead>\n",
              "    <tr style=\"text-align: right;\">\n",
              "      <th></th>\n",
              "      <th>X1</th>\n",
              "      <th>X2</th>\n",
              "      <th>X3</th>\n",
              "      <th>X4</th>\n",
              "      <th>X5</th>\n",
              "      <th>X6</th>\n",
              "      <th>X7</th>\n",
              "      <th>X8</th>\n",
              "      <th>X9</th>\n",
              "      <th>X10</th>\n",
              "      <th>X11</th>\n",
              "      <th>X12</th>\n",
              "      <th>X13</th>\n",
              "      <th>X14</th>\n",
              "      <th>X15</th>\n",
              "      <th>X16</th>\n",
              "      <th>X17</th>\n",
              "      <th>X18</th>\n",
              "      <th>X19</th>\n",
              "      <th>X20</th>\n",
              "      <th>X21</th>\n",
              "      <th>X22</th>\n",
              "      <th>X23</th>\n",
              "      <th>X24</th>\n",
              "      <th>X25</th>\n",
              "      <th>X26</th>\n",
              "      <th>X27</th>\n",
              "      <th>X28</th>\n",
              "      <th>X29</th>\n",
              "      <th>X30</th>\n",
              "      <th>X31</th>\n",
              "      <th>X32</th>\n",
              "      <th>X33</th>\n",
              "      <th>X34</th>\n",
              "      <th>X35</th>\n",
              "      <th>X36</th>\n",
              "      <th>X37</th>\n",
              "      <th>X38</th>\n",
              "      <th>X39</th>\n",
              "      <th>X40</th>\n",
              "      <th>...</th>\n",
              "      <th>X140</th>\n",
              "      <th>X141</th>\n",
              "      <th>X142</th>\n",
              "      <th>X143</th>\n",
              "      <th>X144</th>\n",
              "      <th>X145</th>\n",
              "      <th>X146</th>\n",
              "      <th>X147</th>\n",
              "      <th>X148</th>\n",
              "      <th>X149</th>\n",
              "      <th>X150</th>\n",
              "      <th>X151</th>\n",
              "      <th>X152</th>\n",
              "      <th>X153</th>\n",
              "      <th>X154</th>\n",
              "      <th>X155</th>\n",
              "      <th>X156</th>\n",
              "      <th>X157</th>\n",
              "      <th>X158</th>\n",
              "      <th>X159</th>\n",
              "      <th>X160</th>\n",
              "      <th>X161</th>\n",
              "      <th>X162</th>\n",
              "      <th>X163</th>\n",
              "      <th>X164</th>\n",
              "      <th>X165</th>\n",
              "      <th>X166</th>\n",
              "      <th>X167</th>\n",
              "      <th>X168</th>\n",
              "      <th>X169</th>\n",
              "      <th>X170</th>\n",
              "      <th>X171</th>\n",
              "      <th>X172</th>\n",
              "      <th>X173</th>\n",
              "      <th>X174</th>\n",
              "      <th>X175</th>\n",
              "      <th>X176</th>\n",
              "      <th>X177</th>\n",
              "      <th>X178</th>\n",
              "      <th>y</th>\n",
              "    </tr>\n",
              "  </thead>\n",
              "  <tbody>\n",
              "    <tr>\n",
              "      <th>count</th>\n",
              "      <td>11500.000000</td>\n",
              "      <td>11500.000000</td>\n",
              "      <td>11500.000000</td>\n",
              "      <td>11500.000000</td>\n",
              "      <td>11500.000000</td>\n",
              "      <td>11500.000000</td>\n",
              "      <td>11500.000000</td>\n",
              "      <td>11500.00000</td>\n",
              "      <td>11500.00000</td>\n",
              "      <td>11500.000000</td>\n",
              "      <td>11500.000000</td>\n",
              "      <td>11500.000000</td>\n",
              "      <td>11500.000000</td>\n",
              "      <td>11500.000000</td>\n",
              "      <td>11500.000000</td>\n",
              "      <td>11500.000000</td>\n",
              "      <td>11500.000000</td>\n",
              "      <td>11500.000000</td>\n",
              "      <td>11500.000000</td>\n",
              "      <td>11500.000000</td>\n",
              "      <td>11500.000000</td>\n",
              "      <td>11500.000000</td>\n",
              "      <td>11500.000000</td>\n",
              "      <td>11500.000000</td>\n",
              "      <td>11500.000000</td>\n",
              "      <td>11500.00000</td>\n",
              "      <td>11500.000000</td>\n",
              "      <td>11500.000000</td>\n",
              "      <td>11500.000000</td>\n",
              "      <td>11500.000000</td>\n",
              "      <td>11500.000000</td>\n",
              "      <td>11500.000000</td>\n",
              "      <td>11500.000000</td>\n",
              "      <td>11500.000000</td>\n",
              "      <td>11500.000000</td>\n",
              "      <td>11500.000000</td>\n",
              "      <td>11500.000000</td>\n",
              "      <td>11500.000000</td>\n",
              "      <td>11500.000000</td>\n",
              "      <td>11500.000000</td>\n",
              "      <td>...</td>\n",
              "      <td>11500.000000</td>\n",
              "      <td>11500.000000</td>\n",
              "      <td>11500.000000</td>\n",
              "      <td>11500.000000</td>\n",
              "      <td>11500.000000</td>\n",
              "      <td>11500.000000</td>\n",
              "      <td>11500.000000</td>\n",
              "      <td>11500.000000</td>\n",
              "      <td>11500.000000</td>\n",
              "      <td>11500.000000</td>\n",
              "      <td>11500.000000</td>\n",
              "      <td>11500.000000</td>\n",
              "      <td>11500.000000</td>\n",
              "      <td>11500.000000</td>\n",
              "      <td>11500.000000</td>\n",
              "      <td>11500.000000</td>\n",
              "      <td>11500.000000</td>\n",
              "      <td>11500.000000</td>\n",
              "      <td>11500.000000</td>\n",
              "      <td>11500.000000</td>\n",
              "      <td>11500.000000</td>\n",
              "      <td>11500.000000</td>\n",
              "      <td>11500.000000</td>\n",
              "      <td>11500.000000</td>\n",
              "      <td>11500.000000</td>\n",
              "      <td>11500.000000</td>\n",
              "      <td>11500.000000</td>\n",
              "      <td>11500.000000</td>\n",
              "      <td>11500.000000</td>\n",
              "      <td>11500.000000</td>\n",
              "      <td>11500.000000</td>\n",
              "      <td>11500.000000</td>\n",
              "      <td>11500.000000</td>\n",
              "      <td>11500.000000</td>\n",
              "      <td>11500.000000</td>\n",
              "      <td>11500.000000</td>\n",
              "      <td>11500.000000</td>\n",
              "      <td>11500.000000</td>\n",
              "      <td>11500.000000</td>\n",
              "      <td>11500.000000</td>\n",
              "    </tr>\n",
              "    <tr>\n",
              "      <th>mean</th>\n",
              "      <td>-11.581391</td>\n",
              "      <td>-10.911565</td>\n",
              "      <td>-10.187130</td>\n",
              "      <td>-9.143043</td>\n",
              "      <td>-8.009739</td>\n",
              "      <td>-7.003478</td>\n",
              "      <td>-6.502087</td>\n",
              "      <td>-6.68713</td>\n",
              "      <td>-6.55800</td>\n",
              "      <td>-6.168435</td>\n",
              "      <td>-5.827478</td>\n",
              "      <td>-6.042174</td>\n",
              "      <td>-6.687304</td>\n",
              "      <td>-7.088870</td>\n",
              "      <td>-7.211217</td>\n",
              "      <td>-7.088261</td>\n",
              "      <td>-6.806696</td>\n",
              "      <td>-6.744696</td>\n",
              "      <td>-6.484783</td>\n",
              "      <td>-6.448435</td>\n",
              "      <td>-6.355391</td>\n",
              "      <td>-6.543130</td>\n",
              "      <td>-6.884348</td>\n",
              "      <td>-6.883217</td>\n",
              "      <td>-6.118870</td>\n",
              "      <td>-5.15913</td>\n",
              "      <td>-4.785652</td>\n",
              "      <td>-4.874783</td>\n",
              "      <td>-5.393565</td>\n",
              "      <td>-5.935478</td>\n",
              "      <td>-6.349913</td>\n",
              "      <td>-6.212522</td>\n",
              "      <td>-5.859826</td>\n",
              "      <td>-5.299826</td>\n",
              "      <td>-4.955652</td>\n",
              "      <td>-5.278087</td>\n",
              "      <td>-6.162261</td>\n",
              "      <td>-7.316609</td>\n",
              "      <td>-7.998522</td>\n",
              "      <td>-7.818870</td>\n",
              "      <td>...</td>\n",
              "      <td>-6.997304</td>\n",
              "      <td>-7.339391</td>\n",
              "      <td>-7.911565</td>\n",
              "      <td>-8.177304</td>\n",
              "      <td>-8.608870</td>\n",
              "      <td>-8.578087</td>\n",
              "      <td>-8.240000</td>\n",
              "      <td>-7.691391</td>\n",
              "      <td>-7.356522</td>\n",
              "      <td>-7.228783</td>\n",
              "      <td>-6.980870</td>\n",
              "      <td>-6.756783</td>\n",
              "      <td>-6.355304</td>\n",
              "      <td>-6.423826</td>\n",
              "      <td>-6.465217</td>\n",
              "      <td>-6.316435</td>\n",
              "      <td>-5.808000</td>\n",
              "      <td>-5.255913</td>\n",
              "      <td>-4.682087</td>\n",
              "      <td>-4.638609</td>\n",
              "      <td>-4.770261</td>\n",
              "      <td>-5.650870</td>\n",
              "      <td>-7.170348</td>\n",
              "      <td>-8.759826</td>\n",
              "      <td>-9.784783</td>\n",
              "      <td>-10.096261</td>\n",
              "      <td>-9.842957</td>\n",
              "      <td>-9.701739</td>\n",
              "      <td>-9.351391</td>\n",
              "      <td>-9.498870</td>\n",
              "      <td>-10.145739</td>\n",
              "      <td>-11.630348</td>\n",
              "      <td>-12.943478</td>\n",
              "      <td>-13.668870</td>\n",
              "      <td>-13.363304</td>\n",
              "      <td>-13.045043</td>\n",
              "      <td>-12.705130</td>\n",
              "      <td>-12.426000</td>\n",
              "      <td>-12.195652</td>\n",
              "      <td>3.000000</td>\n",
              "    </tr>\n",
              "    <tr>\n",
              "      <th>std</th>\n",
              "      <td>165.626284</td>\n",
              "      <td>166.059609</td>\n",
              "      <td>163.524317</td>\n",
              "      <td>161.269041</td>\n",
              "      <td>160.998007</td>\n",
              "      <td>161.328725</td>\n",
              "      <td>161.467837</td>\n",
              "      <td>162.11912</td>\n",
              "      <td>162.03336</td>\n",
              "      <td>160.436352</td>\n",
              "      <td>160.471017</td>\n",
              "      <td>161.181118</td>\n",
              "      <td>165.071121</td>\n",
              "      <td>169.198359</td>\n",
              "      <td>170.641967</td>\n",
              "      <td>168.930355</td>\n",
              "      <td>164.646296</td>\n",
              "      <td>162.062661</td>\n",
              "      <td>162.571333</td>\n",
              "      <td>162.339911</td>\n",
              "      <td>162.823325</td>\n",
              "      <td>163.909723</td>\n",
              "      <td>165.844176</td>\n",
              "      <td>166.009100</td>\n",
              "      <td>164.715153</td>\n",
              "      <td>162.77423</td>\n",
              "      <td>162.902294</td>\n",
              "      <td>164.799831</td>\n",
              "      <td>165.391697</td>\n",
              "      <td>164.291120</td>\n",
              "      <td>163.165167</td>\n",
              "      <td>163.408052</td>\n",
              "      <td>163.561408</td>\n",
              "      <td>162.548119</td>\n",
              "      <td>160.813772</td>\n",
              "      <td>160.441049</td>\n",
              "      <td>162.881958</td>\n",
              "      <td>166.235164</td>\n",
              "      <td>166.314965</td>\n",
              "      <td>164.513017</td>\n",
              "      <td>...</td>\n",
              "      <td>168.567495</td>\n",
              "      <td>168.662705</td>\n",
              "      <td>167.643458</td>\n",
              "      <td>167.414439</td>\n",
              "      <td>167.922773</td>\n",
              "      <td>168.274009</td>\n",
              "      <td>167.808218</td>\n",
              "      <td>166.739558</td>\n",
              "      <td>165.678558</td>\n",
              "      <td>167.130911</td>\n",
              "      <td>168.156296</td>\n",
              "      <td>167.459868</td>\n",
              "      <td>165.061414</td>\n",
              "      <td>164.248830</td>\n",
              "      <td>166.226332</td>\n",
              "      <td>168.143625</td>\n",
              "      <td>167.067064</td>\n",
              "      <td>166.446540</td>\n",
              "      <td>167.554020</td>\n",
              "      <td>169.418457</td>\n",
              "      <td>170.639171</td>\n",
              "      <td>170.817824</td>\n",
              "      <td>168.145372</td>\n",
              "      <td>166.817974</td>\n",
              "      <td>166.999981</td>\n",
              "      <td>167.756860</td>\n",
              "      <td>166.988820</td>\n",
              "      <td>167.062497</td>\n",
              "      <td>166.606345</td>\n",
              "      <td>165.235574</td>\n",
              "      <td>164.652883</td>\n",
              "      <td>166.149790</td>\n",
              "      <td>168.554058</td>\n",
              "      <td>168.556486</td>\n",
              "      <td>167.257290</td>\n",
              "      <td>164.241019</td>\n",
              "      <td>162.895832</td>\n",
              "      <td>162.886311</td>\n",
              "      <td>164.852015</td>\n",
              "      <td>1.414275</td>\n",
              "    </tr>\n",
              "    <tr>\n",
              "      <th>min</th>\n",
              "      <td>-1839.000000</td>\n",
              "      <td>-1838.000000</td>\n",
              "      <td>-1835.000000</td>\n",
              "      <td>-1845.000000</td>\n",
              "      <td>-1791.000000</td>\n",
              "      <td>-1757.000000</td>\n",
              "      <td>-1832.000000</td>\n",
              "      <td>-1778.00000</td>\n",
              "      <td>-1840.00000</td>\n",
              "      <td>-1867.000000</td>\n",
              "      <td>-1765.000000</td>\n",
              "      <td>-1803.000000</td>\n",
              "      <td>-1833.000000</td>\n",
              "      <td>-1867.000000</td>\n",
              "      <td>-1870.000000</td>\n",
              "      <td>-1839.000000</td>\n",
              "      <td>-1867.000000</td>\n",
              "      <td>-1856.000000</td>\n",
              "      <td>-1844.000000</td>\n",
              "      <td>-1717.000000</td>\n",
              "      <td>-1764.000000</td>\n",
              "      <td>-1856.000000</td>\n",
              "      <td>-1844.000000</td>\n",
              "      <td>-1866.000000</td>\n",
              "      <td>-1863.000000</td>\n",
              "      <td>-1866.00000</td>\n",
              "      <td>-1781.000000</td>\n",
              "      <td>-1860.000000</td>\n",
              "      <td>-1818.000000</td>\n",
              "      <td>-1867.000000</td>\n",
              "      <td>-1743.000000</td>\n",
              "      <td>-1517.000000</td>\n",
              "      <td>-1552.000000</td>\n",
              "      <td>-1720.000000</td>\n",
              "      <td>-1864.000000</td>\n",
              "      <td>-1814.000000</td>\n",
              "      <td>-1829.000000</td>\n",
              "      <td>-1851.000000</td>\n",
              "      <td>-1840.000000</td>\n",
              "      <td>-1673.000000</td>\n",
              "      <td>...</td>\n",
              "      <td>-1867.000000</td>\n",
              "      <td>-1826.000000</td>\n",
              "      <td>-1866.000000</td>\n",
              "      <td>-1854.000000</td>\n",
              "      <td>-1789.000000</td>\n",
              "      <td>-1872.000000</td>\n",
              "      <td>-1866.000000</td>\n",
              "      <td>-1675.000000</td>\n",
              "      <td>-1778.000000</td>\n",
              "      <td>-1733.000000</td>\n",
              "      <td>-1862.000000</td>\n",
              "      <td>-1861.000000</td>\n",
              "      <td>-1857.000000</td>\n",
              "      <td>-1839.000000</td>\n",
              "      <td>-1860.000000</td>\n",
              "      <td>-1843.000000</td>\n",
              "      <td>-1863.000000</td>\n",
              "      <td>-1861.000000</td>\n",
              "      <td>-1845.000000</td>\n",
              "      <td>-1820.000000</td>\n",
              "      <td>-1864.000000</td>\n",
              "      <td>-1868.000000</td>\n",
              "      <td>-1855.000000</td>\n",
              "      <td>-1852.000000</td>\n",
              "      <td>-1870.000000</td>\n",
              "      <td>-1847.000000</td>\n",
              "      <td>-1578.000000</td>\n",
              "      <td>-1838.000000</td>\n",
              "      <td>-1763.000000</td>\n",
              "      <td>-1860.000000</td>\n",
              "      <td>-1867.000000</td>\n",
              "      <td>-1865.000000</td>\n",
              "      <td>-1642.000000</td>\n",
              "      <td>-1723.000000</td>\n",
              "      <td>-1866.000000</td>\n",
              "      <td>-1863.000000</td>\n",
              "      <td>-1781.000000</td>\n",
              "      <td>-1727.000000</td>\n",
              "      <td>-1829.000000</td>\n",
              "      <td>1.000000</td>\n",
              "    </tr>\n",
              "    <tr>\n",
              "      <th>25%</th>\n",
              "      <td>-54.000000</td>\n",
              "      <td>-55.000000</td>\n",
              "      <td>-54.000000</td>\n",
              "      <td>-54.000000</td>\n",
              "      <td>-54.000000</td>\n",
              "      <td>-54.000000</td>\n",
              "      <td>-54.000000</td>\n",
              "      <td>-55.00000</td>\n",
              "      <td>-55.00000</td>\n",
              "      <td>-54.000000</td>\n",
              "      <td>-54.000000</td>\n",
              "      <td>-54.000000</td>\n",
              "      <td>-54.000000</td>\n",
              "      <td>-54.000000</td>\n",
              "      <td>-53.000000</td>\n",
              "      <td>-53.000000</td>\n",
              "      <td>-53.000000</td>\n",
              "      <td>-52.000000</td>\n",
              "      <td>-53.000000</td>\n",
              "      <td>-53.000000</td>\n",
              "      <td>-53.000000</td>\n",
              "      <td>-53.000000</td>\n",
              "      <td>-53.000000</td>\n",
              "      <td>-52.000000</td>\n",
              "      <td>-52.000000</td>\n",
              "      <td>-52.00000</td>\n",
              "      <td>-51.000000</td>\n",
              "      <td>-50.000000</td>\n",
              "      <td>-50.000000</td>\n",
              "      <td>-50.000000</td>\n",
              "      <td>-51.000000</td>\n",
              "      <td>-52.000000</td>\n",
              "      <td>-52.000000</td>\n",
              "      <td>-51.000000</td>\n",
              "      <td>-51.000000</td>\n",
              "      <td>-51.000000</td>\n",
              "      <td>-51.000000</td>\n",
              "      <td>-51.000000</td>\n",
              "      <td>-52.000000</td>\n",
              "      <td>-52.000000</td>\n",
              "      <td>...</td>\n",
              "      <td>-54.000000</td>\n",
              "      <td>-55.000000</td>\n",
              "      <td>-55.000000</td>\n",
              "      <td>-56.000000</td>\n",
              "      <td>-56.000000</td>\n",
              "      <td>-56.000000</td>\n",
              "      <td>-55.000000</td>\n",
              "      <td>-57.000000</td>\n",
              "      <td>-55.000000</td>\n",
              "      <td>-55.000000</td>\n",
              "      <td>-54.000000</td>\n",
              "      <td>-54.000000</td>\n",
              "      <td>-53.000000</td>\n",
              "      <td>-53.000000</td>\n",
              "      <td>-53.000000</td>\n",
              "      <td>-52.000000</td>\n",
              "      <td>-52.250000</td>\n",
              "      <td>-52.000000</td>\n",
              "      <td>-52.000000</td>\n",
              "      <td>-53.000000</td>\n",
              "      <td>-52.000000</td>\n",
              "      <td>-52.000000</td>\n",
              "      <td>-52.000000</td>\n",
              "      <td>-53.000000</td>\n",
              "      <td>-54.000000</td>\n",
              "      <td>-54.000000</td>\n",
              "      <td>-55.000000</td>\n",
              "      <td>-55.000000</td>\n",
              "      <td>-55.000000</td>\n",
              "      <td>-55.000000</td>\n",
              "      <td>-55.000000</td>\n",
              "      <td>-56.000000</td>\n",
              "      <td>-56.000000</td>\n",
              "      <td>-56.000000</td>\n",
              "      <td>-55.000000</td>\n",
              "      <td>-56.000000</td>\n",
              "      <td>-55.000000</td>\n",
              "      <td>-55.000000</td>\n",
              "      <td>-55.000000</td>\n",
              "      <td>2.000000</td>\n",
              "    </tr>\n",
              "    <tr>\n",
              "      <th>50%</th>\n",
              "      <td>-8.000000</td>\n",
              "      <td>-8.000000</td>\n",
              "      <td>-7.000000</td>\n",
              "      <td>-8.000000</td>\n",
              "      <td>-8.000000</td>\n",
              "      <td>-8.000000</td>\n",
              "      <td>-8.000000</td>\n",
              "      <td>-8.00000</td>\n",
              "      <td>-7.00000</td>\n",
              "      <td>-7.000000</td>\n",
              "      <td>-8.000000</td>\n",
              "      <td>-8.000000</td>\n",
              "      <td>-8.000000</td>\n",
              "      <td>-8.000000</td>\n",
              "      <td>-7.000000</td>\n",
              "      <td>-7.000000</td>\n",
              "      <td>-6.000000</td>\n",
              "      <td>-7.000000</td>\n",
              "      <td>-6.000000</td>\n",
              "      <td>-6.000000</td>\n",
              "      <td>-7.000000</td>\n",
              "      <td>-6.000000</td>\n",
              "      <td>-6.000000</td>\n",
              "      <td>-7.000000</td>\n",
              "      <td>-7.000000</td>\n",
              "      <td>-6.00000</td>\n",
              "      <td>-6.000000</td>\n",
              "      <td>-6.000000</td>\n",
              "      <td>-5.000000</td>\n",
              "      <td>-5.000000</td>\n",
              "      <td>-5.000000</td>\n",
              "      <td>-6.000000</td>\n",
              "      <td>-6.000000</td>\n",
              "      <td>-6.000000</td>\n",
              "      <td>-6.000000</td>\n",
              "      <td>-6.000000</td>\n",
              "      <td>-6.000000</td>\n",
              "      <td>-6.000000</td>\n",
              "      <td>-7.000000</td>\n",
              "      <td>-7.000000</td>\n",
              "      <td>...</td>\n",
              "      <td>-7.000000</td>\n",
              "      <td>-8.000000</td>\n",
              "      <td>-8.000000</td>\n",
              "      <td>-8.000000</td>\n",
              "      <td>-8.000000</td>\n",
              "      <td>-8.000000</td>\n",
              "      <td>-8.000000</td>\n",
              "      <td>-9.000000</td>\n",
              "      <td>-9.000000</td>\n",
              "      <td>-9.000000</td>\n",
              "      <td>-8.000000</td>\n",
              "      <td>-8.000000</td>\n",
              "      <td>-7.000000</td>\n",
              "      <td>-7.000000</td>\n",
              "      <td>-7.000000</td>\n",
              "      <td>-7.000000</td>\n",
              "      <td>-7.000000</td>\n",
              "      <td>-7.000000</td>\n",
              "      <td>-7.000000</td>\n",
              "      <td>-7.000000</td>\n",
              "      <td>-6.000000</td>\n",
              "      <td>-7.000000</td>\n",
              "      <td>-7.000000</td>\n",
              "      <td>-7.000000</td>\n",
              "      <td>-8.000000</td>\n",
              "      <td>-8.000000</td>\n",
              "      <td>-9.000000</td>\n",
              "      <td>-9.000000</td>\n",
              "      <td>-8.000000</td>\n",
              "      <td>-8.000000</td>\n",
              "      <td>-9.000000</td>\n",
              "      <td>-10.000000</td>\n",
              "      <td>-10.000000</td>\n",
              "      <td>-10.000000</td>\n",
              "      <td>-10.000000</td>\n",
              "      <td>-9.000000</td>\n",
              "      <td>-9.000000</td>\n",
              "      <td>-9.000000</td>\n",
              "      <td>-9.000000</td>\n",
              "      <td>3.000000</td>\n",
              "    </tr>\n",
              "    <tr>\n",
              "      <th>75%</th>\n",
              "      <td>34.000000</td>\n",
              "      <td>35.000000</td>\n",
              "      <td>36.000000</td>\n",
              "      <td>36.000000</td>\n",
              "      <td>35.000000</td>\n",
              "      <td>36.000000</td>\n",
              "      <td>35.000000</td>\n",
              "      <td>36.00000</td>\n",
              "      <td>36.00000</td>\n",
              "      <td>35.250000</td>\n",
              "      <td>36.000000</td>\n",
              "      <td>35.000000</td>\n",
              "      <td>36.000000</td>\n",
              "      <td>37.000000</td>\n",
              "      <td>37.000000</td>\n",
              "      <td>38.000000</td>\n",
              "      <td>37.000000</td>\n",
              "      <td>38.000000</td>\n",
              "      <td>38.000000</td>\n",
              "      <td>39.000000</td>\n",
              "      <td>39.000000</td>\n",
              "      <td>38.000000</td>\n",
              "      <td>37.000000</td>\n",
              "      <td>38.000000</td>\n",
              "      <td>37.000000</td>\n",
              "      <td>38.00000</td>\n",
              "      <td>37.000000</td>\n",
              "      <td>38.250000</td>\n",
              "      <td>38.000000</td>\n",
              "      <td>38.000000</td>\n",
              "      <td>38.000000</td>\n",
              "      <td>38.000000</td>\n",
              "      <td>38.000000</td>\n",
              "      <td>38.000000</td>\n",
              "      <td>39.000000</td>\n",
              "      <td>39.000000</td>\n",
              "      <td>39.000000</td>\n",
              "      <td>38.000000</td>\n",
              "      <td>38.000000</td>\n",
              "      <td>37.000000</td>\n",
              "      <td>...</td>\n",
              "      <td>36.000000</td>\n",
              "      <td>35.000000</td>\n",
              "      <td>35.000000</td>\n",
              "      <td>35.000000</td>\n",
              "      <td>35.000000</td>\n",
              "      <td>35.000000</td>\n",
              "      <td>35.000000</td>\n",
              "      <td>35.000000</td>\n",
              "      <td>34.000000</td>\n",
              "      <td>35.000000</td>\n",
              "      <td>36.000000</td>\n",
              "      <td>36.000000</td>\n",
              "      <td>36.000000</td>\n",
              "      <td>37.000000</td>\n",
              "      <td>36.000000</td>\n",
              "      <td>36.000000</td>\n",
              "      <td>35.250000</td>\n",
              "      <td>36.000000</td>\n",
              "      <td>36.000000</td>\n",
              "      <td>37.000000</td>\n",
              "      <td>36.000000</td>\n",
              "      <td>36.000000</td>\n",
              "      <td>37.000000</td>\n",
              "      <td>35.000000</td>\n",
              "      <td>35.000000</td>\n",
              "      <td>34.000000</td>\n",
              "      <td>35.000000</td>\n",
              "      <td>35.000000</td>\n",
              "      <td>34.000000</td>\n",
              "      <td>35.000000</td>\n",
              "      <td>34.000000</td>\n",
              "      <td>34.000000</td>\n",
              "      <td>33.000000</td>\n",
              "      <td>33.000000</td>\n",
              "      <td>34.000000</td>\n",
              "      <td>34.000000</td>\n",
              "      <td>34.000000</td>\n",
              "      <td>34.000000</td>\n",
              "      <td>34.000000</td>\n",
              "      <td>4.000000</td>\n",
              "    </tr>\n",
              "    <tr>\n",
              "      <th>max</th>\n",
              "      <td>1726.000000</td>\n",
              "      <td>1713.000000</td>\n",
              "      <td>1697.000000</td>\n",
              "      <td>1612.000000</td>\n",
              "      <td>1518.000000</td>\n",
              "      <td>1816.000000</td>\n",
              "      <td>2047.000000</td>\n",
              "      <td>2047.00000</td>\n",
              "      <td>2047.00000</td>\n",
              "      <td>2047.000000</td>\n",
              "      <td>2047.000000</td>\n",
              "      <td>2047.000000</td>\n",
              "      <td>2047.000000</td>\n",
              "      <td>1829.000000</td>\n",
              "      <td>1631.000000</td>\n",
              "      <td>1532.000000</td>\n",
              "      <td>1441.000000</td>\n",
              "      <td>1352.000000</td>\n",
              "      <td>1504.000000</td>\n",
              "      <td>1821.000000</td>\n",
              "      <td>2022.000000</td>\n",
              "      <td>2047.000000</td>\n",
              "      <td>2040.000000</td>\n",
              "      <td>1879.000000</td>\n",
              "      <td>1666.000000</td>\n",
              "      <td>1435.00000</td>\n",
              "      <td>1340.000000</td>\n",
              "      <td>1257.000000</td>\n",
              "      <td>1452.000000</td>\n",
              "      <td>1551.000000</td>\n",
              "      <td>1446.000000</td>\n",
              "      <td>1381.000000</td>\n",
              "      <td>1259.000000</td>\n",
              "      <td>1213.000000</td>\n",
              "      <td>1364.000000</td>\n",
              "      <td>1220.000000</td>\n",
              "      <td>1304.000000</td>\n",
              "      <td>1344.000000</td>\n",
              "      <td>1298.000000</td>\n",
              "      <td>1518.000000</td>\n",
              "      <td>...</td>\n",
              "      <td>2047.000000</td>\n",
              "      <td>2047.000000</td>\n",
              "      <td>2047.000000</td>\n",
              "      <td>2045.000000</td>\n",
              "      <td>2047.000000</td>\n",
              "      <td>2047.000000</td>\n",
              "      <td>2047.000000</td>\n",
              "      <td>2047.000000</td>\n",
              "      <td>1934.000000</td>\n",
              "      <td>1644.000000</td>\n",
              "      <td>1524.000000</td>\n",
              "      <td>1565.000000</td>\n",
              "      <td>1682.000000</td>\n",
              "      <td>1977.000000</td>\n",
              "      <td>2047.000000</td>\n",
              "      <td>2047.000000</td>\n",
              "      <td>1902.000000</td>\n",
              "      <td>1681.000000</td>\n",
              "      <td>1502.000000</td>\n",
              "      <td>1314.000000</td>\n",
              "      <td>1431.000000</td>\n",
              "      <td>1543.000000</td>\n",
              "      <td>1556.000000</td>\n",
              "      <td>1597.000000</td>\n",
              "      <td>1629.000000</td>\n",
              "      <td>1726.000000</td>\n",
              "      <td>2047.000000</td>\n",
              "      <td>2047.000000</td>\n",
              "      <td>2047.000000</td>\n",
              "      <td>2047.000000</td>\n",
              "      <td>1777.000000</td>\n",
              "      <td>1472.000000</td>\n",
              "      <td>1319.000000</td>\n",
              "      <td>1436.000000</td>\n",
              "      <td>1733.000000</td>\n",
              "      <td>1958.000000</td>\n",
              "      <td>2047.000000</td>\n",
              "      <td>2047.000000</td>\n",
              "      <td>1915.000000</td>\n",
              "      <td>5.000000</td>\n",
              "    </tr>\n",
              "  </tbody>\n",
              "</table>\n",
              "<p>8 rows × 179 columns</p>\n",
              "</div>"
            ],
            "text/plain": [
              "                 X1            X2  ...          X178             y\n",
              "count  11500.000000  11500.000000  ...  11500.000000  11500.000000\n",
              "mean     -11.581391    -10.911565  ...    -12.195652      3.000000\n",
              "std      165.626284    166.059609  ...    164.852015      1.414275\n",
              "min    -1839.000000  -1838.000000  ...  -1829.000000      1.000000\n",
              "25%      -54.000000    -55.000000  ...    -55.000000      2.000000\n",
              "50%       -8.000000     -8.000000  ...     -9.000000      3.000000\n",
              "75%       34.000000     35.000000  ...     34.000000      4.000000\n",
              "max     1726.000000   1713.000000  ...   1915.000000      5.000000\n",
              "\n",
              "[8 rows x 179 columns]"
            ]
          },
          "metadata": {
            "tags": []
          },
          "execution_count": 11
        }
      ]
    },
    {
      "cell_type": "code",
      "metadata": {
        "id": "ZEQyqm4YQTrb",
        "colab_type": "code",
        "outputId": "cf70e0dd-1ccf-42f3-f511-767c6804b972",
        "colab": {
          "base_uri": "https://localhost:8080/",
          "height": 306
        }
      },
      "source": [
        "correlations = raw.drop(columns='y').corr()\n",
        "fig = plt.figure()\n",
        "ax = fig.add_subplot(111)\n",
        "cax = ax.matshow(correlations, vmin=-1, vmax=1)\n",
        "fig.colorbar(cax)\n",
        "plt.show()"
      ],
      "execution_count": 0,
      "outputs": [
        {
          "output_type": "stream",
          "text": [
            "/usr/local/lib/python3.6/dist-packages/matplotlib/font_manager.py:1241: UserWarning: findfont: Font family ['Arial'] not found. Falling back to DejaVu Sans.\n",
            "  (prop.get_family(), self.defaultFamily[fontext]))\n"
          ],
          "name": "stderr"
        },
        {
          "output_type": "display_data",
          "data": {
            "image/png": "[encoded data removed]",
            "text/plain": [
              "<Figure size 432x288 with 2 Axes>"
            ]
          },
          "metadata": {
            "tags": []
          }
        }
      ]
    },
    {
      "cell_type": "markdown",
      "metadata": {
        "id": "hThjSNwnTNHe",
        "colab_type": "text"
      },
      "source": [
        "# Split data and PCA Transformation"
      ]
    },
    {
      "cell_type": "markdown",
      "metadata": {
        "id": "ZdzeahTfkV8I",
        "colab_type": "text"
      },
      "source": [
        "## Split and Standardize for Binary Classification"
      ]
    },
    {
      "cell_type": "code",
      "metadata": {
        "id": "EIBAnwfQnvFi",
        "colab_type": "code",
        "colab": {}
      },
      "source": [
        "X = raw.drop(columns='y')\n",
        "y = raw['y'].apply(lambda x: 1 if x==1 else 0)"
      ],
      "execution_count": 0,
      "outputs": []
    },
    {
      "cell_type": "code",
      "metadata": {
        "id": "yHUkxMoWnyf9",
        "colab_type": "code",
        "colab": {}
      },
      "source": [
        "X_train, X_t, y_train, y_t = train_test_split(X, y, test_size=0.3, random_state=42, stratify=y)"
      ],
      "execution_count": 0,
      "outputs": []
    },
    {
      "cell_type": "code",
      "metadata": {
        "id": "Qi9QTCJFoSrN",
        "colab_type": "code",
        "colab": {}
      },
      "source": [
        "X_valid, X_test, y_valid, y_test = train_test_split(X_t, y_t, test_size=0.5, random_state=42, stratify=y_t)"
      ],
      "execution_count": 0,
      "outputs": []
    },
    {
      "cell_type": "code",
      "metadata": {
        "id": "IYBkPFW-lCSF",
        "colab_type": "code",
        "colab": {}
      },
      "source": [
        "bscaler = StandardScaler()\n",
        "bscaler.fit(X_train)\n",
        "X_train = bscaler.transform(X_train)\n",
        "X_valid = bscaler.transform(X_valid)\n",
        "X_test = bscaler.transform(X_test)"
      ],
      "execution_count": 0,
      "outputs": []
    },
    {
      "cell_type": "markdown",
      "metadata": {
        "id": "jVJRDZZGk01E",
        "colab_type": "text"
      },
      "source": [
        "## Split and Standardize for 5-class Classification"
      ]
    },
    {
      "cell_type": "code",
      "metadata": {
        "id": "6H_bcUuk0AYj",
        "colab_type": "code",
        "colab": {}
      },
      "source": [
        "Xm = raw.drop(columns='y')\n",
        "ym = raw['y']"
      ],
      "execution_count": 0,
      "outputs": []
    },
    {
      "cell_type": "code",
      "metadata": {
        "id": "895oUsgPUrm3",
        "colab_type": "code",
        "colab": {}
      },
      "source": [
        "Xm_train, Xm_t, ym_train, ym_t = train_test_split(Xm, ym, test_size=0.3, random_state=42, stratify=ym)"
      ],
      "execution_count": 0,
      "outputs": []
    },
    {
      "cell_type": "code",
      "metadata": {
        "id": "fsXiFek4Uv0_",
        "colab_type": "code",
        "colab": {}
      },
      "source": [
        "Xm_valid, Xm_test, ym_valid, ym_test = train_test_split(Xm_t, ym_t, test_size=0.5, random_state=42, stratify=ym_t)"
      ],
      "execution_count": 0,
      "outputs": []
    },
    {
      "cell_type": "code",
      "metadata": {
        "id": "Goz_XRrZlai2",
        "colab_type": "code",
        "colab": {}
      },
      "source": [
        "mscaler = StandardScaler()\n",
        "mscaler.fit(Xm_train)\n",
        "Xm_train = mscaler.transform(Xm_train)\n",
        "Xm_valid = mscaler.transform(Xm_valid)\n",
        "Xm_test = mscaler.transform(Xm_test) "
      ],
      "execution_count": 0,
      "outputs": []
    },
    {
      "cell_type": "markdown",
      "metadata": {
        "id": "GKXFJ27QQVgL",
        "colab_type": "text"
      },
      "source": [
        "## PCA Fit and Transformation"
      ]
    },
    {
      "cell_type": "markdown",
      "metadata": {
        "id": "fiI4Wv7GorB6",
        "colab_type": "text"
      },
      "source": [
        "### PCA for Binary Classification"
      ]
    },
    {
      "cell_type": "code",
      "metadata": {
        "id": "0g_zQPNOoqi7",
        "colab_type": "code",
        "outputId": "7f61b37f-9650-4e6f-ee7e-dd6760a35a3a",
        "colab": {
          "base_uri": "https://localhost:8080/",
          "height": 1000
        }
      },
      "source": [
        "features = list(X)\n",
        "colnames = np.transpose(features)\n",
        "\n",
        "#Apply PCA. Get Eigenvctors, Eigenvalues\n",
        "n_components = len(features)\n",
        "pca = PCA(n_components).fit(X_train)\n",
        "\n",
        "# generate PC labels:\n",
        "PCs=[]\n",
        "for l in range(1,n_components+1):\n",
        "    PCs.append(\"PC\"+str(l))\n",
        "    \n",
        "# Get Eigenvectors & Eigenvalues\n",
        "eigvec = pca.components_.transpose()\n",
        "eigval = pca.explained_variance_\n",
        "    \n",
        "# Calculate Loadings = Eigenvector * SQRT(Eigenvalue)\n",
        "print('Loading Matrix:'); loadings= np.sqrt(eigval)*eigvec\n",
        "print(pd.DataFrame(loadings,columns=PCs,index=colnames),'\\n')\n",
        "\n",
        "# Print out Eigenvectors\n",
        "print('\\nEigenvectors (Linear Coefficients):')\n",
        "print(pd.DataFrame(eigvec,columns=PCs,index=colnames),'\\n')\n",
        "\n",
        "var_expln= pca.explained_variance_ratio_ * 100\n",
        "eigval = -np.sort(-eigval) #descending\n",
        "npc = 45 # display-1\n",
        "print(\"Eigenvalues   :\",eigval[0:npc])\n",
        "print(\"%Explained_Var:\",var_expln[0:npc])\n",
        "print(\"%Cumulative   :\",np.cumsum(var_expln[0:npc]))\n",
        "print('\\n')\n",
        "\n",
        "# scree plot\n",
        "num_vars= len(features)\n",
        "fig = plt.figure(figsize=(8,5))\n",
        "sing_vals = np.arange(num_vars) + 1\n",
        "\n",
        "plt.plot(sing_vals, eigval, 'ro-', linewidth=2)\n",
        "plt.title('Scree Plot')\n",
        "plt.xlabel('Principal Component')\n",
        "plt.ylabel('Eigenvalue')\n",
        "plt.grid(); plt.show()\n"
      ],
      "execution_count": 0,
      "outputs": [
        {
          "output_type": "stream",
          "text": [
            "Loading Matrix:\n",
            "           PC1       PC2       PC3  ...     PC176     PC177     PC178\n",
            "X1   -0.024361  0.106342  0.078809  ...  0.000354 -0.000260  0.000136\n",
            "X2   -0.013806  0.142007  0.063134  ... -0.001122  0.000985 -0.000258\n",
            "X3   -0.003578  0.184148  0.039681  ...  0.000697 -0.001073 -0.000186\n",
            "X4    0.008878  0.220950  0.010910  ...  0.001516 -0.000404  0.001065\n",
            "X5    0.018086  0.253224 -0.019355  ... -0.002599  0.001717 -0.001075\n",
            "X6    0.024359  0.282108 -0.052530  ...  0.000457 -0.000489 -0.000581\n",
            "X7    0.018087  0.299310 -0.084502  ...  0.002190 -0.001843  0.002026\n",
            "X8    0.004598  0.300409 -0.114964  ... -0.001457  0.001861 -0.001305\n",
            "X9   -0.016944  0.285047 -0.147512  ... -0.001651  0.000164 -0.000194\n",
            "X10  -0.039097  0.256795 -0.177429  ...  0.002361 -0.001053  0.000314\n",
            "X11  -0.062119  0.214114 -0.200204  ...  0.000283  0.000087  0.000300\n",
            "X12  -0.083501  0.161189 -0.212799  ... -0.002316  0.000671 -0.000106\n",
            "X13  -0.097162  0.100557 -0.216534  ...  0.000796 -0.000071 -0.000691\n",
            "X14  -0.105475  0.042036 -0.220953  ...  0.001836 -0.000447  0.000579\n",
            "X15  -0.106813 -0.018956 -0.222859  ... -0.001556 -0.000117  0.000879\n",
            "X16  -0.111537 -0.084780 -0.217243  ... -0.000881  0.000420 -0.001834\n",
            "X17  -0.118329 -0.159670 -0.199093  ...  0.001162  0.000330  0.000757\n",
            "X18  -0.123128 -0.229200 -0.167346  ...  0.001452 -0.000689  0.001088\n",
            "X19  -0.127318 -0.282575 -0.132922  ... -0.002575 -0.000049 -0.001637\n",
            "X20  -0.126525 -0.325614 -0.090183  ... -0.000464  0.000177  0.000490\n",
            "X21  -0.128256 -0.362822 -0.042422  ...  0.003355  0.001362  0.000718\n",
            "X22  -0.125454 -0.391537  0.015561  ... -0.001365 -0.002206 -0.000636\n",
            "X23  -0.123619 -0.407878  0.078645  ... -0.002873  0.000215 -0.000686\n",
            "X24  -0.120161 -0.411521  0.142388  ...  0.002955  0.002167  0.001549\n",
            "X25  -0.116773 -0.399393  0.207385  ...  0.001242 -0.001004 -0.000379\n",
            "X26  -0.110671 -0.373094  0.272896  ... -0.003352 -0.002434 -0.001340\n",
            "X27  -0.097754 -0.321624  0.323978  ...  0.000630  0.002974  0.000741\n",
            "X28  -0.070412 -0.254532  0.352947  ...  0.002517  0.000509  0.002074\n",
            "X29  -0.039131 -0.182331  0.368022  ... -0.001705 -0.002864 -0.003140\n",
            "X30  -0.008549 -0.103159  0.377407  ... -0.000992  0.000281  0.000449\n",
            "...        ...       ...       ...  ...       ...       ...       ...\n",
            "X149 -0.255469 -0.071407 -0.002821  ... -0.000588 -0.000190  0.001462\n",
            "X150 -0.158662 -0.111737 -0.016602  ...  0.000018 -0.001666 -0.000083\n",
            "X151 -0.062599 -0.146910 -0.026208  ...  0.001356  0.001967 -0.000980\n",
            "X152  0.034224 -0.181535 -0.030422  ... -0.000852  0.000201  0.000531\n",
            "X153  0.130540 -0.214556 -0.032096  ... -0.001700 -0.001662  0.000665\n",
            "X154  0.221798 -0.243460 -0.033193  ...  0.002678 -0.000084 -0.000928\n",
            "X155  0.305133 -0.257036 -0.031835  ...  0.000199  0.002765 -0.000522\n",
            "X156  0.372049 -0.261917 -0.028113  ... -0.003497 -0.001974  0.001906\n",
            "X157  0.410751 -0.246947 -0.011585  ...  0.002554 -0.001880 -0.001276\n",
            "X158  0.416326 -0.219622  0.016012  ...  0.001732  0.003576 -0.000523\n",
            "X159  0.402853 -0.185679  0.044606  ... -0.003672 -0.000150  0.001367\n",
            "X160  0.379623 -0.151401  0.069046  ...  0.000170 -0.004121 -0.000434\n",
            "X161  0.351292 -0.115623  0.080501  ...  0.004129  0.002965 -0.000846\n",
            "X162  0.311218 -0.075305  0.075127  ... -0.003137  0.001944  0.000793\n",
            "X163  0.256053 -0.032631  0.054348  ... -0.001321 -0.003238  0.000110\n",
            "X164  0.195662  0.017391  0.032898  ...  0.002912 -0.001125 -0.000402\n",
            "X165  0.139697  0.068508  0.019194  ... -0.000250  0.004745 -0.000229\n",
            "X166  0.086475  0.117841  0.018687  ... -0.001677 -0.002163  0.000904\n",
            "X167  0.033201  0.159171  0.024968  ... -0.000089 -0.002798 -0.000747\n",
            "X168 -0.018648  0.184921  0.027389  ...  0.002331  0.003027 -0.000128\n",
            "X169 -0.069469  0.195657  0.017133  ... -0.001679  0.001169  0.000767\n",
            "X170 -0.120861  0.191807  0.003852  ... -0.000316 -0.003104 -0.000594\n",
            "X171 -0.171209  0.179193 -0.006636  ...  0.000711  0.000358 -0.000006\n",
            "X172 -0.218467  0.170331 -0.012673  ...  0.000525  0.002478  0.000270\n",
            "X173 -0.259090  0.163865 -0.016674  ... -0.001176 -0.001053  0.000262\n",
            "X174 -0.289195  0.156409 -0.026400  ...  0.000477 -0.002113 -0.001070\n",
            "X175 -0.305549  0.145601 -0.040692  ...  0.000207  0.002404  0.001124\n",
            "X176 -0.304379  0.131584 -0.047273  ... -0.000325 -0.000150 -0.000428\n",
            "X177 -0.283615  0.108263 -0.046515  ...  0.000299 -0.001224 -0.000110\n",
            "X178 -0.250012  0.073484 -0.031981  ... -0.000142  0.000660  0.000121\n",
            "\n",
            "[178 rows x 178 columns] \n",
            "\n",
            "\n",
            "Eigenvectors (Linear Coefficients):\n",
            "           PC1       PC2       PC3  ...     PC176     PC177     PC178\n",
            "X1   -0.007747  0.034358  0.026589  ...  0.015741 -0.011875  0.006342\n",
            "X2   -0.004390  0.045881  0.021301  ... -0.049809  0.044966 -0.012026\n",
            "X3   -0.001138  0.059497  0.013388  ...  0.030935 -0.048986 -0.008702\n",
            "X4    0.002823  0.071387  0.003681  ...  0.067317 -0.018416  0.049710\n",
            "X5    0.005752  0.081815 -0.006530  ... -0.115433  0.078363 -0.050180\n",
            "X6    0.007746  0.091147 -0.017723  ...  0.020313 -0.022320 -0.027101\n",
            "X7    0.005752  0.096705 -0.028510  ...  0.097252 -0.084103  0.094569\n",
            "X8    0.001462  0.097060 -0.038788  ... -0.064698  0.084928 -0.060919\n",
            "X9   -0.005388  0.092097 -0.049769  ... -0.073303  0.007465 -0.009064\n",
            "X10  -0.012433  0.082969 -0.059863  ...  0.104843 -0.048038  0.014680\n",
            "X11  -0.019755  0.069179 -0.067547  ...  0.012557  0.003952  0.014026\n",
            "X12  -0.026554  0.052079 -0.071796  ... -0.102857  0.030605 -0.004970\n",
            "X13  -0.030899  0.032489 -0.073056  ...  0.035339 -0.003256 -0.032267\n",
            "X14  -0.033542  0.013581 -0.074547  ...  0.081528 -0.020390  0.027013\n",
            "X15  -0.033968 -0.006124 -0.075190  ... -0.069110 -0.005318  0.041041\n",
            "X16  -0.035470 -0.027392 -0.073296  ... -0.039109  0.019186 -0.085607\n",
            "X17  -0.037630 -0.051588 -0.067172  ...  0.051610  0.015076  0.035343\n",
            "X18  -0.039156 -0.074053 -0.056461  ...  0.064464 -0.031428  0.050780\n",
            "X19  -0.040489 -0.091298 -0.044847  ... -0.114353 -0.002246 -0.076411\n",
            "X20  -0.040237 -0.105204 -0.030427  ... -0.020600  0.008064  0.022858\n",
            "X21  -0.040787 -0.117225 -0.014313  ...  0.149013  0.062139  0.033533\n",
            "X22  -0.039896 -0.126503  0.005250  ... -0.060632 -0.100668 -0.029682\n",
            "X23  -0.039312 -0.131783  0.026534  ... -0.127574  0.009823 -0.032014\n",
            "X24  -0.038213 -0.132960  0.048040  ...  0.131220  0.098890  0.072299\n",
            "X25  -0.037135 -0.129041  0.069970  ...  0.055136 -0.045812 -0.017710\n",
            "X26  -0.035195 -0.120544  0.092072  ... -0.148864 -0.111093 -0.062550\n",
            "X27  -0.031087 -0.103915  0.109307  ...  0.027978  0.135715  0.034607\n",
            "X28  -0.022392 -0.082238  0.119081  ...  0.111762  0.023239  0.096820\n",
            "X29  -0.012444 -0.058910  0.124167  ... -0.075740 -0.130712 -0.146591\n",
            "X30  -0.002719 -0.033330  0.127333  ... -0.044034  0.012812  0.020955\n",
            "...        ...       ...       ...  ...       ...       ...       ...\n",
            "X149 -0.081242 -0.023071 -0.000952  ... -0.026092 -0.008679  0.068234\n",
            "X150 -0.050456 -0.036101 -0.005601  ...  0.000821 -0.076035 -0.003889\n",
            "X151 -0.019907 -0.047466 -0.008842  ...  0.060219  0.089775 -0.045755\n",
            "X152  0.010884 -0.058653 -0.010264  ... -0.037827  0.009156  0.024784\n",
            "X153  0.041513 -0.069321 -0.010829  ... -0.075517 -0.075835  0.031042\n",
            "X154  0.070535 -0.078660 -0.011199  ...  0.118943 -0.003813 -0.043320\n",
            "X155  0.097036 -0.083047 -0.010741  ...  0.008833  0.126193 -0.024353\n",
            "X156  0.118316 -0.084624 -0.009485  ... -0.155299 -0.090096  0.088958\n",
            "X157  0.130624 -0.079787 -0.003909  ...  0.113417 -0.085774 -0.059580\n",
            "X158  0.132397 -0.070958  0.005402  ...  0.076941  0.163196 -0.024436\n",
            "X159  0.128112 -0.059992  0.015049  ... -0.163098 -0.006848  0.063790\n",
            "X160  0.120725 -0.048917  0.023296  ...  0.007564 -0.188054 -0.020257\n",
            "X161  0.111715 -0.037357  0.027160  ...  0.183374  0.135325 -0.039476\n",
            "X162  0.098971 -0.024330  0.025347  ... -0.139313  0.088695  0.036996\n",
            "X163  0.081428 -0.010543  0.018336  ... -0.058652 -0.147763  0.005114\n",
            "X164  0.062223  0.005619  0.011100  ...  0.129317 -0.051352 -0.018772\n",
            "X165  0.044425  0.022134  0.006476  ... -0.011105  0.216527 -0.010684\n",
            "X166  0.027500  0.038074  0.006305  ... -0.074497 -0.098715  0.042209\n",
            "X167  0.010558  0.051427  0.008424  ... -0.003945 -0.127692 -0.034853\n",
            "X168 -0.005930  0.059747  0.009241  ...  0.103538  0.138136 -0.005991\n",
            "X169 -0.022092  0.063215  0.005780  ... -0.074567  0.053358  0.035806\n",
            "X170 -0.038435  0.061972  0.001300  ... -0.014033 -0.141672 -0.027710\n",
            "X171 -0.054447  0.057896 -0.002239  ...  0.031571  0.016329 -0.000268\n",
            "X172 -0.069475  0.055033 -0.004276  ...  0.023294  0.113087  0.012594\n",
            "X173 -0.082394  0.052944 -0.005626  ... -0.052225 -0.048046  0.012245\n",
            "X174 -0.091968  0.050535 -0.008907  ...  0.021195 -0.096423 -0.049948\n",
            "X175 -0.097168  0.047043 -0.013729  ...  0.009201  0.109705  0.052486\n",
            "X176 -0.096796  0.042514 -0.015949  ... -0.014417 -0.006854 -0.019991\n",
            "X177 -0.090193  0.034979 -0.015694  ...  0.013296 -0.055858 -0.005124\n",
            "X178 -0.079507  0.023742 -0.010790  ... -0.006324  0.030132  0.005652\n",
            "\n",
            "[178 rows x 178 columns] \n",
            "\n",
            "Eigenvalues   : [9.88809184 9.57952944 8.7848625  8.3525018  7.81625598 7.57382702\n",
            " 7.42445742 7.0529298  6.44769797 6.14200506 6.01973817 5.88390365\n",
            " 5.23142881 5.17256469 4.4693527  4.35980827 3.73618451 3.70297831\n",
            " 3.61296148 3.50779886 3.38505865 3.23353526 3.22987017 3.06733767\n",
            " 2.92683494 2.78430703 2.73294147 2.69099123 2.57883291 2.46664757\n",
            " 2.33185302 2.21931868 2.17462115 2.0507976  1.88190772 1.64503209\n",
            " 1.37964627 1.2127609  1.1153747  0.93502842 0.83997593 0.72639963\n",
            " 0.65811878 0.53274009 0.46415581]\n",
            "%Explained_Var: [5.5544177  5.38108957 4.93470293 4.69183383 4.39060956 4.25443043\n",
            " 4.17052535 3.9618279  3.62185225 3.450136   3.38145527 3.30515322\n",
            " 2.93863986 2.90557423 2.51056039 2.44902623 2.09871932 2.08006647\n",
            " 2.0295015  1.97042871 1.90148211 1.81636718 1.8143084  1.72300934\n",
            " 1.64408503 1.56402312 1.53516965 1.51160503 1.44860256 1.38558492\n",
            " 1.30986705 1.24665336 1.22154551 1.15199036 1.05712019 0.92406052\n",
            " 0.77498589 0.68124171 0.62653716 0.52523161 0.47183797 0.40803898\n",
            " 0.36968372 0.29925501 0.2607293 ]\n",
            "%Cumulative   : [ 5.5544177  10.93550727 15.8702102  20.56204403 24.95265359 29.20708402\n",
            " 33.37760937 37.33943727 40.96128952 44.41142553 47.79288079 51.09803401\n",
            " 54.03667387 56.9422481  59.45280849 61.90183472 64.00055403 66.0806205\n",
            " 68.110122   70.08055071 71.98203282 73.7984     75.6127084  77.33571774\n",
            " 78.97980277 80.54382589 82.07899554 83.59060056 85.03920313 86.42478805\n",
            " 87.7346551  88.98130846 90.20285397 91.35484433 92.41196452 93.33602505\n",
            " 94.11101094 94.79225265 95.41878981 95.94402142 96.41585939 96.82389837\n",
            " 97.1935821  97.4928371  97.7535664 ]\n",
            "\n",
            "\n"
          ],
          "name": "stdout"
        },
        {
          "output_type": "stream",
          "text": [
            "/usr/local/lib/python3.6/dist-packages/matplotlib/font_manager.py:1241: UserWarning: findfont: Font family ['Arial'] not found. Falling back to DejaVu Sans.\n",
            "  (prop.get_family(), self.defaultFamily[fontext]))\n"
          ],
          "name": "stderr"
        },
        {
          "output_type": "display_data",
          "data": {
            "image/png": "[encoded data removed]",
            "text/plain": [
              "<Figure size 576x360 with 1 Axes>"
            ]
          },
          "metadata": {
            "tags": []
          }
        }
      ]
    },
    {
      "cell_type": "markdown",
      "metadata": {
        "id": "dokfbi4workX",
        "colab_type": "text"
      },
      "source": [
        "### PCA for 5-class Classification"
      ]
    },
    {
      "cell_type": "code",
      "metadata": {
        "id": "-fQNGcjoNnyq",
        "colab_type": "code",
        "outputId": "810de2a4-7190-493a-9af5-ddc87dc16677",
        "colab": {
          "base_uri": "https://localhost:8080/",
          "height": 1000
        }
      },
      "source": [
        "features = list(Xm)\n",
        "colnames = np.transpose(features)\n",
        "\n",
        "#Apply PCA. Get Eigenvctors, Eigenvalues\n",
        "n_components = len(features)\n",
        "pca = PCA(n_components).fit(Xm_train)\n",
        "\n",
        "# generate PC labels:\n",
        "PCs=[]\n",
        "for l in range(1,n_components+1):\n",
        "    PCs.append(\"PC\"+str(l))\n",
        "    \n",
        "# Get Eigenvectors & Eigenvalues\n",
        "eigvec = pca.components_.transpose()\n",
        "eigval = pca.explained_variance_\n",
        "    \n",
        "# Calculate Loadings = Eigenvector * SQRT(Eigenvalue)\n",
        "print('Loading Matrix:'); loadings= np.sqrt(eigval)*eigvec\n",
        "print(pd.DataFrame(loadings,columns=PCs,index=colnames),'\\n')\n",
        "\n",
        "# Print out Eigenvectors\n",
        "print('\\nEigenvectors (Linear Coefficients):')\n",
        "print(pd.DataFrame(eigvec,columns=PCs,index=colnames),'\\n')\n",
        "\n",
        "var_expln= pca.explained_variance_ratio_ * 100\n",
        "eigval = -np.sort(-eigval) #descending\n",
        "npc = 45 # display-1\n",
        "print(\"Eigenvalues   :\",eigval[0:npc])\n",
        "print(\"%Explained_Var:\",var_expln[0:npc])\n",
        "print(\"%Cumulative   :\",np.cumsum(var_expln[0:npc]))\n",
        "print('\\n')\n",
        "\n",
        "# scree plot\n",
        "num_vars= len(features)\n",
        "fig = plt.figure(figsize=(8,5))\n",
        "sing_vals = np.arange(num_vars) + 1\n",
        "\n",
        "plt.plot(sing_vals, eigval, 'ro-', linewidth=2)\n",
        "plt.title('Scree Plot')\n",
        "plt.xlabel('Principal Component')\n",
        "plt.ylabel('Eigenvalue')\n",
        "plt.grid(); plt.show()\n"
      ],
      "execution_count": 0,
      "outputs": [
        {
          "output_type": "stream",
          "text": [
            "Loading Matrix:\n",
            "           PC1       PC2       PC3  ...     PC176     PC177     PC178\n",
            "X1   -0.015419 -0.108733  0.041714  ...  0.000180  0.000175  0.000169\n",
            "X2   -0.052959 -0.120681  0.023813  ... -0.000405 -0.000752 -0.000425\n",
            "X3   -0.094018 -0.136829  0.003110  ... -0.000183  0.000989 -0.000339\n",
            "X4   -0.136026 -0.148143 -0.016508  ...  0.001575  0.000204  0.002124\n",
            "X5   -0.172025 -0.153366 -0.030057  ... -0.001761 -0.001503 -0.002514\n",
            "X6   -0.201706 -0.152922 -0.039347  ... -0.000587  0.000614  0.000116\n",
            "X7   -0.218198 -0.148413 -0.048703  ...  0.002913  0.001043  0.002143\n",
            "X8   -0.222590 -0.132378 -0.064282  ... -0.001607 -0.000642 -0.001207\n",
            "X9   -0.217474 -0.101762 -0.092767  ... -0.002174 -0.001104 -0.001044\n",
            "X10  -0.208099 -0.059924 -0.136442  ...  0.002637  0.001357  0.000928\n",
            "X11  -0.184778 -0.008748 -0.182838  ...  0.001845  0.000036  0.001083\n",
            "X12  -0.152076  0.037592 -0.215666  ... -0.005136 -0.000693 -0.001649\n",
            "X13  -0.113334  0.077825 -0.224854  ...  0.002039 -0.000150 -0.000112\n",
            "X14  -0.068675  0.102406 -0.206985  ...  0.004046  0.000956  0.001614\n",
            "X15  -0.023359  0.123306 -0.170016  ... -0.005201 -0.000131 -0.001049\n",
            "X16   0.026441  0.144595 -0.124261  ...  0.000123 -0.001577 -0.000127\n",
            "X17   0.079534  0.171480 -0.082912  ...  0.003699  0.001529  0.000065\n",
            "X18   0.128678  0.201538 -0.040710  ... -0.001499  0.000251  0.000543\n",
            "X19   0.170177  0.224717  0.001990  ... -0.002459 -0.001262 -0.000501\n",
            "X20   0.198063  0.247389  0.049933  ...  0.002615  0.000249  0.000407\n",
            "X21   0.221695  0.265858  0.103787  ...  0.000662  0.001368 -0.000971\n",
            "X22   0.235384  0.278623  0.163378  ... -0.002777 -0.001938  0.000926\n",
            "X23   0.244970  0.276952  0.220696  ...  0.001273  0.001032  0.000748\n",
            "X24   0.255331  0.268412  0.270744  ...  0.001465  0.000627 -0.002104\n",
            "X25   0.260562  0.248065  0.305814  ... -0.001666 -0.001058  0.000595\n",
            "X26   0.262048  0.217868  0.318796  ... -0.000791 -0.000322  0.002139\n",
            "X27   0.247614  0.175613  0.302639  ...  0.002373  0.001037 -0.002067\n",
            "X28   0.210859  0.130958  0.260880  ... -0.001099  0.000775 -0.001021\n",
            "X29   0.159124  0.087534  0.207277  ... -0.001001 -0.002495  0.002702\n",
            "X30   0.097512  0.038112  0.144633  ...  0.001132  0.000856 -0.000091\n",
            "...        ...       ...       ...  ...       ...       ...       ...\n",
            "X149  0.149840  0.085493 -0.468216  ... -0.000347  0.001061  0.000748\n",
            "X150  0.083237  0.158623 -0.433751  ... -0.000170  0.000453  0.000824\n",
            "X151  0.028211  0.227298 -0.394324  ...  0.000459  0.000224 -0.001160\n",
            "X152 -0.022466  0.298100 -0.341537  ... -0.000603 -0.001512 -0.000390\n",
            "X153 -0.074189  0.361786 -0.263250  ...  0.000790  0.000975  0.001048\n",
            "X154 -0.126486  0.408138 -0.166636  ... -0.000893  0.000672  0.000597\n",
            "X155 -0.186346  0.426903 -0.063798  ...  0.000882 -0.000944 -0.001828\n",
            "X156 -0.243462  0.430641  0.034350  ... -0.000402 -0.000363  0.000117\n",
            "X157 -0.290428  0.406108  0.118621  ... -0.000441  0.001100  0.002263\n",
            "X158 -0.317206  0.358924  0.180516  ...  0.000835 -0.000368 -0.001883\n",
            "X159 -0.329526  0.304994  0.219270  ... -0.000458 -0.000531 -0.001105\n",
            "X160 -0.329841  0.251568  0.254311  ... -0.000098  0.000340  0.002610\n",
            "X161 -0.318966  0.202123  0.282210  ...  0.000054  0.000346 -0.000017\n",
            "X162 -0.286036  0.147692  0.302355  ...  0.000828 -0.000519 -0.003289\n",
            "X163 -0.226999  0.090240  0.301638  ... -0.002037  0.000144  0.002805\n",
            "X164 -0.166023  0.028620  0.287095  ...  0.002106  0.000294  0.000972\n",
            "X165 -0.121242 -0.029070  0.272397  ... -0.000356 -0.000332 -0.002965\n",
            "X166 -0.091518 -0.086212  0.257908  ... -0.001346 -0.000054  0.000632\n",
            "X167 -0.065327 -0.144158  0.233882  ...  0.000850  0.000375  0.002264\n",
            "X168 -0.041282 -0.193632  0.206942  ...  0.000614 -0.000391 -0.001791\n",
            "X169 -0.012414 -0.225146  0.175455  ... -0.000473  0.000482 -0.000919\n",
            "X170  0.019752 -0.242571  0.138475  ... -0.000671 -0.000513  0.001966\n",
            "X171  0.065312 -0.257112  0.096992  ...  0.000451 -0.000048 -0.000348\n",
            "X172  0.118671 -0.275613  0.043423  ...  0.001372  0.000833 -0.000880\n",
            "X173  0.169576 -0.291335 -0.025832  ... -0.002252 -0.000785 -0.000211\n",
            "X174  0.203051 -0.288805 -0.096305  ...  0.000806 -0.000063  0.001700\n",
            "X175  0.218531 -0.270887 -0.157295  ...  0.000971  0.000587 -0.001240\n",
            "X176  0.221868 -0.244736 -0.191262  ... -0.001207 -0.000420 -0.000594\n",
            "X177  0.212394 -0.208848 -0.191756  ...  0.000528  0.000105  0.001400\n",
            "X178  0.192642 -0.162280 -0.168604  ... -0.000066  0.000019 -0.000648\n",
            "\n",
            "[178 rows x 178 columns] \n",
            "\n",
            "\n",
            "Eigenvectors (Linear Coefficients):\n",
            "           PC1       PC2       PC3  ...     PC176     PC177     PC178\n",
            "X1   -0.004895 -0.034779  0.013871  ...  0.008012  0.007967  0.007867\n",
            "X2   -0.016814 -0.038600  0.007919  ... -0.018007 -0.034146 -0.019744\n",
            "X3   -0.029850 -0.043765  0.001034  ... -0.008121  0.044938 -0.015782\n",
            "X4   -0.043188 -0.047384 -0.005489  ...  0.069971  0.009252  0.098764\n",
            "X5   -0.054617 -0.049055 -0.009995  ... -0.078244 -0.068300 -0.116920\n",
            "X6   -0.064041 -0.048913 -0.013084  ... -0.026078  0.027910  0.005376\n",
            "X7   -0.069277 -0.047470 -0.016195  ...  0.129406  0.047406  0.099679\n",
            "X8   -0.070672 -0.042341 -0.021376  ... -0.071405 -0.029190 -0.056123\n",
            "X9   -0.069047 -0.032549 -0.030848  ... -0.096582 -0.050137 -0.048566\n",
            "X10  -0.066071 -0.019167 -0.045372  ...  0.117150  0.061661  0.043157\n",
            "X11  -0.058666 -0.002798 -0.060800  ...  0.081975  0.001623  0.050372\n",
            "X12  -0.048284  0.012024 -0.071717  ... -0.228122 -0.031498 -0.076706\n",
            "X13  -0.035983  0.024893 -0.074772  ...  0.090589 -0.006822 -0.005224\n",
            "X14  -0.021804  0.032755 -0.068830  ...  0.179715  0.043420  0.075087\n",
            "X15  -0.007416  0.039440 -0.056537  ... -0.231018 -0.005933 -0.048771\n",
            "X16   0.008395  0.046249 -0.041322  ...  0.005456 -0.071652 -0.005903\n",
            "X17   0.025252  0.054848 -0.027571  ...  0.164331  0.069486  0.003032\n",
            "X18   0.040855  0.064463 -0.013538  ... -0.066602  0.011415  0.025235\n",
            "X19   0.054031  0.071876  0.000662  ... -0.109241 -0.057313 -0.023310\n",
            "X20   0.062885  0.079128  0.016605  ...  0.116170  0.011305  0.018935\n",
            "X21   0.070387  0.085036  0.034513  ...  0.029397  0.062168 -0.045137\n",
            "X22   0.074734  0.089118  0.054329  ... -0.123368 -0.088063  0.043076\n",
            "X23   0.077777  0.088584  0.073390  ...  0.056561  0.046866  0.034809\n",
            "X24   0.081067  0.085852  0.090032  ...  0.065095  0.028499 -0.097836\n",
            "X25   0.082728  0.079345  0.101695  ... -0.074022 -0.048066  0.027651\n",
            "X26   0.083200  0.069686  0.106011  ... -0.035158 -0.014614  0.099461\n",
            "X27   0.078617  0.056170  0.100639  ...  0.105400  0.047132 -0.096121\n",
            "X28   0.066947  0.041887  0.086752  ... -0.048805  0.035197 -0.047500\n",
            "X29   0.050521  0.027998  0.068927  ... -0.044455 -0.113367  0.125643\n",
            "X30   0.030960  0.012190  0.048096  ...  0.050286  0.038871 -0.004247\n",
            "...        ...       ...       ...  ...       ...       ...       ...\n",
            "X149  0.047574  0.027345 -0.155699  ... -0.015418  0.048210  0.034766\n",
            "X150  0.026428  0.050736 -0.144238  ... -0.007532  0.020563  0.038336\n",
            "X151  0.008957  0.072702 -0.131127  ...  0.020371  0.010196 -0.053933\n",
            "X152 -0.007133  0.095348 -0.113574  ... -0.026793 -0.068676 -0.018126\n",
            "X153 -0.023555  0.115719 -0.087540  ...  0.035082  0.044289  0.048722\n",
            "X154 -0.040159  0.130545 -0.055413  ... -0.039682  0.030543  0.027782\n",
            "X155 -0.059164  0.136547 -0.021215  ...  0.039198 -0.042885 -0.085037\n",
            "X156 -0.077299  0.137742  0.011423  ... -0.017868 -0.016471  0.005420\n",
            "X157 -0.092210  0.129895  0.039446  ... -0.019570  0.049985  0.105269\n",
            "X158 -0.100712  0.114803  0.060028  ...  0.037080 -0.016721 -0.087567\n",
            "X159 -0.104624  0.097553  0.072915  ... -0.020348 -0.024102 -0.051392\n",
            "X160 -0.104723  0.080465  0.084568  ... -0.004353  0.015463  0.121367\n",
            "X161 -0.101271  0.064650  0.093845  ...  0.002387  0.015709 -0.000812\n",
            "X162 -0.090816  0.047240  0.100545  ...  0.036798 -0.023560 -0.152972\n",
            "X163 -0.072071  0.028864  0.100306  ... -0.090476  0.006542  0.130469\n",
            "X164 -0.052712  0.009154  0.095470  ...  0.093545  0.013352  0.045222\n",
            "X165 -0.038494 -0.009298  0.090582  ... -0.015802 -0.015079 -0.137903\n",
            "X166 -0.029057 -0.027575  0.085764  ... -0.059790 -0.002447  0.029370\n",
            "X167 -0.020741 -0.046110  0.077774  ...  0.037749  0.017025  0.105292\n",
            "X168 -0.013107 -0.061934  0.068816  ...  0.027272 -0.017757 -0.083294\n",
            "X169 -0.003942 -0.072014  0.058345  ... -0.021021  0.021918 -0.042719\n",
            "X170  0.006271 -0.077587  0.046048  ... -0.029798 -0.023289  0.091418\n",
            "X171  0.020736 -0.082238  0.032253  ...  0.020049 -0.002169 -0.016176\n",
            "X172  0.037678 -0.088156  0.014440  ...  0.060964  0.037863 -0.040914\n",
            "X173  0.053840 -0.093185 -0.008590  ... -0.100054 -0.035645 -0.009822\n",
            "X174  0.064468 -0.092375 -0.032025  ...  0.035807 -0.002883  0.079084\n",
            "X175  0.069383 -0.086644 -0.052307  ...  0.043121  0.026665 -0.057683\n",
            "X176  0.070442 -0.078280 -0.063602  ... -0.053615 -0.019074 -0.027626\n",
            "X177  0.067434 -0.066801 -0.063766  ...  0.023468  0.004755  0.065130\n",
            "X178  0.061163 -0.051906 -0.056067  ... -0.002916  0.000884 -0.030124\n",
            "\n",
            "[178 rows x 178 columns] \n",
            "\n",
            "Eigenvalues   : [9.92021116 9.77455883 9.04313345 8.48252725 8.11757124 7.30229017\n",
            " 7.21799629 6.79439326 6.56388096 6.11322396 5.9761044  5.67061499\n",
            " 5.27287231 5.17210667 4.37195637 4.26586511 3.92320032 3.70959421\n",
            " 3.58061433 3.48594652 3.32514866 3.14902009 3.11965495 3.03392869\n",
            " 2.9558176  2.91099366 2.83931768 2.64466448 2.58764593 2.44797531\n",
            " 2.32669563 2.25601581 2.12666866 2.02212598 1.87177065 1.76427098\n",
            " 1.4541166  1.17398944 1.08676884 1.00173099 0.82634295 0.71542697\n",
            " 0.66861615 0.55150028 0.43968992]\n",
            "%Explained_Var: [5.57246002 5.49064303 5.07978094 4.76487276 4.55986677 4.10190059\n",
            " 4.05455036 3.81660069 3.68711549 3.43396885 3.35694496 3.18534302\n",
            " 2.96191983 2.90531695 2.45585015 2.39625572 2.20377133 2.0837828\n",
            " 2.0113312  1.95815364 1.86782899 1.76889264 1.75239742 1.70424259\n",
            " 1.6603654  1.63518654 1.59492414 1.48558199 1.45355308 1.37509619\n",
            " 1.30697    1.26726717 1.19460926 1.13588471 1.05142592 0.99104035\n",
            " 0.81681796 0.6594627  0.61046845 0.56270031 0.46417994 0.40187533\n",
            " 0.37558039 0.30979313 0.24698612]\n",
            "%Cumulative   : [ 5.57246002 11.06310306 16.142884   20.90775676 25.46762353 29.56952412\n",
            " 33.62407448 37.44067518 41.12779067 44.56175952 47.91870448 51.1040475\n",
            " 54.06596732 56.97128427 59.42713442 61.82339015 64.02716147 66.11094428\n",
            " 68.12227548 70.08042912 71.94825811 73.71715075 75.46954817 77.17379076\n",
            " 78.83415616 80.46934271 82.06426685 83.54984884 85.00340192 86.37849811\n",
            " 87.68546811 88.95273528 90.14734454 91.28322925 92.33465516 93.32569551\n",
            " 94.14251347 94.80197616 95.41244461 95.97514492 96.43932486 96.8412002\n",
            " 97.21678059 97.52657372 97.77355984]\n",
            "\n",
            "\n"
          ],
          "name": "stdout"
        },
        {
          "output_type": "display_data",
          "data": {
            "image/png": "[encoded data removed]",
            "text/plain": [
              "<Figure size 576x360 with 1 Axes>"
            ]
          },
          "metadata": {
            "tags": []
          }
        }
      ]
    },
    {
      "cell_type": "markdown",
      "metadata": {
        "id": "pLCq7092rzMb",
        "colab_type": "text"
      },
      "source": [
        "Notes:  \n",
        "- PCA components for binary classification: 39\n",
        "- PCA components for 5-class classification: 40"
      ]
    },
    {
      "cell_type": "code",
      "metadata": {
        "id": "OSoZdFwiNnoQ",
        "colab_type": "code",
        "colab": {}
      },
      "source": [
        "bpca = PCA(n_components=39)\n",
        "X_train = bpca.fit_transform(X_train)\n",
        "X_valid = bpca.transform(X_valid)\n",
        "X_test = bpca.transform(X_test)"
      ],
      "execution_count": 0,
      "outputs": []
    },
    {
      "cell_type": "code",
      "metadata": {
        "id": "hNvDYWipNnYI",
        "colab_type": "code",
        "colab": {}
      },
      "source": [
        "mpca = PCA(n_components=40)\n",
        "Xm_train = mpca.fit_transform(Xm_train)\n",
        "Xm_valid = mpca.transform(Xm_valid)\n",
        "Xm_test = mpca.transform(Xm_test)"
      ],
      "execution_count": 0,
      "outputs": []
    },
    {
      "cell_type": "markdown",
      "metadata": {
        "id": "zj9DSbMvlgI5",
        "colab_type": "text"
      },
      "source": [
        "# Decision Tree"
      ]
    },
    {
      "cell_type": "markdown",
      "metadata": {
        "colab_type": "text",
        "id": "p9uHvnlGpE2S"
      },
      "source": [
        "## Binary Classification"
      ]
    },
    {
      "cell_type": "markdown",
      "metadata": {
        "colab_type": "text",
        "id": "gzdjz2uXpE2h"
      },
      "source": [
        "### Model Training and Validation"
      ]
    },
    {
      "cell_type": "code",
      "metadata": {
        "colab_type": "code",
        "id": "UpI2E4eBpE2i",
        "outputId": "71cee02d-0e51-4c05-b659-90079ffe2504",
        "colab": {
          "base_uri": "https://localhost:8080/",
          "height": 555
        }
      },
      "source": [
        "binaryModel = DecisionTreeClassifier(criterion='entropy', max_depth=8, random_state=0)\n",
        "binaryModel.fit(X_train, y_train)  \n",
        "y_pred = binaryModel.predict(X_valid)  \n",
        "\n",
        "print(metrics.confusion_matrix(y_valid,y_pred))  \n",
        "print(\" \")\n",
        "print(\"Best accuracy (on validation dataset): %.2f%%\" % (metrics.accuracy_score(y_valid, y_pred)*100))\n",
        "print(\" \")\n",
        "print(metrics.classification_report(y_valid, y_pred,digits=4))\n",
        "skplt.metrics.plot_confusion_matrix(y_valid, y_pred, normalize=True) "
      ],
      "execution_count": 0,
      "outputs": [
        {
          "output_type": "stream",
          "text": [
            "[[1353   27]\n",
            " [  54  291]]\n",
            " \n",
            "Best accuracy (on testing dataset): 95.30%\n",
            " \n",
            "              precision    recall  f1-score   support\n",
            "\n",
            "           0     0.9616    0.9804    0.9709      1380\n",
            "           1     0.9151    0.8435    0.8778       345\n",
            "\n",
            "    accuracy                         0.9530      1725\n",
            "   macro avg     0.9384    0.9120    0.9244      1725\n",
            "weighted avg     0.9523    0.9530    0.9523      1725\n",
            "\n"
          ],
          "name": "stdout"
        },
        {
          "output_type": "execute_result",
          "data": {
            "text/plain": [
              "<matplotlib.axes._subplots.AxesSubplot at 0x7f90dddce9e8>"
            ]
          },
          "metadata": {
            "tags": []
          },
          "execution_count": 24
        },
        {
          "output_type": "display_data",
          "data": {
            "image/png": "[encoded data removed]",
            "text/plain": [
              "<Figure size 432x288 with 2 Axes>"
            ]
          },
          "metadata": {
            "tags": []
          }
        }
      ]
    },
    {
      "cell_type": "code",
      "metadata": {
        "id": "8YnrDOuXpfOO",
        "colab_type": "code",
        "outputId": "7ecf6438-2f56-484a-b706-6b94576e2b11",
        "colab": {
          "base_uri": "https://localhost:8080/",
          "height": 35
        }
      },
      "source": [
        "metrics.roc_auc_score(y_valid, y_pred)"
      ],
      "execution_count": 0,
      "outputs": [
        {
          "output_type": "execute_result",
          "data": {
            "text/plain": [
              "0.9119565217391304"
            ]
          },
          "metadata": {
            "tags": []
          },
          "execution_count": 25
        }
      ]
    },
    {
      "cell_type": "markdown",
      "metadata": {
        "colab_type": "text",
        "id": "C1qE7M0JpE2l"
      },
      "source": [
        "## 5-class Classification"
      ]
    },
    {
      "cell_type": "markdown",
      "metadata": {
        "colab_type": "text",
        "id": "IC4tEB_-pE2s"
      },
      "source": [
        "### Model Training and Validation"
      ]
    },
    {
      "cell_type": "code",
      "metadata": {
        "colab_type": "code",
        "id": "BEde8rbHpE2t",
        "outputId": "5b110742-b467-40e7-f0e7-4e1c235894ba",
        "colab": {
          "base_uri": "https://localhost:8080/",
          "height": 659
        }
      },
      "source": [
        "multiModel = DecisionTreeClassifier(criterion='entropy', min_samples_leaf=2, random_state=0)\n",
        "multiModel.fit(Xm_train, ym_train)  \n",
        "y_pred = multiModel.predict(Xm_valid)  \n",
        "\n",
        "print(metrics.confusion_matrix(ym_valid,y_pred))  \n",
        "print(\" \")\n",
        "print(\"Best accuracy (on validation dataset): %.2f%%\" % (metrics.accuracy_score(ym_valid, y_pred)*100))\n",
        "print(\" \")\n",
        "print(metrics.classification_report(ym_valid, y_pred,digits=4))\n",
        "skplt.metrics.plot_confusion_matrix(ym_valid, y_pred, normalize=True) "
      ],
      "execution_count": 0,
      "outputs": [
        {
          "output_type": "stream",
          "text": [
            "[[285  23  10  24   3]\n",
            " [ 22 153 113  20  37]\n",
            " [  9 111 150  27  48]\n",
            " [ 15  37  32 183  78]\n",
            " [  4  43  57  81 160]]\n",
            " \n",
            "Best accuracy (on testing dataset): 53.97%\n",
            " \n",
            "              precision    recall  f1-score   support\n",
            "\n",
            "           1     0.8507    0.8261    0.8382       345\n",
            "           2     0.4169    0.4435    0.4298       345\n",
            "           3     0.4144    0.4348    0.4243       345\n",
            "           4     0.5463    0.5304    0.5382       345\n",
            "           5     0.4908    0.4638    0.4769       345\n",
            "\n",
            "    accuracy                         0.5397      1725\n",
            "   macro avg     0.5438    0.5397    0.5415      1725\n",
            "weighted avg     0.5438    0.5397    0.5415      1725\n",
            "\n"
          ],
          "name": "stdout"
        },
        {
          "output_type": "execute_result",
          "data": {
            "text/plain": [
              "<matplotlib.axes._subplots.AxesSubplot at 0x7f90ddd2c940>"
            ]
          },
          "metadata": {
            "tags": []
          },
          "execution_count": 26
        },
        {
          "output_type": "display_data",
          "data": {
            "image/png": "[encoded data removed]",
            "text/plain": [
              "<Figure size 432x288 with 2 Axes>"
            ]
          },
          "metadata": {
            "tags": []
          }
        }
      ]
    },
    {
      "cell_type": "markdown",
      "metadata": {
        "colab_type": "text",
        "id": "PNYjLULunx5N"
      },
      "source": [
        "# Bagging"
      ]
    },
    {
      "cell_type": "markdown",
      "metadata": {
        "colab_type": "text",
        "id": "b0utmwi8pB_d"
      },
      "source": [
        "## Binary Classification"
      ]
    },
    {
      "cell_type": "markdown",
      "metadata": {
        "colab_type": "text",
        "id": "RzPVtLv8pB_o"
      },
      "source": [
        "### Model Training and Validation"
      ]
    },
    {
      "cell_type": "code",
      "metadata": {
        "colab_type": "code",
        "id": "v9bKVtKZpB_p",
        "outputId": "2f76a3f4-0de2-4d02-a698-0321b8479685",
        "colab": {
          "base_uri": "https://localhost:8080/",
          "height": 555
        }
      },
      "source": [
        "binaryModel = BaggingClassifier(n_estimators=100, bootstrap_features=True, random_state=0)\n",
        "binaryModel.fit(X_train, y_train)  \n",
        "y_pred = binaryModel.predict(X_valid)  \n",
        "\n",
        "print(metrics.confusion_matrix(y_valid,y_pred))  \n",
        "print(\" \")\n",
        "print(\"Best accuracy (on validation dataset): %.2f%%\" % (metrics.accuracy_score(y_valid, y_pred)*100))\n",
        "print(\" \")\n",
        "print(metrics.classification_report(y_valid, y_pred,digits=4))\n",
        "skplt.metrics.plot_confusion_matrix(y_valid, y_pred, normalize=True) "
      ],
      "execution_count": 0,
      "outputs": [
        {
          "output_type": "stream",
          "text": [
            "[[1363   17]\n",
            " [  21  324]]\n",
            " \n",
            "Best accuracy (on testing dataset): 97.80%\n",
            " \n",
            "              precision    recall  f1-score   support\n",
            "\n",
            "           0     0.9848    0.9877    0.9863      1380\n",
            "           1     0.9501    0.9391    0.9446       345\n",
            "\n",
            "    accuracy                         0.9780      1725\n",
            "   macro avg     0.9675    0.9634    0.9654      1725\n",
            "weighted avg     0.9779    0.9780    0.9779      1725\n",
            "\n"
          ],
          "name": "stdout"
        },
        {
          "output_type": "execute_result",
          "data": {
            "text/plain": [
              "<matplotlib.axes._subplots.AxesSubplot at 0x7f90ddc6d588>"
            ]
          },
          "metadata": {
            "tags": []
          },
          "execution_count": 27
        },
        {
          "output_type": "display_data",
          "data": {
            "image/png": "[encoded data removed]",
            "text/plain": [
              "<Figure size 432x288 with 2 Axes>"
            ]
          },
          "metadata": {
            "tags": []
          }
        }
      ]
    },
    {
      "cell_type": "code",
      "metadata": {
        "id": "80VtnXaCpIst",
        "colab_type": "code",
        "outputId": "9051909a-911a-4437-b0a2-1a42d2fd5e9e",
        "colab": {
          "base_uri": "https://localhost:8080/",
          "height": 34
        }
      },
      "source": [
        "metrics.roc_auc_score(y_valid, y_pred)"
      ],
      "execution_count": 0,
      "outputs": [
        {
          "output_type": "execute_result",
          "data": {
            "text/plain": [
              "0.9626811594202899"
            ]
          },
          "metadata": {
            "tags": []
          },
          "execution_count": 32
        }
      ]
    },
    {
      "cell_type": "markdown",
      "metadata": {
        "colab_type": "text",
        "id": "75fGvEyXpB_r"
      },
      "source": [
        "## 5-class Classification"
      ]
    },
    {
      "cell_type": "markdown",
      "metadata": {
        "colab_type": "text",
        "id": "LPih7Ev3pB_x"
      },
      "source": [
        "### Model Training and Validation"
      ]
    },
    {
      "cell_type": "code",
      "metadata": {
        "colab_type": "code",
        "id": "DnxDs9rnpB_x",
        "outputId": "529dcd4c-269a-4793-95c2-c990e8e6b371",
        "colab": {
          "base_uri": "https://localhost:8080/",
          "height": 659
        }
      },
      "source": [
        "multiModel = BaggingClassifier(n_estimators=100, oob_score=True, bootstrap_features=True, random_state=0)\n",
        "multiModel.fit(Xm_train, ym_train)  \n",
        "y_pred = multiModel.predict(Xm_valid)  \n",
        "\n",
        "print(metrics.confusion_matrix(ym_valid,y_pred))  \n",
        "print(\" \")\n",
        "print(\"Best accuracy (on validation dataset): %.2f%%\" % (metrics.accuracy_score(ym_valid, y_pred)*100))\n",
        "print(\" \")\n",
        "print(metrics.classification_report(ym_valid, y_pred,digits=4))\n",
        "skplt.metrics.plot_confusion_matrix(ym_valid, y_pred, normalize=True) "
      ],
      "execution_count": 0,
      "outputs": [
        {
          "output_type": "stream",
          "text": [
            "[[329   7   1   8   0]\n",
            " [ 28 182  94  14  27]\n",
            " [  7  70 213  23  32]\n",
            " [  3   8   2 254  78]\n",
            " [  0  17  30  82 216]]\n",
            " \n",
            "Best accuracy (on testing dataset): 69.22%\n",
            " \n",
            "              precision    recall  f1-score   support\n",
            "\n",
            "           1     0.8965    0.9536    0.9242       345\n",
            "           2     0.6408    0.5275    0.5787       345\n",
            "           3     0.6265    0.6174    0.6219       345\n",
            "           4     0.6667    0.7362    0.6997       345\n",
            "           5     0.6119    0.6261    0.6189       345\n",
            "\n",
            "    accuracy                         0.6922      1725\n",
            "   macro avg     0.6885    0.6922    0.6887      1725\n",
            "weighted avg     0.6885    0.6922    0.6887      1725\n",
            "\n"
          ],
          "name": "stdout"
        },
        {
          "output_type": "execute_result",
          "data": {
            "text/plain": [
              "<matplotlib.axes._subplots.AxesSubplot at 0x7f90ddbfeac8>"
            ]
          },
          "metadata": {
            "tags": []
          },
          "execution_count": 28
        },
        {
          "output_type": "display_data",
          "data": {
            "image/png": "[encoded data removed]",
            "text/plain": [
              "<Figure size 432x288 with 2 Axes>"
            ]
          },
          "metadata": {
            "tags": []
          }
        }
      ]
    },
    {
      "cell_type": "markdown",
      "metadata": {
        "colab_type": "text",
        "id": "Lpm7m2C-n22R"
      },
      "source": [
        "# Random Forest"
      ]
    },
    {
      "cell_type": "markdown",
      "metadata": {
        "colab_type": "text",
        "id": "kV2AN5rVo_wF"
      },
      "source": [
        "## Binary Classification"
      ]
    },
    {
      "cell_type": "markdown",
      "metadata": {
        "colab_type": "text",
        "id": "WlokGle6u3eH"
      },
      "source": [
        "### Model Training and Validation"
      ]
    },
    {
      "cell_type": "code",
      "metadata": {
        "colab_type": "code",
        "id": "Zoxha4_2u3eJ",
        "outputId": "2cb24545-30e8-483c-bb09-33414eaf97c5",
        "colab": {
          "base_uri": "https://localhost:8080/",
          "height": 555
        }
      },
      "source": [
        "binaryModel = RandomForestClassifier(n_estimators=190,criterion='entropy',bootstrap=False, min_samples_leaf=2, random_state=0)\n",
        "binaryModel.fit(X_train, y_train)  \n",
        "y_pred = binaryModel.predict(X_valid)  \n",
        "\n",
        "print(metrics.confusion_matrix(y_valid,y_pred))  \n",
        "print(\" \")\n",
        "print(\"Best accuracy (on validation dataset): %.2f%%\" % (metrics.accuracy_score(y_valid, y_pred)*100))\n",
        "print(\" \")\n",
        "print(metrics.classification_report(y_valid, y_pred,digits=4))\n",
        "skplt.metrics.plot_confusion_matrix(y_valid, y_pred, normalize=True) "
      ],
      "execution_count": 0,
      "outputs": [
        {
          "output_type": "stream",
          "text": [
            "[[1361   19]\n",
            " [  24  321]]\n",
            " \n",
            "Best accuracy (on testing dataset): 97.51%\n",
            " \n",
            "              precision    recall  f1-score   support\n",
            "\n",
            "           0     0.9827    0.9862    0.9844      1380\n",
            "           1     0.9441    0.9304    0.9372       345\n",
            "\n",
            "    accuracy                         0.9751      1725\n",
            "   macro avg     0.9634    0.9583    0.9608      1725\n",
            "weighted avg     0.9750    0.9751    0.9750      1725\n",
            "\n"
          ],
          "name": "stdout"
        },
        {
          "output_type": "execute_result",
          "data": {
            "text/plain": [
              "<matplotlib.axes._subplots.AxesSubplot at 0x7f90ddb2f710>"
            ]
          },
          "metadata": {
            "tags": []
          },
          "execution_count": 29
        },
        {
          "output_type": "display_data",
          "data": {
            "image/png": "[encoded data removed]",
            "text/plain": [
              "<Figure size 432x288 with 2 Axes>"
            ]
          },
          "metadata": {
            "tags": []
          }
        }
      ]
    },
    {
      "cell_type": "code",
      "metadata": {
        "id": "KN-PAomPpFJx",
        "colab_type": "code",
        "outputId": "df26f6f0-0f17-4734-baa7-69a8e04b6ba2",
        "colab": {
          "base_uri": "https://localhost:8080/",
          "height": 34
        }
      },
      "source": [
        "metrics.roc_auc_score(y_valid, y_pred)"
      ],
      "execution_count": 0,
      "outputs": [
        {
          "output_type": "execute_result",
          "data": {
            "text/plain": [
              "0.9568840579710146"
            ]
          },
          "metadata": {
            "tags": []
          },
          "execution_count": 37
        }
      ]
    },
    {
      "cell_type": "markdown",
      "metadata": {
        "colab_type": "text",
        "id": "gSlB2rdFo_wI"
      },
      "source": [
        "## 5-class Classification"
      ]
    },
    {
      "cell_type": "markdown",
      "metadata": {
        "colab_type": "text",
        "id": "TpQA3AsBo_wH"
      },
      "source": [
        "### Model Training and Validation"
      ]
    },
    {
      "cell_type": "code",
      "metadata": {
        "colab_type": "code",
        "id": "eRbhSWEfo_wH",
        "outputId": "22a46f22-f390-4c73-d07c-3d41ba290e4a",
        "colab": {
          "base_uri": "https://localhost:8080/",
          "height": 659
        }
      },
      "source": [
        "multiModel = RandomForestClassifier(n_estimators=190,criterion='entropy',bootstrap=False, min_samples_leaf=2,random_state=0)\n",
        "multiModel.fit(Xm_train, ym_train)  \n",
        "y_pred = multiModel.predict(Xm_valid)  \n",
        "\n",
        "print(metrics.confusion_matrix(ym_valid,y_pred))\n",
        "print(\" \")\n",
        "print(\"Best accuracy (on validation dataset): %.2f%%\" % (metrics.accuracy_score(ym_valid, y_pred)*100))\n",
        "print(\" \")\n",
        "print(metrics.classification_report(ym_valid, y_pred,digits=4))\n",
        "skplt.metrics.plot_confusion_matrix(ym_valid, y_pred, normalize=True) "
      ],
      "execution_count": 0,
      "outputs": [
        {
          "output_type": "stream",
          "text": [
            "[[331   6   2   6   0]\n",
            " [ 25 187  86  11  36]\n",
            " [  5  60 226  19  35]\n",
            " [  2   3   4 264  72]\n",
            " [  0   8  24  55 258]]\n",
            " \n",
            "Best accuracy (on testing dataset): 73.39%\n",
            " \n",
            "              precision    recall  f1-score   support\n",
            "\n",
            "           1     0.9118    0.9594    0.9350       345\n",
            "           2     0.7083    0.5420    0.6141       345\n",
            "           3     0.6608    0.6551    0.6579       345\n",
            "           4     0.7437    0.7652    0.7543       345\n",
            "           5     0.6434    0.7478    0.6917       345\n",
            "\n",
            "    accuracy                         0.7339      1725\n",
            "   macro avg     0.7336    0.7339    0.7306      1725\n",
            "weighted avg     0.7336    0.7339    0.7306      1725\n",
            "\n"
          ],
          "name": "stdout"
        },
        {
          "output_type": "execute_result",
          "data": {
            "text/plain": [
              "<matplotlib.axes._subplots.AxesSubplot at 0x7f90ddc06cc0>"
            ]
          },
          "metadata": {
            "tags": []
          },
          "execution_count": 30
        },
        {
          "output_type": "display_data",
          "data": {
            "image/png": "[encoded data removed]",
            "text/plain": [
              "<Figure size 432x288 with 2 Axes>"
            ]
          },
          "metadata": {
            "tags": []
          }
        }
      ]
    },
    {
      "cell_type": "markdown",
      "metadata": {
        "colab_type": "text",
        "id": "ePRPK8FNn5MK"
      },
      "source": [
        "# Logistic Regression"
      ]
    },
    {
      "cell_type": "markdown",
      "metadata": {
        "colab_type": "text",
        "id": "5YV1Fk5Xo8mQ"
      },
      "source": [
        "## Binary Classification"
      ]
    },
    {
      "cell_type": "markdown",
      "metadata": {
        "colab_type": "text",
        "id": "k5FHPImpo8mU"
      },
      "source": [
        "### Model Training and Validation"
      ]
    },
    {
      "cell_type": "code",
      "metadata": {
        "colab_type": "code",
        "id": "6Li_IbUNo8mV",
        "colab": {}
      },
      "source": [
        "from sklearn.linear_model import LogisticRegression\n",
        "\n",
        "logreg = LogisticRegression(penalty='l2', \n",
        "                            dual=False, \n",
        "                            tol=0.0001, \n",
        "                            C=0.0001, \n",
        "                            fit_intercept=True, \n",
        "                            intercept_scaling=1, \n",
        "                            class_weight=None, \n",
        "                            random_state=42, \n",
        "                            solver='liblinear',\n",
        "                            max_iter=100, \n",
        "                            ) \n",
        "logreg.fit(X_train, y_train)\n",
        "y_pred = logreg.predict(X_valid)"
      ],
      "execution_count": 0,
      "outputs": []
    },
    {
      "cell_type": "code",
      "metadata": {
        "id": "eLMD5B2W9bOR",
        "colab_type": "code",
        "outputId": "6ead9ab7-316c-4c5b-8df3-f6f125f41723",
        "colab": {
          "base_uri": "https://localhost:8080/",
          "height": 555
        }
      },
      "source": [
        "print(metrics.confusion_matrix(y_valid,y_pred))\n",
        "print(\" \")\n",
        "print(\"Best accuracy (on validation dataset): %.2f%%\" % (metrics.accuracy_score(y_valid, y_pred)*100))\n",
        "print(\" \")\n",
        "print(metrics.classification_report(y_valid, y_pred,digits=4))\n",
        "skplt.metrics.plot_confusion_matrix(y_valid, y_pred, normalize=True) "
      ],
      "execution_count": 0,
      "outputs": [
        {
          "output_type": "stream",
          "text": [
            "[[1375    5]\n",
            " [ 283   62]]\n",
            " \n",
            "Best accuracy (on testing dataset): 83.30%\n",
            " \n",
            "              precision    recall  f1-score   support\n",
            "\n",
            "           0     0.8293    0.9964    0.9052      1380\n",
            "           1     0.9254    0.1797    0.3010       345\n",
            "\n",
            "    accuracy                         0.8330      1725\n",
            "   macro avg     0.8773    0.5880    0.6031      1725\n",
            "weighted avg     0.8485    0.8330    0.7844      1725\n",
            "\n"
          ],
          "name": "stdout"
        },
        {
          "output_type": "execute_result",
          "data": {
            "text/plain": [
              "<matplotlib.axes._subplots.AxesSubplot at 0x7f0c68f76fd0>"
            ]
          },
          "metadata": {
            "tags": []
          },
          "execution_count": 42
        },
        {
          "output_type": "display_data",
          "data": {
            "image/png": "[encoded data removed]",
            "text/plain": [
              "<Figure size 432x288 with 2 Axes>"
            ]
          },
          "metadata": {
            "tags": []
          }
        }
      ]
    },
    {
      "cell_type": "code",
      "metadata": {
        "id": "BseQg4GepCkJ",
        "colab_type": "code",
        "outputId": "89ca0f6b-fffd-426e-da20-4d68d8dd7db2",
        "colab": {
          "base_uri": "https://localhost:8080/",
          "height": 34
        }
      },
      "source": [
        "metrics.roc_auc_score(y_valid, y_pred)"
      ],
      "execution_count": 0,
      "outputs": [
        {
          "output_type": "execute_result",
          "data": {
            "text/plain": [
              "0.5880434782608696"
            ]
          },
          "metadata": {
            "tags": []
          },
          "execution_count": 43
        }
      ]
    },
    {
      "cell_type": "markdown",
      "metadata": {
        "colab_type": "text",
        "id": "PL-UQA-0o8mZ"
      },
      "source": [
        "## 5-class Classification"
      ]
    },
    {
      "cell_type": "markdown",
      "metadata": {
        "colab_type": "text",
        "id": "jH40zjq9o8md"
      },
      "source": [
        "### Model Training and Validation"
      ]
    },
    {
      "cell_type": "code",
      "metadata": {
        "colab_type": "code",
        "id": "PJwhvEyco8mf",
        "colab": {}
      },
      "source": [
        "from sklearn.linear_model import LogisticRegression\n",
        "logreg = LogisticRegression(penalty='l2', \n",
        "                            dual=False, \n",
        "                            tol=0.0001, \n",
        "                            C=0.001, \n",
        "                            fit_intercept=True, \n",
        "                            intercept_scaling=1, \n",
        "                            class_weight=None, \n",
        "                            random_state=None, \n",
        "                            solver='lbfgs',\n",
        "                            max_iter=100, \n",
        "                            multi_class='multinomial', \n",
        "                            verbose=0, \n",
        "                            warm_start=False, \n",
        "                            n_jobs=None, \n",
        "                            l1_ratio=None)\n",
        "logreg.fit(Xm_train, ym_train)\n",
        "y_train_pred = logreg.predict(Xm_train)\n",
        "y_valid_pred = logreg.predict(Xm_valid)"
      ],
      "execution_count": 0,
      "outputs": []
    },
    {
      "cell_type": "code",
      "metadata": {
        "id": "RxXq98hd2ei1",
        "colab_type": "code",
        "outputId": "ce70e34d-49d2-41fc-ff8b-6ff38a2268f4",
        "colab": {
          "base_uri": "https://localhost:8080/",
          "height": 659
        }
      },
      "source": [
        "print(metrics.confusion_matrix(ym_valid,y_valid_pred))\n",
        "print(\" \")\n",
        "\n",
        "print(\"Best accuracy (on validation dataset): %.2f%%\" % (metrics.accuracy_score(ym_valid, y_valid_pred)*100))\n",
        "print(\" \")\n",
        "print(metrics.classification_report(ym_valid, y_valid_pred,digits=4))\n",
        "skplt.metrics.plot_confusion_matrix(ym_valid, y_valid_pred, normalize=True) "
      ],
      "execution_count": 0,
      "outputs": [
        {
          "output_type": "stream",
          "text": [
            "[[124  64  31  88  38]\n",
            " [ 75  68  34 124  44]\n",
            " [ 68  72  39 126  40]\n",
            " [ 84  53  23 135  50]\n",
            " [ 72  74  21 117  61]]\n",
            " \n",
            "Best accuracy (on valid dataset): 24.75%\n",
            " \n",
            "              precision    recall  f1-score   support\n",
            "\n",
            "           1     0.2931    0.3594    0.3229       345\n",
            "           2     0.2054    0.1971    0.2012       345\n",
            "           3     0.2635    0.1130    0.1582       345\n",
            "           4     0.2288    0.3913    0.2888       345\n",
            "           5     0.2618    0.1768    0.2111       345\n",
            "\n",
            "    accuracy                         0.2475      1725\n",
            "   macro avg     0.2505    0.2475    0.2364      1725\n",
            "weighted avg     0.2505    0.2475    0.2364      1725\n",
            "\n"
          ],
          "name": "stdout"
        },
        {
          "output_type": "execute_result",
          "data": {
            "text/plain": [
              "<matplotlib.axes._subplots.AxesSubplot at 0x7f0c69066c18>"
            ]
          },
          "metadata": {
            "tags": []
          },
          "execution_count": 46
        },
        {
          "output_type": "display_data",
          "data": {
            "image/png": "[encoded data removed]",
            "text/plain": [
              "<Figure size 432x288 with 2 Axes>"
            ]
          },
          "metadata": {
            "tags": []
          }
        }
      ]
    },
    {
      "cell_type": "markdown",
      "metadata": {
        "colab_type": "text",
        "id": "0bjRbO4Pn9nr"
      },
      "source": [
        "# Gradient Boosting"
      ]
    },
    {
      "cell_type": "markdown",
      "metadata": {
        "id": "cLeW3zGaLiRd",
        "colab_type": "text"
      },
      "source": [
        "## Binary Classification"
      ]
    },
    {
      "cell_type": "code",
      "metadata": {
        "id": "XEnoDBobLj2y",
        "colab_type": "code",
        "outputId": "ddf94d57-f52d-411c-da57-f05ffec8a9ec",
        "colab": {
          "base_uri": "https://localhost:8080/",
          "height": 567
        }
      },
      "source": [
        "from xgboost import XGBClassifier\n",
        "\n",
        "\n",
        "model = XGBClassifier(n_estimators=100,\n",
        "                      objective ='binary:logistic',\n",
        "                      learning_rate=0.1,\n",
        "                      gamma=0, \n",
        "                      subsample=0.75,\n",
        "                      colsample_bytree=1,\n",
        "                      max_depth=5,\n",
        "                      min_weight=1, \n",
        "                      random_state=42,\n",
        "                      )\n",
        "model.fit(X_train, y_train)  \n",
        "y_pred = model.predict(X_valid)  \n",
        "\n",
        "print(metrics.confusion_matrix(y_valid,y_pred))\n",
        "print(\" \")\n",
        "print(\"Best accuracy (on validation dataset): %.2f%%\" % (metrics.accuracy_score(y_valid, y_pred)*100))\n",
        "print(\" \")\n",
        "print(metrics.classification_report(y_valid, y_pred,digits=4))\n",
        "skplt.metrics.plot_confusion_matrix(y_valid, y_pred, normalize=True) "
      ],
      "execution_count": 0,
      "outputs": [
        {
          "output_type": "stream",
          "text": [
            "[[1365   15]\n",
            " [  26  319]]\n",
            " \n",
            "Best accuracy (on testing dataset): 97.62%\n",
            " \n",
            "              precision    recall  f1-score   support\n",
            "\n",
            "           0     0.9813    0.9891    0.9852      1380\n",
            "           1     0.9551    0.9246    0.9396       345\n",
            "\n",
            "    accuracy                         0.9762      1725\n",
            "   macro avg     0.9682    0.9569    0.9624      1725\n",
            "weighted avg     0.9761    0.9762    0.9761      1725\n",
            "\n"
          ],
          "name": "stdout"
        },
        {
          "output_type": "execute_result",
          "data": {
            "text/plain": [
              "<matplotlib.axes._subplots.AxesSubplot at 0x7fc1d9029128>"
            ]
          },
          "metadata": {
            "tags": []
          },
          "execution_count": 25
        },
        {
          "output_type": "display_data",
          "data": {
            "image/png": "[encoded data removed]",
            "text/plain": [
              "<Figure size 432x288 with 2 Axes>"
            ]
          },
          "metadata": {
            "tags": []
          }
        }
      ]
    },
    {
      "cell_type": "markdown",
      "metadata": {
        "colab_type": "text",
        "id": "MYNegEHxpxKo"
      },
      "source": [
        "## 5-class Classification XGBoost(gblinear booster) "
      ]
    },
    {
      "cell_type": "markdown",
      "metadata": {
        "colab_type": "text",
        "id": "JSSDFMLvvfYJ"
      },
      "source": [
        "### Model Training and Validation"
      ]
    },
    {
      "cell_type": "code",
      "metadata": {
        "colab_type": "code",
        "id": "e_mlggOrvfXo",
        "outputId": "4c3c1408-b948-4131-a269-514e15dbae65",
        "colab": {
          "base_uri": "https://localhost:8080/",
          "height": 69
        }
      },
      "source": [
        "import time \n",
        "start =time.clock()\n",
        "\n",
        "model = XGBClassifier(n_estimators=100,\n",
        "                      objective ='multi:softmax',\n",
        "                      learning_rate=0.1,\n",
        "                      gamma=0, \n",
        "                      subsample=0.75,\n",
        "                      colsample_bytree=1,\n",
        "                      max_depth=5,\n",
        "                      min_weight=1, \n",
        "                      random_state=42,\n",
        "                      booster='gblinear',\n",
        "                      num_class=5\n",
        "                      )\n",
        "\n",
        "model.fit(Xm_train,ym_train)\n",
        "y_train_pred = model.predict(Xm_train)\n",
        "y_valid_pred = model.predict(Xm_valid)\n",
        "\n",
        "end = time.clock()\n",
        "print('Running time: %s Seconds'%(end-start))"
      ],
      "execution_count": 0,
      "outputs": [
        {
          "output_type": "stream",
          "text": [
            "accuracy:0.242\n",
            "accuracy:0.242\n",
            "Running time: 2.3046380000000113 Seconds\n"
          ],
          "name": "stdout"
        }
      ]
    },
    {
      "cell_type": "code",
      "metadata": {
        "id": "AZazFMl7Bacz",
        "colab_type": "code",
        "outputId": "208025c5-fef1-4f3f-e104-dd77c6e38ca3",
        "colab": {
          "base_uri": "https://localhost:8080/",
          "height": 659
        }
      },
      "source": [
        "from sklearn.metrics import confusion_matrix, classification_report\n",
        "y_pred = model.predict(Xm_valid)\n",
        "\n",
        "print(metrics.confusion_matrix(ym_valid,y_valid_pred))\n",
        "print(\" \")\n",
        "print(\"Best accuracy (on validation dataset): %.2f%%\" % (metrics.accuracy_score(ym_valid, y_valid_pred)*100))\n",
        "print(\" \")\n",
        "print(metrics.classification_report(ym_valid, y_valid_pred,digits=4))\n",
        "skplt.metrics.plot_confusion_matrix(ym_valid, y_valid_pred, normalize=True) "
      ],
      "execution_count": 0,
      "outputs": [
        {
          "output_type": "stream",
          "text": [
            "[[134  60  25  96  30]\n",
            " [ 97  61  27 129  31]\n",
            " [ 88  65  36 129  27]\n",
            " [104  46  20 140  35]\n",
            " [ 86  76  12 124  47]]\n",
            " \n",
            "Best accuracy (on testing dataset): 24.23%\n",
            " \n",
            "              precision    recall  f1-score   support\n",
            "\n",
            "           1     0.2633    0.3884    0.3138       345\n",
            "           2     0.1981    0.1768    0.1868       345\n",
            "           3     0.3000    0.1043    0.1548       345\n",
            "           4     0.2265    0.4058    0.2908       345\n",
            "           5     0.2765    0.1362    0.1825       345\n",
            "\n",
            "    accuracy                         0.2423      1725\n",
            "   macro avg     0.2529    0.2423    0.2258      1725\n",
            "weighted avg     0.2529    0.2423    0.2258      1725\n",
            "\n"
          ],
          "name": "stdout"
        },
        {
          "output_type": "execute_result",
          "data": {
            "text/plain": [
              "<matplotlib.axes._subplots.AxesSubplot at 0x7f0c68e5bd68>"
            ]
          },
          "metadata": {
            "tags": []
          },
          "execution_count": 49
        },
        {
          "output_type": "display_data",
          "data": {
            "image/png": "[encoded data removed]",
            "text/plain": [
              "<Figure size 432x288 with 2 Axes>"
            ]
          },
          "metadata": {
            "tags": []
          }
        }
      ]
    },
    {
      "cell_type": "markdown",
      "metadata": {
        "colab_type": "text",
        "id": "PKq1BvdOn9n3"
      },
      "source": [
        "## 5-class Classification XGBoost(gbtree booster) "
      ]
    },
    {
      "cell_type": "markdown",
      "metadata": {
        "colab_type": "text",
        "id": "BCMTyhh5oP8d"
      },
      "source": [
        "### Model Training and Validation"
      ]
    },
    {
      "cell_type": "code",
      "metadata": {
        "id": "uQVHSaYq0G_g",
        "colab_type": "code",
        "outputId": "7ed6d3cc-1506-413e-b20e-451a1dcf9a7a",
        "colab": {
          "base_uri": "https://localhost:8080/",
          "height": 69
        }
      },
      "source": [
        "import time \n",
        "start =time.clock()\n",
        "\n",
        "\n",
        "model = XGBClassifier(n_estimators=1000,\n",
        "                      learning_rate=0.1,\n",
        "                      gamma=0, \n",
        "                      subsample=0.75,\n",
        "                      colsample_bytree=1,\n",
        "                      max_depth=5,\n",
        "                      min_weight=1, \n",
        "                      random_state=42,\n",
        "                      booster='gbtree',\n",
        "                      objective='multi：softmax',\n",
        "                      )\n",
        "\n",
        "model.fit(Xm_train,ym_train)\n",
        "y_train_pred = model.predict(Xm_train)\n",
        "y_valid_pred = model.predict(Xm_valid)\n",
        "\n",
        "\n",
        "end = time.clock()\n",
        "print('Running time: %s Seconds'%(end-start))"
      ],
      "execution_count": 0,
      "outputs": [
        {
          "output_type": "stream",
          "text": [
            "accuracy:1.000\n",
            "accuracy:0.730\n",
            "Running time: 149.342191 Seconds\n"
          ],
          "name": "stdout"
        }
      ]
    },
    {
      "cell_type": "code",
      "metadata": {
        "colab_type": "code",
        "id": "Eqfl63tXvfY5",
        "outputId": "dea1c699-0fa8-4f1a-8c90-46f5178f7419",
        "colab": {
          "base_uri": "https://localhost:8080/",
          "height": 299
        }
      },
      "source": [
        "import xgboost \n",
        "from matplotlib import pyplot as plt\n",
        "xgboost.plot_importance(model,max_num_features=10)\n",
        "plt.show()"
      ],
      "execution_count": 0,
      "outputs": [
        {
          "output_type": "display_data",
          "data": {
            "image/png": "[encoded data removed]",
            "text/plain": [
              "<Figure size 432x288 with 1 Axes>"
            ]
          },
          "metadata": {
            "tags": []
          }
        }
      ]
    },
    {
      "cell_type": "code",
      "metadata": {
        "colab_type": "code",
        "id": "zJ5bX7YCvfYv",
        "outputId": "0fa2d79f-bf27-45b7-ef26-5f1102221d26",
        "colab": {
          "base_uri": "https://localhost:8080/",
          "height": 659
        }
      },
      "source": [
        "from sklearn.metrics import confusion_matrix, classification_report\n",
        "y_pred = model.predict(Xm_valid)\n",
        "\n",
        "print(metrics.confusion_matrix(ym_valid,y_valid_pred))\n",
        "print(\" \")\n",
        "print(\"Best accuracy (on validation dataset): %.2f%%\" % (metrics.accuracy_score(ym_valid, y_valid_pred)*100))\n",
        "print(\" \")\n",
        "print(metrics.classification_report(ym_valid, y_valid_pred,digits=4))\n",
        "skplt.metrics.plot_confusion_matrix(ym_valid, y_valid_pred, normalize=True) "
      ],
      "execution_count": 0,
      "outputs": [
        {
          "output_type": "stream",
          "text": [
            "[[326   9   5   5   0]\n",
            " [ 15 198 110   4  18]\n",
            " [  4  91 214  13  23]\n",
            " [  2   6   4 259  74]\n",
            " [  0  14  19  50 262]]\n",
            " \n",
            "Best accuracy (on testing dataset): 72.99%\n",
            " \n",
            "              precision    recall  f1-score   support\n",
            "\n",
            "           1     0.9395    0.9449    0.9422       345\n",
            "           2     0.6226    0.5739    0.5973       345\n",
            "           3     0.6080    0.6203    0.6141       345\n",
            "           4     0.7825    0.7507    0.7663       345\n",
            "           5     0.6950    0.7594    0.7258       345\n",
            "\n",
            "    accuracy                         0.7299      1725\n",
            "   macro avg     0.7295    0.7299    0.7291      1725\n",
            "weighted avg     0.7295    0.7299    0.7291      1725\n",
            "\n"
          ],
          "name": "stdout"
        },
        {
          "output_type": "execute_result",
          "data": {
            "text/plain": [
              "<matplotlib.axes._subplots.AxesSubplot at 0x7f0c66933f98>"
            ]
          },
          "metadata": {
            "tags": []
          },
          "execution_count": 52
        },
        {
          "output_type": "display_data",
          "data": {
            "image/png": "[encoded data removed]",
            "text/plain": [
              "<Figure size 432x288 with 2 Axes>"
            ]
          },
          "metadata": {
            "tags": []
          }
        }
      ]
    },
    {
      "cell_type": "markdown",
      "metadata": {
        "id": "jAaNNJEENPgp",
        "colab_type": "text"
      },
      "source": [
        "# Multi-layer Perceptron"
      ]
    },
    {
      "cell_type": "markdown",
      "metadata": {
        "id": "ZTHvl30RmWRx",
        "colab_type": "text"
      },
      "source": [
        "## Binary Classification"
      ]
    },
    {
      "cell_type": "markdown",
      "metadata": {
        "id": "mbFeO4hQmk6h",
        "colab_type": "text"
      },
      "source": [
        "### Specific Pre-processing"
      ]
    },
    {
      "cell_type": "code",
      "metadata": {
        "id": "Jr2BI__9qY8O",
        "colab_type": "code",
        "colab": {}
      },
      "source": [
        "y_train_b = y_train.to_numpy().reshape((y_train.shape[0],1))"
      ],
      "execution_count": 0,
      "outputs": []
    },
    {
      "cell_type": "code",
      "metadata": {
        "id": "9eN8AAO7uqCK",
        "colab_type": "code",
        "colab": {}
      },
      "source": [
        "y_valid_b = y_valid.to_numpy().reshape((y_valid.shape[0],1))"
      ],
      "execution_count": 0,
      "outputs": []
    },
    {
      "cell_type": "code",
      "metadata": {
        "id": "IDKry1SJuKMl",
        "colab_type": "code",
        "outputId": "5c919ff7-4aae-4d94-8d5d-c718be36ed5b",
        "colab": {
          "base_uri": "https://localhost:8080/",
          "height": 34
        }
      },
      "source": [
        "X_train.shape, y_train_b.shape"
      ],
      "execution_count": 0,
      "outputs": [
        {
          "output_type": "execute_result",
          "data": {
            "text/plain": [
              "((8050, 39), (8050, 1))"
            ]
          },
          "metadata": {
            "tags": []
          },
          "execution_count": 56
        }
      ]
    },
    {
      "cell_type": "markdown",
      "metadata": {
        "id": "Imyc6C7GnAV3",
        "colab_type": "text"
      },
      "source": [
        "### Modeling Training and Validation"
      ]
    },
    {
      "cell_type": "code",
      "metadata": {
        "id": "e7qmwp4ypRN4",
        "colab_type": "code",
        "colab": {}
      },
      "source": [
        "def createBinaryModel():\n",
        "\n",
        "    inp = Input(shape=(X_train.shape[1]))\n",
        "    x = Dense(32, activation='relu')(inp)\n",
        "    x = Dense(32, activation='relu')(x)\n",
        "    x = Dropout(0.5)(x)\n",
        "    x = Dense(1, activation='sigmoid')(x)\n",
        "    \n",
        "    # process model\n",
        "    model = Model(inputs=inp, outputs=x)\n",
        "    model.compile(loss='binary_crossentropy',\n",
        "                 optimizer='adam',\n",
        "                 metrics=['accuracy'])\n",
        "    \n",
        "    return model"
      ],
      "execution_count": 0,
      "outputs": []
    },
    {
      "cell_type": "code",
      "metadata": {
        "id": "nsxTGO5jqwap",
        "colab_type": "code",
        "outputId": "bbde1fae-918d-4394-af05-a338b5f46574",
        "colab": {
          "base_uri": "https://localhost:8080/",
          "height": 141
        }
      },
      "source": [
        "binarymodel = createBinaryModel()\n",
        "binarymodelGo = createBinaryModel()"
      ],
      "execution_count": 0,
      "outputs": [
        {
          "output_type": "stream",
          "text": [
            "WARNING:tensorflow:From /usr/local/lib/python3.6/dist-packages/tensorflow/python/ops/init_ops.py:1251: calling VarianceScaling.__init__ (from tensorflow.python.ops.init_ops) with dtype is deprecated and will be removed in a future version.\n",
            "Instructions for updating:\n",
            "Call initializer instance with the dtype argument instead of passing it to the constructor\n",
            "WARNING:tensorflow:From /usr/local/lib/python3.6/dist-packages/tensorflow/python/ops/nn_impl.py:180: add_dispatch_support.<locals>.wrapper (from tensorflow.python.ops.array_ops) is deprecated and will be removed in a future version.\n",
            "Instructions for updating:\n",
            "Use tf.where in 2.0, which has the same broadcast rule as np.where\n"
          ],
          "name": "stdout"
        }
      ]
    },
    {
      "cell_type": "code",
      "metadata": {
        "id": "q7u34C8sqy1e",
        "colab_type": "code",
        "outputId": "d5cc97a4-e9b2-40ca-a4fe-5df204e3293d",
        "colab": {
          "base_uri": "https://localhost:8080/",
          "height": 329
        }
      },
      "source": [
        "binarymodel.summary()"
      ],
      "execution_count": 0,
      "outputs": [
        {
          "output_type": "stream",
          "text": [
            "Model: \"model\"\n",
            "_________________________________________________________________\n",
            "Layer (type)                 Output Shape              Param #   \n",
            "=================================================================\n",
            "input_1 (InputLayer)         [(None, 39)]              0         \n",
            "_________________________________________________________________\n",
            "dense (Dense)                (None, 32)                1280      \n",
            "_________________________________________________________________\n",
            "dense_1 (Dense)              (None, 32)                1056      \n",
            "_________________________________________________________________\n",
            "dropout (Dropout)            (None, 32)                0         \n",
            "_________________________________________________________________\n",
            "dense_2 (Dense)              (None, 1)                 33        \n",
            "=================================================================\n",
            "Total params: 2,369\n",
            "Trainable params: 2,369\n",
            "Non-trainable params: 0\n",
            "_________________________________________________________________\n"
          ],
          "name": "stdout"
        }
      ]
    },
    {
      "cell_type": "code",
      "metadata": {
        "id": "mceS25fvtYXP",
        "colab_type": "code",
        "outputId": "a0e44ffd-e67e-457f-cacd-c6054915d8d8",
        "colab": {
          "base_uri": "https://localhost:8080/",
          "height": 466
        }
      },
      "source": [
        "from tensorflow.keras.utils import plot_model\n",
        "\n",
        "plot_model(binarymodel, to_file='binarymodel.png')"
      ],
      "execution_count": 0,
      "outputs": [
        {
          "output_type": "execute_result",
          "data": {
            "image/png": "[encoded data removed]",
            "text/plain": [
              "<IPython.core.display.Image object>"
            ]
          },
          "metadata": {
            "tags": []
          },
          "execution_count": 60
        }
      ]
    },
    {
      "cell_type": "code",
      "metadata": {
        "id": "eQ93f0MRq7cc",
        "colab_type": "code",
        "colab": {}
      },
      "source": [
        "                            # Create checkpoint for the training\n",
        "                            # This checkpoint performs model saving when\n",
        "                            # an epoch gives highest testing accuracy\n",
        "modelname       = \"binarymodel\"\n",
        "filepath        = modelname + \".hdf5\"\n",
        "checkpoint      = ModelCheckpoint(filepath, \n",
        "                                  monitor='val_acc', \n",
        "                                  verbose=0, \n",
        "                                  save_best_only=True, \n",
        "                                  mode='max')\n",
        "\n",
        "                            # Log the epoch detail into csv\n",
        "csv_logger      = CSVLogger(modelname +'.csv')\n",
        "callbacks_list  = [checkpoint,csv_logger]"
      ],
      "execution_count": 0,
      "outputs": []
    },
    {
      "cell_type": "code",
      "metadata": {
        "id": "dyAn7nx6rFHu",
        "colab_type": "code",
        "outputId": "74834dcb-d489-414c-f1bf-2bb9c5d83a39",
        "colab": {
          "base_uri": "https://localhost:8080/",
          "height": 1000
        }
      },
      "source": [
        "                            # Fit the model\n",
        "                            # This is where the training starts\n",
        "binarymodel.fit(X_train, \n",
        "                y_train_b, \n",
        "                validation_data=(X_valid, y_valid_b), \n",
        "                epochs=40, \n",
        "                batch_size=64,\n",
        "                shuffle=True,\n",
        "                callbacks=callbacks_list)"
      ],
      "execution_count": 0,
      "outputs": [
        {
          "output_type": "stream",
          "text": [
            "Train on 8050 samples, validate on 1725 samples\n",
            "Epoch 1/40\n",
            "8050/8050 [==============================] - 1s 181us/sample - loss: 0.7522 - acc: 0.7491 - val_loss: 0.4938 - val_acc: 0.8835\n",
            "Epoch 2/40\n",
            "8050/8050 [==============================] - 1s 71us/sample - loss: 0.4467 - acc: 0.8781 - val_loss: 0.3009 - val_acc: 0.9391\n",
            "Epoch 3/40\n",
            "8050/8050 [==============================] - 1s 70us/sample - loss: 0.2850 - acc: 0.9260 - val_loss: 0.1854 - val_acc: 0.9519\n",
            "Epoch 4/40\n",
            "8050/8050 [==============================] - 1s 69us/sample - loss: 0.2007 - acc: 0.9416 - val_loss: 0.1354 - val_acc: 0.9577\n",
            "Epoch 5/40\n",
            "8050/8050 [==============================] - 1s 67us/sample - loss: 0.1571 - acc: 0.9537 - val_loss: 0.1164 - val_acc: 0.9612\n",
            "Epoch 6/40\n",
            "8050/8050 [==============================] - 1s 69us/sample - loss: 0.1308 - acc: 0.9589 - val_loss: 0.1051 - val_acc: 0.9623\n",
            "Epoch 7/40\n",
            "8050/8050 [==============================] - 1s 71us/sample - loss: 0.1176 - acc: 0.9668 - val_loss: 0.0991 - val_acc: 0.9658\n",
            "Epoch 8/40\n",
            "8050/8050 [==============================] - 1s 64us/sample - loss: 0.1085 - acc: 0.9665 - val_loss: 0.0939 - val_acc: 0.9646\n",
            "Epoch 9/40\n",
            "8050/8050 [==============================] - 1s 67us/sample - loss: 0.0947 - acc: 0.9692 - val_loss: 0.0869 - val_acc: 0.9699\n",
            "Epoch 10/40\n",
            "8050/8050 [==============================] - 1s 67us/sample - loss: 0.0915 - acc: 0.9707 - val_loss: 0.0843 - val_acc: 0.9687\n",
            "Epoch 11/40\n",
            "8050/8050 [==============================] - 1s 64us/sample - loss: 0.0811 - acc: 0.9719 - val_loss: 0.0838 - val_acc: 0.9693\n",
            "Epoch 12/40\n",
            "8050/8050 [==============================] - 1s 68us/sample - loss: 0.0749 - acc: 0.9748 - val_loss: 0.0804 - val_acc: 0.9710\n",
            "Epoch 13/40\n",
            "8050/8050 [==============================] - 1s 64us/sample - loss: 0.0720 - acc: 0.9761 - val_loss: 0.0814 - val_acc: 0.9687\n",
            "Epoch 14/40\n",
            "8050/8050 [==============================] - 1s 65us/sample - loss: 0.0679 - acc: 0.9770 - val_loss: 0.0788 - val_acc: 0.9710\n",
            "Epoch 15/40\n",
            "8050/8050 [==============================] - 1s 63us/sample - loss: 0.0648 - acc: 0.9781 - val_loss: 0.0776 - val_acc: 0.9710\n",
            "Epoch 16/40\n",
            "8050/8050 [==============================] - 1s 73us/sample - loss: 0.0642 - acc: 0.9769 - val_loss: 0.0740 - val_acc: 0.9745\n",
            "Epoch 17/40\n",
            "8050/8050 [==============================] - 1s 69us/sample - loss: 0.0609 - acc: 0.9801 - val_loss: 0.0753 - val_acc: 0.9733\n",
            "Epoch 18/40\n",
            "8050/8050 [==============================] - 1s 67us/sample - loss: 0.0576 - acc: 0.9796 - val_loss: 0.0716 - val_acc: 0.9757\n",
            "Epoch 19/40\n",
            "8050/8050 [==============================] - 1s 66us/sample - loss: 0.0520 - acc: 0.9829 - val_loss: 0.0748 - val_acc: 0.9768\n",
            "Epoch 20/40\n",
            "8050/8050 [==============================] - 1s 68us/sample - loss: 0.0519 - acc: 0.9826 - val_loss: 0.0735 - val_acc: 0.9762\n",
            "Epoch 21/40\n",
            "8050/8050 [==============================] - 1s 65us/sample - loss: 0.0501 - acc: 0.9840 - val_loss: 0.0730 - val_acc: 0.9751\n",
            "Epoch 22/40\n",
            "8050/8050 [==============================] - 1s 67us/sample - loss: 0.0445 - acc: 0.9848 - val_loss: 0.0747 - val_acc: 0.9751\n",
            "Epoch 23/40\n",
            "8050/8050 [==============================] - 1s 71us/sample - loss: 0.0475 - acc: 0.9840 - val_loss: 0.0719 - val_acc: 0.9745\n",
            "Epoch 24/40\n",
            "8050/8050 [==============================] - 1s 63us/sample - loss: 0.0440 - acc: 0.9855 - val_loss: 0.0759 - val_acc: 0.9728\n",
            "Epoch 25/40\n",
            "8050/8050 [==============================] - 1s 69us/sample - loss: 0.0447 - acc: 0.9855 - val_loss: 0.0798 - val_acc: 0.9722\n",
            "Epoch 26/40\n",
            "8050/8050 [==============================] - 1s 68us/sample - loss: 0.0426 - acc: 0.9845 - val_loss: 0.0731 - val_acc: 0.9757\n",
            "Epoch 27/40\n",
            "8050/8050 [==============================] - 1s 73us/sample - loss: 0.0408 - acc: 0.9871 - val_loss: 0.0845 - val_acc: 0.9733\n",
            "Epoch 28/40\n",
            "8050/8050 [==============================] - 1s 65us/sample - loss: 0.0395 - acc: 0.9866 - val_loss: 0.0793 - val_acc: 0.9757\n",
            "Epoch 29/40\n",
            "8050/8050 [==============================] - 1s 70us/sample - loss: 0.0331 - acc: 0.9893 - val_loss: 0.0838 - val_acc: 0.9739\n",
            "Epoch 30/40\n",
            "8050/8050 [==============================] - 1s 66us/sample - loss: 0.0346 - acc: 0.9884 - val_loss: 0.0808 - val_acc: 0.9751\n",
            "Epoch 31/40\n",
            "8050/8050 [==============================] - 1s 68us/sample - loss: 0.0336 - acc: 0.9889 - val_loss: 0.0795 - val_acc: 0.9751\n",
            "Epoch 32/40\n",
            "8050/8050 [==============================] - 1s 69us/sample - loss: 0.0320 - acc: 0.9898 - val_loss: 0.0825 - val_acc: 0.9757\n",
            "Epoch 33/40\n",
            "8050/8050 [==============================] - 1s 66us/sample - loss: 0.0323 - acc: 0.9898 - val_loss: 0.0792 - val_acc: 0.9762\n",
            "Epoch 34/40\n",
            "8050/8050 [==============================] - 1s 64us/sample - loss: 0.0326 - acc: 0.9884 - val_loss: 0.0827 - val_acc: 0.9757\n",
            "Epoch 35/40\n",
            "8050/8050 [==============================] - 1s 63us/sample - loss: 0.0310 - acc: 0.9892 - val_loss: 0.0869 - val_acc: 0.9739\n",
            "Epoch 36/40\n",
            "8050/8050 [==============================] - 1s 69us/sample - loss: 0.0297 - acc: 0.9894 - val_loss: 0.0879 - val_acc: 0.9739\n",
            "Epoch 37/40\n",
            "8050/8050 [==============================] - 1s 64us/sample - loss: 0.0249 - acc: 0.9924 - val_loss: 0.0885 - val_acc: 0.9745\n",
            "Epoch 38/40\n",
            "8050/8050 [==============================] - 1s 71us/sample - loss: 0.0263 - acc: 0.9909 - val_loss: 0.0898 - val_acc: 0.9745\n",
            "Epoch 39/40\n",
            "8050/8050 [==============================] - 1s 71us/sample - loss: 0.0268 - acc: 0.9917 - val_loss: 0.0920 - val_acc: 0.9739\n",
            "Epoch 40/40\n",
            "8050/8050 [==============================] - 1s 65us/sample - loss: 0.0230 - acc: 0.9917 - val_loss: 0.0946 - val_acc: 0.9739\n"
          ],
          "name": "stdout"
        },
        {
          "output_type": "execute_result",
          "data": {
            "text/plain": [
              "<tensorflow.python.keras.callbacks.History at 0x7f0c65dc7ac8>"
            ]
          },
          "metadata": {
            "tags": []
          },
          "execution_count": 62
        }
      ]
    },
    {
      "cell_type": "code",
      "metadata": {
        "id": "EoF1hyu0MRQA",
        "colab_type": "code",
        "colab": {}
      },
      "source": [
        "binarymodelGo.load_weights(filepath)\n",
        "binarymodelGo.compile(loss='binary_crossentropy', \n",
        "                      optimizer='adam', \n",
        "                      metrics=['accuracy'])"
      ],
      "execution_count": 0,
      "outputs": []
    },
    {
      "cell_type": "code",
      "metadata": {
        "id": "DwJH_71erku8",
        "colab_type": "code",
        "colab": {}
      },
      "source": [
        "predicts    = binarymodelGo.predict(X_valid)\n",
        "predout     = np.where(predicts.reshape(-1) > 0.5, 1, 0)\n",
        "testout     = y_valid_b.reshape(-1)"
      ],
      "execution_count": 0,
      "outputs": []
    },
    {
      "cell_type": "code",
      "metadata": {
        "id": "At6DZ6AXeY8e",
        "colab_type": "code",
        "outputId": "de1aefc8-6a4d-4b01-b9d9-4da163b417c3",
        "colab": {
          "base_uri": "https://localhost:8080/",
          "height": 51
        }
      },
      "source": [
        "binarymodelGo.evaluate(X_valid, y_valid_b, batch_size=128)"
      ],
      "execution_count": 0,
      "outputs": [
        {
          "output_type": "stream",
          "text": [
            "1725/1725 [==============================] - 0s 37us/sample - loss: 0.0748 - acc: 0.9768\n"
          ],
          "name": "stdout"
        },
        {
          "output_type": "execute_result",
          "data": {
            "text/plain": [
              "[0.07475679881114891, 0.9768116]"
            ]
          },
          "metadata": {
            "tags": []
          },
          "execution_count": 65
        }
      ]
    },
    {
      "cell_type": "code",
      "metadata": {
        "id": "spM2CUYkx9-A",
        "colab_type": "code",
        "colab": {}
      },
      "source": [
        "testScores  = metrics.accuracy_score(testout,predout)\n",
        "confusion   = metrics.confusion_matrix(testout,predout)"
      ],
      "execution_count": 0,
      "outputs": []
    },
    {
      "cell_type": "code",
      "metadata": {
        "id": "A29JOvGMyGsN",
        "colab_type": "code",
        "outputId": "2215750b-c4a4-484c-b541-e40971bb5b48",
        "colab": {
          "base_uri": "https://localhost:8080/",
          "height": 225
        }
      },
      "source": [
        "print(\"Best accuracy (on validation dataset): %.2f%%\" % (testScores*100))\n",
        "print(metrics.classification_report(testout,predout,digits=4))\n",
        "print(confusion)"
      ],
      "execution_count": 0,
      "outputs": [
        {
          "output_type": "stream",
          "text": [
            "Best accuracy (on testing dataset): 97.68%\n",
            "              precision    recall  f1-score   support\n",
            "\n",
            "           0     0.9841    0.9870    0.9855      1380\n",
            "           1     0.9472    0.9362    0.9417       345\n",
            "\n",
            "    accuracy                         0.9768      1725\n",
            "   macro avg     0.9657    0.9616    0.9636      1725\n",
            "weighted avg     0.9767    0.9768    0.9768      1725\n",
            "\n",
            "[[1362   18]\n",
            " [  22  323]]\n"
          ],
          "name": "stdout"
        }
      ]
    },
    {
      "cell_type": "code",
      "metadata": {
        "id": "vL8Z7cYTyj-m",
        "colab_type": "code",
        "outputId": "ff1bd4bb-e151-4a2b-f021-23eed0949c58",
        "colab": {
          "base_uri": "https://localhost:8080/",
          "height": 34
        }
      },
      "source": [
        "metrics.roc_auc_score(testout, predicts)"
      ],
      "execution_count": 0,
      "outputs": [
        {
          "output_type": "execute_result",
          "data": {
            "text/plain": [
              "0.9935118672547784"
            ]
          },
          "metadata": {
            "tags": []
          },
          "execution_count": 68
        }
      ]
    },
    {
      "cell_type": "code",
      "metadata": {
        "id": "aQC0tGujdFWp",
        "colab_type": "code",
        "outputId": "7a016cb1-9967-4b50-bf0e-e2a824e7331d",
        "colab": {
          "base_uri": "https://localhost:8080/",
          "height": 312
        }
      },
      "source": [
        "skplt.metrics.plot_confusion_matrix(testout, predout, normalize=True)"
      ],
      "execution_count": 0,
      "outputs": [
        {
          "output_type": "execute_result",
          "data": {
            "text/plain": [
              "<matplotlib.axes._subplots.AxesSubplot at 0x7f0c1d222358>"
            ]
          },
          "metadata": {
            "tags": []
          },
          "execution_count": 69
        },
        {
          "output_type": "display_data",
          "data": {
            "image/png": "[encoded data removed]",
            "text/plain": [
              "<Figure size 432x288 with 2 Axes>"
            ]
          },
          "metadata": {
            "tags": []
          }
        }
      ]
    },
    {
      "cell_type": "code",
      "metadata": {
        "id": "mkwFfx2qUeSX",
        "colab_type": "code",
        "outputId": "a01df274-c351-4485-ea5c-4f3a9a60ed99",
        "colab": {
          "base_uri": "https://localhost:8080/",
          "height": 281
        }
      },
      "source": [
        "import pandas as pd\n",
        "\n",
        "records     = pd.read_csv(modelname +'.csv')\n",
        "plt.figure()\n",
        "plt.subplot(211)\n",
        "plt.plot(records['val_loss'])\n",
        "plt.plot(records['loss'])\n",
        "plt.yticks([0,0.20,0.40,0.60,0.80,1.00])\n",
        "plt.title('Loss value',fontsize=12)\n",
        "\n",
        "ax          = plt.gca()\n",
        "ax.set_xticklabels([])\n",
        "\n",
        "\n",
        "\n",
        "plt.subplot(212)\n",
        "plt.plot(records['val_acc'])\n",
        "plt.plot(records['acc'])\n",
        "plt.yticks([0.6,0.7,0.8,0.9,1.0])\n",
        "plt.title('Accuracy',fontsize=12)\n",
        "plt.show()"
      ],
      "execution_count": 0,
      "outputs": [
        {
          "output_type": "display_data",
          "data": {
            "image/png": "[encoded data removed]",
            "text/plain": [
              "<Figure size 432x288 with 2 Axes>"
            ]
          },
          "metadata": {
            "tags": []
          }
        }
      ]
    },
    {
      "cell_type": "markdown",
      "metadata": {
        "id": "ZbDlR1VmUY-q",
        "colab_type": "text"
      },
      "source": [
        "## 5-class Classification - MLP"
      ]
    },
    {
      "cell_type": "markdown",
      "metadata": {
        "id": "A2lnSmNim6an",
        "colab_type": "text"
      },
      "source": [
        "### 5-class specific pre-processing"
      ]
    },
    {
      "cell_type": "code",
      "metadata": {
        "id": "0Ia2FBATVGRY",
        "colab_type": "code",
        "colab": {}
      },
      "source": [
        "from tensorflow.keras.utils import to_categorical\n",
        "ym_train_c = to_categorical(ym_train-1)\n",
        "ym_valid_c = to_categorical(ym_valid-1)\n",
        "ym_test_c = to_categorical(ym_test-1)"
      ],
      "execution_count": 0,
      "outputs": []
    },
    {
      "cell_type": "code",
      "metadata": {
        "id": "3BRdmHq0jBN3",
        "colab_type": "code",
        "outputId": "18caa3b9-5fa0-402f-f52c-401323c8c94a",
        "colab": {
          "base_uri": "https://localhost:8080/",
          "height": 34
        }
      },
      "source": [
        "Xm_train.shape, ym_train_c.shape"
      ],
      "execution_count": 0,
      "outputs": [
        {
          "output_type": "execute_result",
          "data": {
            "text/plain": [
              "((8050, 40), (8050, 5))"
            ]
          },
          "metadata": {
            "tags": []
          },
          "execution_count": 78
        }
      ]
    },
    {
      "cell_type": "markdown",
      "metadata": {
        "id": "t-wDWmEmnFFA",
        "colab_type": "text"
      },
      "source": [
        "### Model Training and Validation"
      ]
    },
    {
      "cell_type": "code",
      "metadata": {
        "id": "RC8Y67kTWQv8",
        "colab_type": "code",
        "colab": {}
      },
      "source": [
        "def createMultiMLPModel():\n",
        "\n",
        "    inp = Input(shape=(Xm_train.shape[1]))\n",
        "    x = Dense(32, activation='relu')(inp)\n",
        "    x = Dense(32, activation='relu')(x)\n",
        "    x = Dropout(0.5)(x)\n",
        "    x = Dense(5, activation='softmax')(x)\n",
        "    \n",
        "    # process model\n",
        "    model = Model(inputs=inp, outputs=x)\n",
        "    model.compile(loss='categorical_crossentropy',\n",
        "                 optimizer='adam',\n",
        "                 metrics=['accuracy'])\n",
        "    \n",
        "    return model"
      ],
      "execution_count": 0,
      "outputs": []
    },
    {
      "cell_type": "code",
      "metadata": {
        "id": "H2hgY9K0WQtf",
        "colab_type": "code",
        "colab": {}
      },
      "source": [
        "multiMLPModel = createMultiMLPModel()\n",
        "multiMLPModelGo = createMultiMLPModel()"
      ],
      "execution_count": 0,
      "outputs": []
    },
    {
      "cell_type": "code",
      "metadata": {
        "id": "o9s_PuuZWQq_",
        "colab_type": "code",
        "outputId": "e98e746c-c7c8-4323-a5b4-a58991757213",
        "colab": {
          "base_uri": "https://localhost:8080/",
          "height": 329
        }
      },
      "source": [
        "multiMLPModel.summary()"
      ],
      "execution_count": 0,
      "outputs": [
        {
          "output_type": "stream",
          "text": [
            "Model: \"model_2\"\n",
            "_________________________________________________________________\n",
            "Layer (type)                 Output Shape              Param #   \n",
            "=================================================================\n",
            "input_3 (InputLayer)         [(None, 40)]              0         \n",
            "_________________________________________________________________\n",
            "dense_6 (Dense)              (None, 32)                1312      \n",
            "_________________________________________________________________\n",
            "dense_7 (Dense)              (None, 32)                1056      \n",
            "_________________________________________________________________\n",
            "dropout_2 (Dropout)          (None, 32)                0         \n",
            "_________________________________________________________________\n",
            "dense_8 (Dense)              (None, 5)                 165       \n",
            "=================================================================\n",
            "Total params: 2,533\n",
            "Trainable params: 2,533\n",
            "Non-trainable params: 0\n",
            "_________________________________________________________________\n"
          ],
          "name": "stdout"
        }
      ]
    },
    {
      "cell_type": "code",
      "metadata": {
        "id": "OJDuWW2kjOYN",
        "colab_type": "code",
        "outputId": "78966f01-f74a-4d93-9837-2e2da9e87827",
        "colab": {
          "base_uri": "https://localhost:8080/",
          "height": 466
        }
      },
      "source": [
        "from tensorflow.keras.utils import plot_model\n",
        "plot_model(multiMLPModel, to_file='multiMLPModel.png')"
      ],
      "execution_count": 0,
      "outputs": [
        {
          "output_type": "execute_result",
          "data": {
            "image/png": "[encoded data removed]",
            "text/plain": [
              "<IPython.core.display.Image object>"
            ]
          },
          "metadata": {
            "tags": []
          },
          "execution_count": 82
        }
      ]
    },
    {
      "cell_type": "code",
      "metadata": {
        "id": "8a0TjGPPWQor",
        "colab_type": "code",
        "colab": {}
      },
      "source": [
        "                            # Create checkpoint for the training\n",
        "                            # This checkpoint performs model saving when\n",
        "                            # an epoch gives highest testing accuracy\n",
        "modelname       = \"multiMLPModel\"\n",
        "filepath        = modelname + \".hdf5\"\n",
        "checkpoint      = ModelCheckpoint(filepath, \n",
        "                                  monitor='val_acc', \n",
        "                                  verbose=0, \n",
        "                                  save_best_only=True, \n",
        "                                  mode='max')\n",
        "\n",
        "                            # Log the epoch detail into csv\n",
        "csv_logger      = CSVLogger(modelname +'.csv')\n",
        "callbacks_list  = [checkpoint,csv_logger]"
      ],
      "execution_count": 0,
      "outputs": []
    },
    {
      "cell_type": "code",
      "metadata": {
        "id": "KTzOAXRRWQmO",
        "colab_type": "code",
        "outputId": "9ec0a455-6fd0-4181-f820-6f81bce83b4b",
        "colab": {
          "base_uri": "https://localhost:8080/",
          "height": 1000
        }
      },
      "source": [
        "                            # Fit the model\n",
        "                            # This is where the training starts\n",
        "multiMLPModel.fit(Xm_train, \n",
        "                  ym_train_c, \n",
        "                  validation_data=(Xm_valid, ym_valid_c), \n",
        "                  epochs=50, \n",
        "                  batch_size=32,\n",
        "                  shuffle=True,\n",
        "                  callbacks=callbacks_list)"
      ],
      "execution_count": 0,
      "outputs": [
        {
          "output_type": "stream",
          "text": [
            "Train on 8050 samples, validate on 1725 samples\n",
            "Epoch 1/50\n",
            "8050/8050 [==============================] - 1s 160us/sample - loss: 1.6031 - acc: 0.2665 - val_loss: 1.3712 - val_acc: 0.3797\n",
            "Epoch 2/50\n",
            "8050/8050 [==============================] - 1s 127us/sample - loss: 1.3637 - acc: 0.3723 - val_loss: 1.2846 - val_acc: 0.4441\n",
            "Epoch 3/50\n",
            "8050/8050 [==============================] - 1s 128us/sample - loss: 1.2805 - acc: 0.4317 - val_loss: 1.2125 - val_acc: 0.4962\n",
            "Epoch 4/50\n",
            "8050/8050 [==============================] - 1s 128us/sample - loss: 1.2138 - acc: 0.4583 - val_loss: 1.1529 - val_acc: 0.5107\n",
            "Epoch 5/50\n",
            "8050/8050 [==============================] - 1s 131us/sample - loss: 1.1603 - acc: 0.4773 - val_loss: 1.0951 - val_acc: 0.5287\n",
            "Epoch 6/50\n",
            "8050/8050 [==============================] - 1s 127us/sample - loss: 1.1022 - acc: 0.5070 - val_loss: 1.0415 - val_acc: 0.5513\n",
            "Epoch 7/50\n",
            "8050/8050 [==============================] - 1s 127us/sample - loss: 1.0630 - acc: 0.5195 - val_loss: 0.9920 - val_acc: 0.5629\n",
            "Epoch 8/50\n",
            "8050/8050 [==============================] - 1s 126us/sample - loss: 1.0174 - acc: 0.5388 - val_loss: 0.9474 - val_acc: 0.5872\n",
            "Epoch 9/50\n",
            "8050/8050 [==============================] - 1s 125us/sample - loss: 0.9775 - acc: 0.5566 - val_loss: 0.9182 - val_acc: 0.6058\n",
            "Epoch 10/50\n",
            "8050/8050 [==============================] - 1s 129us/sample - loss: 0.9331 - acc: 0.5805 - val_loss: 0.8816 - val_acc: 0.6238\n",
            "Epoch 11/50\n",
            "8050/8050 [==============================] - 1s 127us/sample - loss: 0.9031 - acc: 0.5929 - val_loss: 0.8643 - val_acc: 0.6319\n",
            "Epoch 12/50\n",
            "8050/8050 [==============================] - 1s 131us/sample - loss: 0.8807 - acc: 0.6000 - val_loss: 0.8478 - val_acc: 0.6359\n",
            "Epoch 13/50\n",
            "8050/8050 [==============================] - 1s 125us/sample - loss: 0.8577 - acc: 0.6109 - val_loss: 0.8301 - val_acc: 0.6301\n",
            "Epoch 14/50\n",
            "8050/8050 [==============================] - 1s 130us/sample - loss: 0.8279 - acc: 0.6263 - val_loss: 0.8194 - val_acc: 0.6365\n",
            "Epoch 15/50\n",
            "8050/8050 [==============================] - 1s 126us/sample - loss: 0.8260 - acc: 0.6280 - val_loss: 0.8141 - val_acc: 0.6272\n",
            "Epoch 16/50\n",
            "8050/8050 [==============================] - 1s 123us/sample - loss: 0.8007 - acc: 0.6360 - val_loss: 0.8053 - val_acc: 0.6296\n",
            "Epoch 17/50\n",
            "8050/8050 [==============================] - 1s 123us/sample - loss: 0.7883 - acc: 0.6421 - val_loss: 0.8038 - val_acc: 0.6336\n",
            "Epoch 18/50\n",
            "8050/8050 [==============================] - 1s 122us/sample - loss: 0.7775 - acc: 0.6422 - val_loss: 0.7901 - val_acc: 0.6319\n",
            "Epoch 19/50\n",
            "8050/8050 [==============================] - 1s 118us/sample - loss: 0.7598 - acc: 0.6520 - val_loss: 0.7814 - val_acc: 0.6336\n",
            "Epoch 20/50\n",
            "8050/8050 [==============================] - 1s 123us/sample - loss: 0.7477 - acc: 0.6529 - val_loss: 0.7768 - val_acc: 0.6417\n",
            "Epoch 21/50\n",
            "8050/8050 [==============================] - 1s 124us/sample - loss: 0.7427 - acc: 0.6610 - val_loss: 0.7795 - val_acc: 0.6400\n",
            "Epoch 22/50\n",
            "8050/8050 [==============================] - 1s 123us/sample - loss: 0.7290 - acc: 0.6596 - val_loss: 0.7684 - val_acc: 0.6417\n",
            "Epoch 23/50\n",
            "8050/8050 [==============================] - 1s 129us/sample - loss: 0.7165 - acc: 0.6735 - val_loss: 0.7748 - val_acc: 0.6481\n",
            "Epoch 24/50\n",
            "8050/8050 [==============================] - 1s 125us/sample - loss: 0.7171 - acc: 0.6636 - val_loss: 0.7739 - val_acc: 0.6336\n",
            "Epoch 25/50\n",
            "8050/8050 [==============================] - 1s 123us/sample - loss: 0.7034 - acc: 0.6655 - val_loss: 0.7614 - val_acc: 0.6429\n",
            "Epoch 26/50\n",
            "8050/8050 [==============================] - 1s 132us/sample - loss: 0.6926 - acc: 0.6744 - val_loss: 0.7649 - val_acc: 0.6487\n",
            "Epoch 27/50\n",
            "8050/8050 [==============================] - 1s 124us/sample - loss: 0.6947 - acc: 0.6758 - val_loss: 0.7686 - val_acc: 0.6446\n",
            "Epoch 28/50\n",
            "8050/8050 [==============================] - 1s 127us/sample - loss: 0.6868 - acc: 0.6802 - val_loss: 0.7585 - val_acc: 0.6493\n",
            "Epoch 29/50\n",
            "8050/8050 [==============================] - 1s 126us/sample - loss: 0.6779 - acc: 0.6824 - val_loss: 0.7606 - val_acc: 0.6493\n",
            "Epoch 30/50\n",
            "8050/8050 [==============================] - 1s 125us/sample - loss: 0.6707 - acc: 0.6831 - val_loss: 0.7546 - val_acc: 0.6452\n",
            "Epoch 31/50\n",
            "8050/8050 [==============================] - 1s 123us/sample - loss: 0.6718 - acc: 0.6817 - val_loss: 0.7559 - val_acc: 0.6452\n",
            "Epoch 32/50\n",
            "8050/8050 [==============================] - 1s 124us/sample - loss: 0.6609 - acc: 0.6860 - val_loss: 0.7573 - val_acc: 0.6539\n",
            "Epoch 33/50\n",
            "8050/8050 [==============================] - 1s 127us/sample - loss: 0.6531 - acc: 0.6947 - val_loss: 0.7519 - val_acc: 0.6528\n",
            "Epoch 34/50\n",
            "8050/8050 [==============================] - 1s 125us/sample - loss: 0.6574 - acc: 0.6856 - val_loss: 0.7495 - val_acc: 0.6557\n",
            "Epoch 35/50\n",
            "8050/8050 [==============================] - 1s 128us/sample - loss: 0.6485 - acc: 0.6932 - val_loss: 0.7548 - val_acc: 0.6446\n",
            "Epoch 36/50\n",
            "8050/8050 [==============================] - 1s 124us/sample - loss: 0.6375 - acc: 0.6955 - val_loss: 0.7503 - val_acc: 0.6545\n",
            "Epoch 37/50\n",
            "8050/8050 [==============================] - 1s 125us/sample - loss: 0.6426 - acc: 0.6954 - val_loss: 0.7571 - val_acc: 0.6557\n",
            "Epoch 38/50\n",
            "8050/8050 [==============================] - 1s 124us/sample - loss: 0.6384 - acc: 0.6933 - val_loss: 0.7664 - val_acc: 0.6557\n",
            "Epoch 39/50\n",
            "8050/8050 [==============================] - 1s 125us/sample - loss: 0.6324 - acc: 0.7021 - val_loss: 0.7626 - val_acc: 0.6475\n",
            "Epoch 40/50\n",
            "8050/8050 [==============================] - 1s 124us/sample - loss: 0.6319 - acc: 0.6975 - val_loss: 0.7497 - val_acc: 0.6557\n",
            "Epoch 41/50\n",
            "8050/8050 [==============================] - 1s 124us/sample - loss: 0.6274 - acc: 0.6994 - val_loss: 0.7610 - val_acc: 0.6545\n",
            "Epoch 42/50\n",
            "8050/8050 [==============================] - 1s 127us/sample - loss: 0.6197 - acc: 0.7002 - val_loss: 0.7616 - val_acc: 0.6574\n",
            "Epoch 43/50\n",
            "8050/8050 [==============================] - 1s 128us/sample - loss: 0.6308 - acc: 0.6958 - val_loss: 0.7579 - val_acc: 0.6533\n",
            "Epoch 44/50\n",
            "8050/8050 [==============================] - 1s 129us/sample - loss: 0.6216 - acc: 0.7051 - val_loss: 0.7565 - val_acc: 0.6603\n",
            "Epoch 45/50\n",
            "8050/8050 [==============================] - 1s 124us/sample - loss: 0.6188 - acc: 0.7004 - val_loss: 0.7630 - val_acc: 0.6516\n",
            "Epoch 46/50\n",
            "8050/8050 [==============================] - 1s 122us/sample - loss: 0.6098 - acc: 0.7096 - val_loss: 0.7727 - val_acc: 0.6539\n",
            "Epoch 47/50\n",
            "8050/8050 [==============================] - 1s 119us/sample - loss: 0.6068 - acc: 0.7116 - val_loss: 0.7755 - val_acc: 0.6574\n",
            "Epoch 48/50\n",
            "8050/8050 [==============================] - 1s 125us/sample - loss: 0.6108 - acc: 0.7016 - val_loss: 0.7758 - val_acc: 0.6475\n",
            "Epoch 49/50\n",
            "8050/8050 [==============================] - 1s 124us/sample - loss: 0.5996 - acc: 0.7077 - val_loss: 0.7767 - val_acc: 0.6458\n",
            "Epoch 50/50\n",
            "8050/8050 [==============================] - 1s 125us/sample - loss: 0.6035 - acc: 0.7070 - val_loss: 0.7757 - val_acc: 0.6522\n"
          ],
          "name": "stdout"
        },
        {
          "output_type": "execute_result",
          "data": {
            "text/plain": [
              "<tensorflow.python.keras.callbacks.History at 0x7f0c1b3590f0>"
            ]
          },
          "metadata": {
            "tags": []
          },
          "execution_count": 84
        }
      ]
    },
    {
      "cell_type": "code",
      "metadata": {
        "id": "HqHEinmKM8jb",
        "colab_type": "code",
        "colab": {}
      },
      "source": [
        "multiMLPModelGo.load_weights(filepath)\n",
        "multiMLPModelGo.compile(loss='categorical_crossentropy', \n",
        "                        optimizer='adam', \n",
        "                        metrics=['accuracy'])"
      ],
      "execution_count": 0,
      "outputs": []
    },
    {
      "cell_type": "code",
      "metadata": {
        "id": "jcTg4deGWQhT",
        "colab_type": "code",
        "colab": {}
      },
      "source": [
        "mpredicts    = multiMLPModel.predict(Xm_valid)\n",
        "mpredout     = np.argmax(mpredicts,axis=1)\n",
        "mtestout     = np.argmax(ym_valid_c,axis=1)"
      ],
      "execution_count": 0,
      "outputs": []
    },
    {
      "cell_type": "code",
      "metadata": {
        "id": "jewR_qiVWQeY",
        "colab_type": "code",
        "colab": {}
      },
      "source": [
        "mtestScores  = metrics.accuracy_score(mtestout,mpredout)\n",
        "mconfusion   = metrics.confusion_matrix(mtestout,mpredout)"
      ],
      "execution_count": 0,
      "outputs": []
    },
    {
      "cell_type": "code",
      "metadata": {
        "id": "BBnyEBiOXnkn",
        "colab_type": "code",
        "outputId": "a7b9f9d7-b4e5-4d2a-8e0a-ae6fc3ae7ea1",
        "colab": {
          "base_uri": "https://localhost:8080/",
          "height": 329
        }
      },
      "source": [
        "print(\"Best accuracy (on validation dataset): %.2f%%\" % (mtestScores*100))\n",
        "print(metrics.classification_report(mtestout,mpredout,digits=4))\n",
        "print(mconfusion)"
      ],
      "execution_count": 0,
      "outputs": [
        {
          "output_type": "stream",
          "text": [
            "Best accuracy (on testing dataset): 65.22%\n",
            "              precision    recall  f1-score   support\n",
            "\n",
            "           0     0.9472    0.9362    0.9417       345\n",
            "           1     0.5131    0.2841    0.3657       345\n",
            "           2     0.4697    0.6957    0.5607       345\n",
            "           3     0.7884    0.6696    0.7241       345\n",
            "           4     0.5990    0.6754    0.6349       345\n",
            "\n",
            "    accuracy                         0.6522      1725\n",
            "   macro avg     0.6635    0.6522    0.6454      1725\n",
            "weighted avg     0.6635    0.6522    0.6454      1725\n",
            "\n",
            "[[323  14   2   6   0]\n",
            " [ 12  98 204   3  28]\n",
            " [  0  66 240   3  36]\n",
            " [  6   7   9 231  92]\n",
            " [  0   6  56  50 233]]\n"
          ],
          "name": "stdout"
        }
      ]
    },
    {
      "cell_type": "code",
      "metadata": {
        "id": "Sxm4vuTyk4Lu",
        "colab_type": "code",
        "outputId": "e8200daa-1a44-4d8e-bd77-d8e5d093f274",
        "colab": {
          "base_uri": "https://localhost:8080/",
          "height": 312
        }
      },
      "source": [
        "skplt.metrics.plot_confusion_matrix(mtestout, mpredout, normalize=True)"
      ],
      "execution_count": 0,
      "outputs": [
        {
          "output_type": "execute_result",
          "data": {
            "text/plain": [
              "<matplotlib.axes._subplots.AxesSubplot at 0x7f0c1b00cda0>"
            ]
          },
          "metadata": {
            "tags": []
          },
          "execution_count": 89
        },
        {
          "output_type": "display_data",
          "data": {
            "image/png": "[encoded data removed]",
            "text/plain": [
              "<Figure size 432x288 with 2 Axes>"
            ]
          },
          "metadata": {
            "tags": []
          }
        }
      ]
    },
    {
      "cell_type": "markdown",
      "metadata": {
        "id": "4zHW_VyJYPu5",
        "colab_type": "text"
      },
      "source": [
        "# Convolutional Neural Network\n",
        "- note not required for binary class due to accuracy rates achieved"
      ]
    },
    {
      "cell_type": "markdown",
      "metadata": {
        "id": "DnihcaTanVmt",
        "colab_type": "text"
      },
      "source": [
        "## 5-class classification"
      ]
    },
    {
      "cell_type": "markdown",
      "metadata": {
        "id": "LCJqLUGvnfG7",
        "colab_type": "text"
      },
      "source": [
        "### Specific pre-processing"
      ]
    },
    {
      "cell_type": "code",
      "metadata": {
        "id": "RJW0zajcVWSo",
        "colab_type": "code",
        "colab": {}
      },
      "source": [
        "Xm_train2 = Xm_train.reshape((8050, 40,1))\n",
        "Xm_valid2 = Xm_valid.reshape((1725, 40,1))"
      ],
      "execution_count": 0,
      "outputs": []
    },
    {
      "cell_type": "code",
      "metadata": {
        "id": "kM_hAFSkVKlb",
        "colab_type": "code",
        "outputId": "9f66bcb7-41a8-439e-a5d0-f912001c0392",
        "colab": {
          "base_uri": "https://localhost:8080/",
          "height": 34
        }
      },
      "source": [
        "Xm_train2.shape, Xm_valid2.shape, ym_train_c.shape, ym_valid_c.shape"
      ],
      "execution_count": 0,
      "outputs": [
        {
          "output_type": "execute_result",
          "data": {
            "text/plain": [
              "((8050, 40, 1), (1725, 40, 1), (8050, 5), (1725, 5))"
            ]
          },
          "metadata": {
            "tags": []
          },
          "execution_count": 91
        }
      ]
    },
    {
      "cell_type": "markdown",
      "metadata": {
        "id": "c7mjH3pZnizM",
        "colab_type": "text"
      },
      "source": [
        "### Model training and validation"
      ]
    },
    {
      "cell_type": "code",
      "metadata": {
        "id": "W3jo3R0FVNoT",
        "colab_type": "code",
        "colab": {}
      },
      "source": [
        "def createMultiConvModel():\n",
        "\n",
        "    inp = Input(shape=(Xm_train2.shape[1],Xm_train2.shape[2]))\n",
        "    x = Conv1D(48, 3, padding='same')(inp)\n",
        "    x = Conv1D(64, 3, padding='same')(x)\n",
        "    x = MaxPooling1D(2)(x)\n",
        "    x = Flatten()(x)\n",
        "    x = Dropout(0.25)(x)\n",
        "    x = Dense(128, activation='relu')(x)\n",
        "    x = Dropout(0.5)(x)\n",
        "    x = Dense(5, activation='softmax')(x)\n",
        "    \n",
        "    # process model\n",
        "    model = Model(inputs=inp, outputs=x)\n",
        "    model.compile(loss='categorical_crossentropy',\n",
        "                 optimizer='adam',\n",
        "                 metrics=['accuracy'])\n",
        "    \n",
        "    return model"
      ],
      "execution_count": 0,
      "outputs": []
    },
    {
      "cell_type": "code",
      "metadata": {
        "id": "8oOebolaYgFy",
        "colab_type": "code",
        "colab": {}
      },
      "source": [
        "multiConvModel = createMultiConvModel()\n",
        "multiConvModelGo = createMultiConvModel()"
      ],
      "execution_count": 0,
      "outputs": []
    },
    {
      "cell_type": "code",
      "metadata": {
        "id": "U3dFTXHPYj8r",
        "colab_type": "code",
        "outputId": "8c9ee4b8-a8c3-4c94-bd9d-db9e81fec1d7",
        "colab": {
          "base_uri": "https://localhost:8080/",
          "height": 467
        }
      },
      "source": [
        "multiConvModel.summary()"
      ],
      "execution_count": 0,
      "outputs": [
        {
          "output_type": "stream",
          "text": [
            "Model: \"model_4\"\n",
            "_________________________________________________________________\n",
            "Layer (type)                 Output Shape              Param #   \n",
            "=================================================================\n",
            "input_5 (InputLayer)         [(None, 40, 1)]           0         \n",
            "_________________________________________________________________\n",
            "conv1d (Conv1D)              (None, 40, 48)            192       \n",
            "_________________________________________________________________\n",
            "conv1d_1 (Conv1D)            (None, 40, 64)            9280      \n",
            "_________________________________________________________________\n",
            "max_pooling1d (MaxPooling1D) (None, 20, 64)            0         \n",
            "_________________________________________________________________\n",
            "flatten (Flatten)            (None, 1280)              0         \n",
            "_________________________________________________________________\n",
            "dropout_4 (Dropout)          (None, 1280)              0         \n",
            "_________________________________________________________________\n",
            "dense_12 (Dense)             (None, 128)               163968    \n",
            "_________________________________________________________________\n",
            "dropout_5 (Dropout)          (None, 128)               0         \n",
            "_________________________________________________________________\n",
            "dense_13 (Dense)             (None, 5)                 645       \n",
            "=================================================================\n",
            "Total params: 174,085\n",
            "Trainable params: 174,085\n",
            "Non-trainable params: 0\n",
            "_________________________________________________________________\n"
          ],
          "name": "stdout"
        }
      ]
    },
    {
      "cell_type": "code",
      "metadata": {
        "id": "L8o3NJYMvbQQ",
        "colab_type": "code",
        "outputId": "1d3dca3e-1646-48dd-81b7-45af7618e141",
        "colab": {
          "base_uri": "https://localhost:8080/",
          "height": 856
        }
      },
      "source": [
        "from tensorflow.keras.utils import plot_model\n",
        "\n",
        "plot_model(multiConvModel, to_file='multiConvModel.png')"
      ],
      "execution_count": 0,
      "outputs": [
        {
          "output_type": "execute_result",
          "data": {
            "image/png": "[encoded data removed]",
            "text/plain": [
              "<IPython.core.display.Image object>"
            ]
          },
          "metadata": {
            "tags": []
          },
          "execution_count": 95
        }
      ]
    },
    {
      "cell_type": "code",
      "metadata": {
        "id": "MVkYXPXXZqxI",
        "colab_type": "code",
        "colab": {}
      },
      "source": [
        "                            # Create checkpoint for the training\n",
        "                            # This checkpoint performs model saving when\n",
        "                            # an epoch gives highest testing accuracy\n",
        "modelname       = \"multiconvmodel\"\n",
        "filepath        = modelname + \".hdf5\"\n",
        "checkpoint      = ModelCheckpoint(filepath, \n",
        "                                  monitor='val_acc', \n",
        "                                  verbose=0, \n",
        "                                  save_best_only=True, \n",
        "                                  mode='max')\n",
        "\n",
        "                            # Log the epoch detail into csv\n",
        "csv_logger      = CSVLogger(modelname +'.csv')\n",
        "callbacks_list  = [checkpoint,csv_logger]"
      ],
      "execution_count": 0,
      "outputs": []
    },
    {
      "cell_type": "code",
      "metadata": {
        "id": "6yQumj7jYsQH",
        "colab_type": "code",
        "outputId": "210cce9c-4d73-4bdb-fea6-c2ae97c796fe",
        "colab": {
          "base_uri": "https://localhost:8080/",
          "height": 1000
        }
      },
      "source": [
        "multiConvModel.fit(Xm_train2, \n",
        "                   ym_train_c, \n",
        "                   validation_data=(Xm_valid2, ym_valid_c), \n",
        "                   epochs=60, \n",
        "                   batch_size=32,\n",
        "                   shuffle=True,\n",
        "                   callbacks=callbacks_list)"
      ],
      "execution_count": 0,
      "outputs": [
        {
          "output_type": "stream",
          "text": [
            "Train on 8050 samples, validate on 1725 samples\n",
            "Epoch 1/60\n",
            "8050/8050 [==============================] - 4s 516us/sample - loss: 1.0144 - acc: 0.5496 - val_loss: 0.8047 - val_acc: 0.6284\n",
            "Epoch 2/60\n",
            "8050/8050 [==============================] - 2s 190us/sample - loss: 0.8397 - acc: 0.6265 - val_loss: 0.7543 - val_acc: 0.6609\n",
            "Epoch 3/60\n",
            "8050/8050 [==============================] - 2s 187us/sample - loss: 0.7855 - acc: 0.6439 - val_loss: 0.7398 - val_acc: 0.6667\n",
            "Epoch 4/60\n",
            "8050/8050 [==============================] - 2s 187us/sample - loss: 0.7602 - acc: 0.6599 - val_loss: 0.7277 - val_acc: 0.6794\n",
            "Epoch 5/60\n",
            "8050/8050 [==============================] - 1s 184us/sample - loss: 0.7385 - acc: 0.6661 - val_loss: 0.7094 - val_acc: 0.6800\n",
            "Epoch 6/60\n",
            "8050/8050 [==============================] - 2s 188us/sample - loss: 0.7294 - acc: 0.6725 - val_loss: 0.6867 - val_acc: 0.6864\n",
            "Epoch 7/60\n",
            "8050/8050 [==============================] - 1s 182us/sample - loss: 0.7041 - acc: 0.6826 - val_loss: 0.7055 - val_acc: 0.6788\n",
            "Epoch 8/60\n",
            "8050/8050 [==============================] - 1s 183us/sample - loss: 0.6921 - acc: 0.6889 - val_loss: 0.6795 - val_acc: 0.6893\n",
            "Epoch 9/60\n",
            "8050/8050 [==============================] - 1s 182us/sample - loss: 0.6803 - acc: 0.7015 - val_loss: 0.6852 - val_acc: 0.6835\n",
            "Epoch 10/60\n",
            "8050/8050 [==============================] - 2s 186us/sample - loss: 0.6671 - acc: 0.7021 - val_loss: 0.6793 - val_acc: 0.7043\n",
            "Epoch 11/60\n",
            "8050/8050 [==============================] - 1s 182us/sample - loss: 0.6591 - acc: 0.7005 - val_loss: 0.6616 - val_acc: 0.6945\n",
            "Epoch 12/60\n",
            "8050/8050 [==============================] - 1s 183us/sample - loss: 0.6425 - acc: 0.7170 - val_loss: 0.6945 - val_acc: 0.6823\n",
            "Epoch 13/60\n",
            "8050/8050 [==============================] - 1s 182us/sample - loss: 0.6427 - acc: 0.7130 - val_loss: 0.6601 - val_acc: 0.7009\n",
            "Epoch 14/60\n",
            "8050/8050 [==============================] - 1s 185us/sample - loss: 0.6357 - acc: 0.7142 - val_loss: 0.6515 - val_acc: 0.7119\n",
            "Epoch 15/60\n",
            "8050/8050 [==============================] - 1s 182us/sample - loss: 0.6217 - acc: 0.7190 - val_loss: 0.6601 - val_acc: 0.7113\n",
            "Epoch 16/60\n",
            "8050/8050 [==============================] - 1s 184us/sample - loss: 0.6184 - acc: 0.7234 - val_loss: 0.6647 - val_acc: 0.6933\n",
            "Epoch 17/60\n",
            "8050/8050 [==============================] - 1s 179us/sample - loss: 0.6183 - acc: 0.7296 - val_loss: 0.6549 - val_acc: 0.7107\n",
            "Epoch 18/60\n",
            "8050/8050 [==============================] - 2s 187us/sample - loss: 0.6017 - acc: 0.7299 - val_loss: 0.6518 - val_acc: 0.7125\n",
            "Epoch 19/60\n",
            "8050/8050 [==============================] - 1s 185us/sample - loss: 0.6049 - acc: 0.7350 - val_loss: 0.6600 - val_acc: 0.7142\n",
            "Epoch 20/60\n",
            "8050/8050 [==============================] - 1s 179us/sample - loss: 0.5928 - acc: 0.7365 - val_loss: 0.6703 - val_acc: 0.7020\n",
            "Epoch 21/60\n",
            "8050/8050 [==============================] - 1s 181us/sample - loss: 0.5935 - acc: 0.7342 - val_loss: 0.6616 - val_acc: 0.7026\n",
            "Epoch 22/60\n",
            "8050/8050 [==============================] - 1s 184us/sample - loss: 0.5858 - acc: 0.7384 - val_loss: 0.6608 - val_acc: 0.7096\n",
            "Epoch 23/60\n",
            "8050/8050 [==============================] - 1s 184us/sample - loss: 0.5845 - acc: 0.7447 - val_loss: 0.6575 - val_acc: 0.7113\n",
            "Epoch 24/60\n",
            "8050/8050 [==============================] - 1s 185us/sample - loss: 0.5691 - acc: 0.7462 - val_loss: 0.6585 - val_acc: 0.7130\n",
            "Epoch 25/60\n",
            "8050/8050 [==============================] - 1s 184us/sample - loss: 0.5711 - acc: 0.7441 - val_loss: 0.6545 - val_acc: 0.7125\n",
            "Epoch 26/60\n",
            "8050/8050 [==============================] - 1s 181us/sample - loss: 0.5597 - acc: 0.7511 - val_loss: 0.6843 - val_acc: 0.7049\n",
            "Epoch 27/60\n",
            "8050/8050 [==============================] - 1s 186us/sample - loss: 0.5636 - acc: 0.7504 - val_loss: 0.6635 - val_acc: 0.7113\n",
            "Epoch 28/60\n",
            "8050/8050 [==============================] - 1s 182us/sample - loss: 0.5586 - acc: 0.7538 - val_loss: 0.6653 - val_acc: 0.7107\n",
            "Epoch 29/60\n",
            "8050/8050 [==============================] - 2s 186us/sample - loss: 0.5436 - acc: 0.7559 - val_loss: 0.6461 - val_acc: 0.7154\n",
            "Epoch 30/60\n",
            "8050/8050 [==============================] - 2s 188us/sample - loss: 0.5394 - acc: 0.7601 - val_loss: 0.6653 - val_acc: 0.7159\n",
            "Epoch 31/60\n",
            "8050/8050 [==============================] - 1s 178us/sample - loss: 0.5412 - acc: 0.7569 - val_loss: 0.6767 - val_acc: 0.7148\n",
            "Epoch 32/60\n",
            "8050/8050 [==============================] - 2s 189us/sample - loss: 0.5382 - acc: 0.7570 - val_loss: 0.6696 - val_acc: 0.7212\n",
            "Epoch 33/60\n",
            "8050/8050 [==============================] - 2s 191us/sample - loss: 0.5220 - acc: 0.7713 - val_loss: 0.6782 - val_acc: 0.7183\n",
            "Epoch 34/60\n",
            "8050/8050 [==============================] - 2s 197us/sample - loss: 0.5409 - acc: 0.7696 - val_loss: 0.6673 - val_acc: 0.7241\n",
            "Epoch 35/60\n",
            "8050/8050 [==============================] - 2s 194us/sample - loss: 0.5322 - acc: 0.7670 - val_loss: 0.6860 - val_acc: 0.7101\n",
            "Epoch 36/60\n",
            "8050/8050 [==============================] - 2s 196us/sample - loss: 0.5234 - acc: 0.7640 - val_loss: 0.6954 - val_acc: 0.7078\n",
            "Epoch 37/60\n",
            "8050/8050 [==============================] - 2s 192us/sample - loss: 0.5394 - acc: 0.7643 - val_loss: 0.6636 - val_acc: 0.7229\n",
            "Epoch 38/60\n",
            "8050/8050 [==============================] - 2s 195us/sample - loss: 0.5151 - acc: 0.7702 - val_loss: 0.6862 - val_acc: 0.7165\n",
            "Epoch 39/60\n",
            "8050/8050 [==============================] - 1s 180us/sample - loss: 0.5200 - acc: 0.7648 - val_loss: 0.6787 - val_acc: 0.7165\n",
            "Epoch 40/60\n",
            "8050/8050 [==============================] - 1s 183us/sample - loss: 0.4954 - acc: 0.7798 - val_loss: 0.6877 - val_acc: 0.7177\n",
            "Epoch 41/60\n",
            "8050/8050 [==============================] - 1s 181us/sample - loss: 0.5100 - acc: 0.7740 - val_loss: 0.6872 - val_acc: 0.7223\n",
            "Epoch 42/60\n",
            "8050/8050 [==============================] - 1s 186us/sample - loss: 0.5021 - acc: 0.7776 - val_loss: 0.6796 - val_acc: 0.7264\n",
            "Epoch 43/60\n",
            "8050/8050 [==============================] - 1s 186us/sample - loss: 0.4945 - acc: 0.7732 - val_loss: 0.6689 - val_acc: 0.7333\n",
            "Epoch 44/60\n",
            "8050/8050 [==============================] - 1s 180us/sample - loss: 0.4946 - acc: 0.7830 - val_loss: 0.6926 - val_acc: 0.7072\n",
            "Epoch 45/60\n",
            "8050/8050 [==============================] - 1s 181us/sample - loss: 0.4950 - acc: 0.7821 - val_loss: 0.7053 - val_acc: 0.7072\n",
            "Epoch 46/60\n",
            "8050/8050 [==============================] - 1s 185us/sample - loss: 0.4889 - acc: 0.7832 - val_loss: 0.6991 - val_acc: 0.7159\n",
            "Epoch 47/60\n",
            "8050/8050 [==============================] - 1s 181us/sample - loss: 0.4885 - acc: 0.7830 - val_loss: 0.7313 - val_acc: 0.7217\n",
            "Epoch 48/60\n",
            "8050/8050 [==============================] - 1s 183us/sample - loss: 0.4963 - acc: 0.7894 - val_loss: 0.6894 - val_acc: 0.7270\n",
            "Epoch 49/60\n",
            "8050/8050 [==============================] - 1s 185us/sample - loss: 0.4864 - acc: 0.7783 - val_loss: 0.7006 - val_acc: 0.7252\n",
            "Epoch 50/60\n",
            "8050/8050 [==============================] - 1s 185us/sample - loss: 0.4800 - acc: 0.7850 - val_loss: 0.6806 - val_acc: 0.7281\n",
            "Epoch 51/60\n",
            "8050/8050 [==============================] - 1s 178us/sample - loss: 0.4811 - acc: 0.7877 - val_loss: 0.7179 - val_acc: 0.7217\n",
            "Epoch 52/60\n",
            "8050/8050 [==============================] - 1s 178us/sample - loss: 0.4980 - acc: 0.7852 - val_loss: 0.6852 - val_acc: 0.7246\n",
            "Epoch 53/60\n",
            "8050/8050 [==============================] - 1s 174us/sample - loss: 0.4811 - acc: 0.7894 - val_loss: 0.6914 - val_acc: 0.7171\n",
            "Epoch 54/60\n",
            "8050/8050 [==============================] - 1s 177us/sample - loss: 0.4882 - acc: 0.7862 - val_loss: 0.7076 - val_acc: 0.7212\n",
            "Epoch 55/60\n",
            "8050/8050 [==============================] - 1s 175us/sample - loss: 0.4820 - acc: 0.7858 - val_loss: 0.6960 - val_acc: 0.7217\n",
            "Epoch 56/60\n",
            "8050/8050 [==============================] - 1s 175us/sample - loss: 0.4713 - acc: 0.7891 - val_loss: 0.7028 - val_acc: 0.7304\n",
            "Epoch 57/60\n",
            "8050/8050 [==============================] - 1s 176us/sample - loss: 0.4725 - acc: 0.7920 - val_loss: 0.7075 - val_acc: 0.7171\n",
            "Epoch 58/60\n",
            "8050/8050 [==============================] - 1s 176us/sample - loss: 0.4634 - acc: 0.7952 - val_loss: 0.6996 - val_acc: 0.7212\n",
            "Epoch 59/60\n",
            "8050/8050 [==============================] - 1s 176us/sample - loss: 0.4523 - acc: 0.8026 - val_loss: 0.7213 - val_acc: 0.7299\n",
            "Epoch 60/60\n",
            "8050/8050 [==============================] - 1s 174us/sample - loss: 0.4644 - acc: 0.7964 - val_loss: 0.7279 - val_acc: 0.7148\n"
          ],
          "name": "stdout"
        },
        {
          "output_type": "execute_result",
          "data": {
            "text/plain": [
              "<tensorflow.python.keras.callbacks.History at 0x7f0c1a41cf28>"
            ]
          },
          "metadata": {
            "tags": []
          },
          "execution_count": 97
        }
      ]
    },
    {
      "cell_type": "code",
      "metadata": {
        "id": "3iK_VSsjNrv5",
        "colab_type": "code",
        "colab": {}
      },
      "source": [
        "multiConvModelGo.load_weights(filepath)\n",
        "multiConvModelGo.compile(loss='categorical_crossentropy', \n",
        "                         optimizer='adam', \n",
        "                         metrics=['accuracy'])"
      ],
      "execution_count": 0,
      "outputs": []
    },
    {
      "cell_type": "code",
      "metadata": {
        "id": "rklfMnBeY8XY",
        "colab_type": "code",
        "colab": {}
      },
      "source": [
        "mcpredicts    = multiConvModel.predict(Xm_valid2)\n",
        "mcpredout     = np.argmax(mcpredicts,axis=1)\n",
        "mctestout     = np.argmax(ym_valid_c,axis=1)"
      ],
      "execution_count": 0,
      "outputs": []
    },
    {
      "cell_type": "code",
      "metadata": {
        "id": "-4WXUL7_bNBW",
        "colab_type": "code",
        "colab": {}
      },
      "source": [
        "mctestScores  = metrics.accuracy_score(mctestout,mcpredout)\n",
        "mcconfusion   = metrics.confusion_matrix(mctestout,mcpredout)"
      ],
      "execution_count": 0,
      "outputs": []
    },
    {
      "cell_type": "code",
      "metadata": {
        "id": "pnF6qFrhbSO5",
        "colab_type": "code",
        "outputId": "a6531de2-05f9-403f-e1df-b153a6704407",
        "colab": {
          "base_uri": "https://localhost:8080/",
          "height": 329
        }
      },
      "source": [
        "print(\"Best accuracy (on validation dataset): %.2f%%\" % (mctestScores*100))\n",
        "print(metrics.classification_report(mctestout,mcpredout,digits=4))\n",
        "print(mcconfusion)"
      ],
      "execution_count": 0,
      "outputs": [
        {
          "output_type": "stream",
          "text": [
            "Best accuracy (on testing dataset): 71.48%\n",
            "              precision    recall  f1-score   support\n",
            "\n",
            "           0     0.9563    0.9507    0.9535       345\n",
            "           1     0.5897    0.5623    0.5757       345\n",
            "           2     0.5568    0.5826    0.5694       345\n",
            "           3     0.8322    0.7333    0.7797       345\n",
            "           4     0.6624    0.7449    0.7012       345\n",
            "\n",
            "    accuracy                         0.7148      1725\n",
            "   macro avg     0.7195    0.7148    0.7159      1725\n",
            "weighted avg     0.7195    0.7148    0.7159      1725\n",
            "\n",
            "[[328  10   5   2   0]\n",
            " [  9 194 122   0  20]\n",
            " [  3 101 201  10  30]\n",
            " [  3   5   3 253  81]\n",
            " [  0  19  30  39 257]]\n"
          ],
          "name": "stdout"
        }
      ]
    },
    {
      "cell_type": "code",
      "metadata": {
        "id": "Boq1KBXqbZmO",
        "colab_type": "code",
        "outputId": "6ae96130-bb93-4a13-d33e-6aa627ac06ea",
        "colab": {
          "base_uri": "https://localhost:8080/",
          "height": 312
        }
      },
      "source": [
        "skplt.metrics.plot_confusion_matrix(mctestout, mcpredout, normalize=True)"
      ],
      "execution_count": 0,
      "outputs": [
        {
          "output_type": "execute_result",
          "data": {
            "text/plain": [
              "<matplotlib.axes._subplots.AxesSubplot at 0x7f0c19ee9710>"
            ]
          },
          "metadata": {
            "tags": []
          },
          "execution_count": 102
        },
        {
          "output_type": "display_data",
          "data": {
            "image/png": "[encoded data removed]",
            "text/plain": [
              "<Figure size 432x288 with 2 Axes>"
            ]
          },
          "metadata": {
            "tags": []
          }
        }
      ]
    },
    {
      "cell_type": "markdown",
      "metadata": {
        "id": "naEUUOgEVTdT",
        "colab_type": "text"
      },
      "source": [
        "# Voting Multi-Classifier"
      ]
    },
    {
      "cell_type": "code",
      "metadata": {
        "id": "gH-gh-AcV4y3",
        "colab_type": "code",
        "colab": {}
      },
      "source": [
        "rfc = RandomForestClassifier(n_estimators=190,criterion='entropy',bootstrap=False, min_samples_leaf=2,random_state=0)"
      ],
      "execution_count": 0,
      "outputs": []
    },
    {
      "cell_type": "code",
      "metadata": {
        "id": "pKC5gO5sN_ZB",
        "colab_type": "code",
        "colab": {}
      },
      "source": [
        "xgbc = XGBClassifier(n_estimators=1000,\n",
        "                      learning_rate=0.1,\n",
        "                      gamma=0, \n",
        "                      subsample=0.75,\n",
        "                      colsample_bytree=1,\n",
        "                      max_depth=5,\n",
        "                      min_weight=1, \n",
        "                      random_state=27,\n",
        "                      booster='gbtree',\n",
        "                      )"
      ],
      "execution_count": 0,
      "outputs": []
    },
    {
      "cell_type": "markdown",
      "metadata": {
        "id": "ele8Vd_idcww",
        "colab_type": "text"
      },
      "source": [
        "Recode to Sequential for KerasClassifier to use predict_classes function with VotingClassifier"
      ]
    },
    {
      "cell_type": "code",
      "metadata": {
        "id": "6_t7Hu1Yzm4r",
        "colab_type": "code",
        "colab": {}
      },
      "source": [
        "from tensorflow.keras.wrappers.scikit_learn import KerasClassifier\n",
        "from tensorflow.keras.models import Sequential\n",
        "\n",
        "def kerasConv():\n",
        "\n",
        "    model = Sequential()\n",
        "    model.add(Conv1D(32, 3, padding='same',\n",
        "                     input_shape=(40,1)))\n",
        "    model.add(Conv1D(64, 3, padding='same'))\n",
        "    model.add(Dropout(0.25))\n",
        "    model.add(Dense(64, activation='relu'))\n",
        "    model.add(Dropout(0.5))\n",
        "    model.add(Dense(128, activation='relu'))\n",
        "    model.add(Dropout(0.5))\n",
        "    model.add(Flatten())\n",
        "    model.add(Dense(5, activation='softmax'))\n",
        "\n",
        "    model.compile(loss='categorical_crossentropy',\n",
        "                 optimizer='adam',\n",
        "                 metrics=['accuracy'])\n",
        "    \n",
        "    return model\n",
        "\n",
        "kerasConvModel = KerasClassifier(build_fn=kerasConv, epochs=60, \n",
        "                                 batch_size=32, verbose=0)"
      ],
      "execution_count": 0,
      "outputs": []
    },
    {
      "cell_type": "code",
      "metadata": {
        "id": "Sfan6IKW2-a-",
        "colab_type": "code",
        "colab": {}
      },
      "source": [
        "from sklearn.preprocessing import LabelEncoder\n",
        "\n",
        "def fit_multiple_estimators(classifiers, X_list, y, sample_weights = None):\n",
        "\n",
        "    le_ = LabelEncoder()\n",
        "    le_.fit(y)\n",
        "    transformed_y = le_.transform(y)\n",
        "    estimators_ = []\n",
        "    \n",
        "    for clf, X in zip([clf for _, clf in classifiers], X_list):\n",
        "        if sample_weights is None:\n",
        "            clf.fit(X, y)\n",
        "        else:\n",
        "            clf.fit(X, y, sample_weights)\n",
        "        estimators_.append(clf)\n",
        "\n",
        "\n",
        "    return estimators_, le_\n",
        "\n",
        "\n",
        "def predict_from_multiple_estimator(estimators, label_encoder, X_list, weights = None):\n",
        "\n",
        "    # Predict 'soft' voting with probabilities\n",
        "\n",
        "    pred1 = np.asarray([clf.predict_proba(X) for clf, X in zip(estimators, X_list)])\n",
        "    pred2 = np.average(pred1, axis=0, weights=weights)\n",
        "    pred = np.argmax(pred2, axis=1)\n",
        "\n",
        "    return label_encoder.inverse_transform(pred)"
      ],
      "execution_count": 0,
      "outputs": []
    },
    {
      "cell_type": "code",
      "metadata": {
        "id": "IIL3Qfv-3Yk6",
        "colab_type": "code",
        "colab": {}
      },
      "source": [
        "estimators=[('rfc', rfc), ('xgbc',xgbc), ('kerasConvModel', kerasConvModel)]\n",
        "X_train_list = [Xm_train, Xm_train, Xm_train2]\n",
        "X_valid_list = [Xm_valid, Xm_valid, Xm_valid2]"
      ],
      "execution_count": 0,
      "outputs": []
    },
    {
      "cell_type": "code",
      "metadata": {
        "id": "AzesKlrv4Jan",
        "colab_type": "code",
        "colab": {}
      },
      "source": [
        "fitted_estimators, label_encoder = fit_multiple_estimators(estimators, X_train_list, ym_train)"
      ],
      "execution_count": 0,
      "outputs": []
    },
    {
      "cell_type": "code",
      "metadata": {
        "id": "R-ZRtJ_Z4sPd",
        "colab_type": "code",
        "colab": {}
      },
      "source": [
        "y_pred = predict_from_multiple_estimator(fitted_estimators, label_encoder, X_valid_list)"
      ],
      "execution_count": 0,
      "outputs": []
    },
    {
      "cell_type": "code",
      "metadata": {
        "colab_type": "code",
        "id": "8eFSpCclptwp",
        "colab": {}
      },
      "source": [
        "vctestScores  = metrics.accuracy_score(ym_valid,y_pred)\n",
        "vcconfusion   = metrics.confusion_matrix(ym_valid,y_pred)"
      ],
      "execution_count": 0,
      "outputs": []
    },
    {
      "cell_type": "code",
      "metadata": {
        "colab_type": "code",
        "outputId": "ccfd9596-afbd-4489-a4b8-f42666597626",
        "id": "lPxqqmt6ptwz",
        "colab": {
          "base_uri": "https://localhost:8080/",
          "height": 329
        }
      },
      "source": [
        "print(\"Best accuracy (on validation dataset): %.2f%%\" % (vctestScores*100))\n",
        "print(metrics.classification_report(ym_valid,y_pred,digits=4))\n",
        "print(vcconfusion)"
      ],
      "execution_count": 0,
      "outputs": [
        {
          "output_type": "stream",
          "text": [
            "Best accuracy (on testing dataset): 74.43%\n",
            "              precision    recall  f1-score   support\n",
            "\n",
            "           1     0.9509    0.9536    0.9522       345\n",
            "           2     0.6574    0.5507    0.5994       345\n",
            "           3     0.6313    0.6551    0.6430       345\n",
            "           4     0.8451    0.7275    0.7819       345\n",
            "           5     0.6621    0.8348    0.7385       345\n",
            "\n",
            "    accuracy                         0.7443      1725\n",
            "   macro avg     0.7494    0.7443    0.7430      1725\n",
            "weighted avg     0.7494    0.7443    0.7430      1725\n",
            "\n",
            "[[329   8   4   4   0]\n",
            " [ 14 190 110   2  29]\n",
            " [  3  75 226  12  29]\n",
            " [  0   4   1 251  89]\n",
            " [  0  12  17  28 288]]\n"
          ],
          "name": "stdout"
        }
      ]
    },
    {
      "cell_type": "code",
      "metadata": {
        "id": "2Nl2hoem-9nR",
        "colab_type": "code",
        "outputId": "1348becf-082c-4c30-9eb2-8c49ddb4ebb0",
        "colab": {
          "base_uri": "https://localhost:8080/",
          "height": 312
        }
      },
      "source": [
        "skplt.metrics.plot_confusion_matrix(ym_valid, y_pred, normalize=True)"
      ],
      "execution_count": 0,
      "outputs": [
        {
          "output_type": "execute_result",
          "data": {
            "text/plain": [
              "<matplotlib.axes._subplots.AxesSubplot at 0x7f0c1970b5f8>"
            ]
          },
          "metadata": {
            "tags": []
          },
          "execution_count": 114
        },
        {
          "output_type": "display_data",
          "data": {
            "image/png": "[encoded data removed]",
            "text/plain": [
              "<Figure size 432x288 with 2 Axes>"
            ]
          },
          "metadata": {
            "tags": []
          }
        }
      ]
    },
    {
      "cell_type": "markdown",
      "metadata": {
        "id": "fqpd41t7r37b",
        "colab_type": "text"
      },
      "source": [
        "# Final Score on Test Set"
      ]
    },
    {
      "cell_type": "markdown",
      "metadata": {
        "id": "UIs_kUV3r8XR",
        "colab_type": "text"
      },
      "source": [
        "## Binary Classification"
      ]
    },
    {
      "cell_type": "markdown",
      "metadata": {
        "id": "zpBiPC-ysOIZ",
        "colab_type": "text"
      },
      "source": [
        "Choose Multi-Layer Perceptron based on highest ROC AUC score\n"
      ]
    },
    {
      "cell_type": "code",
      "metadata": {
        "colab_type": "code",
        "id": "cKqV4Kk71wV6",
        "colab": {}
      },
      "source": [
        "y_test_b = y_test.to_numpy().reshape((y_test.shape[0],1))\n",
        "\n",
        "predicts    = binarymodelGo.predict(X_test)\n",
        "predout     = np.where(predicts.reshape(-1) > 0.5, 1, 0)\n",
        "testout     = y_test_b.reshape(-1)"
      ],
      "execution_count": 0,
      "outputs": []
    },
    {
      "cell_type": "code",
      "metadata": {
        "colab_type": "code",
        "outputId": "896c777f-507e-4cfb-b698-9b957a5cccaa",
        "id": "3aeKPmER1wWE",
        "colab": {
          "base_uri": "https://localhost:8080/",
          "height": 51
        }
      },
      "source": [
        "binarymodelGo.evaluate(X_test, y_test_b, batch_size=128)"
      ],
      "execution_count": 0,
      "outputs": [
        {
          "output_type": "stream",
          "text": [
            "1725/1725 [==============================] - 0s 21us/sample - loss: 0.1045 - acc: 0.9693\n"
          ],
          "name": "stdout"
        },
        {
          "output_type": "execute_result",
          "data": {
            "text/plain": [
              "[0.10451998895493106, 0.96927536]"
            ]
          },
          "metadata": {
            "tags": []
          },
          "execution_count": 127
        }
      ]
    },
    {
      "cell_type": "code",
      "metadata": {
        "colab_type": "code",
        "id": "2MKhVuRb1wWH",
        "colab": {}
      },
      "source": [
        "testScores  = metrics.accuracy_score(testout,predout)\n",
        "confusion   = metrics.confusion_matrix(testout,predout)"
      ],
      "execution_count": 0,
      "outputs": []
    },
    {
      "cell_type": "code",
      "metadata": {
        "colab_type": "code",
        "outputId": "617e606e-ebd2-46bb-c537-27b663c9280f",
        "id": "GF_ZdYAd1wWJ",
        "colab": {
          "base_uri": "https://localhost:8080/",
          "height": 225
        }
      },
      "source": [
        "print(\"Best accuracy (on testing dataset): %.2f%%\" % (testScores*100))\n",
        "print(metrics.classification_report(testout,predout,digits=4))\n",
        "print(confusion)"
      ],
      "execution_count": 0,
      "outputs": [
        {
          "output_type": "stream",
          "text": [
            "Best accuracy (on testing dataset): 96.93%\n",
            "              precision    recall  f1-score   support\n",
            "\n",
            "           0     0.9777    0.9841    0.9809      1380\n",
            "           1     0.9345    0.9101    0.9222       345\n",
            "\n",
            "    accuracy                         0.9693      1725\n",
            "   macro avg     0.9561    0.9471    0.9515      1725\n",
            "weighted avg     0.9691    0.9693    0.9691      1725\n",
            "\n",
            "[[1358   22]\n",
            " [  31  314]]\n"
          ],
          "name": "stdout"
        }
      ]
    },
    {
      "cell_type": "code",
      "metadata": {
        "id": "Poe4diY5koBy",
        "colab_type": "code",
        "outputId": "995c5ad3-15d8-4403-8ec7-e26f43646a0a",
        "colab": {
          "base_uri": "https://localhost:8080/",
          "height": 312
        }
      },
      "source": [
        "skplt.metrics.plot_confusion_matrix(testout, predout, normalize=True)"
      ],
      "execution_count": 0,
      "outputs": [
        {
          "output_type": "execute_result",
          "data": {
            "text/plain": [
              "<matplotlib.axes._subplots.AxesSubplot at 0x7f0c194ddc88>"
            ]
          },
          "metadata": {
            "tags": []
          },
          "execution_count": 128
        },
        {
          "output_type": "display_data",
          "data": {
            "image/png": "[encoded data removed]",
            "text/plain": [
              "<Figure size 432x288 with 2 Axes>"
            ]
          },
          "metadata": {
            "tags": []
          }
        }
      ]
    },
    {
      "cell_type": "markdown",
      "metadata": {
        "id": "kiiZFLlWr--q",
        "colab_type": "text"
      },
      "source": [
        "## 5-class Classification"
      ]
    },
    {
      "cell_type": "code",
      "metadata": {
        "id": "4J3JkeHPsy12",
        "colab_type": "code",
        "outputId": "36f3c2ea-223d-4cce-8e5c-3e9734279760",
        "colab": {
          "base_uri": "https://localhost:8080/",
          "height": 34
        }
      },
      "source": [
        "Xm_test.shape"
      ],
      "execution_count": 0,
      "outputs": [
        {
          "output_type": "execute_result",
          "data": {
            "text/plain": [
              "(1725, 40)"
            ]
          },
          "metadata": {
            "tags": []
          },
          "execution_count": 119
        }
      ]
    },
    {
      "cell_type": "code",
      "metadata": {
        "id": "rafF3aXtsi0c",
        "colab_type": "code",
        "colab": {}
      },
      "source": [
        "Xm_test2 = Xm_test.reshape((1725, 40,1))"
      ],
      "execution_count": 0,
      "outputs": []
    },
    {
      "cell_type": "code",
      "metadata": {
        "id": "RQUuL09-scwT",
        "colab_type": "code",
        "colab": {}
      },
      "source": [
        "X_test_list = [Xm_test, Xm_test, Xm_test2]"
      ],
      "execution_count": 0,
      "outputs": []
    },
    {
      "cell_type": "code",
      "metadata": {
        "id": "c8wzzDb6sBSk",
        "colab_type": "code",
        "colab": {}
      },
      "source": [
        "y_test_pred = predict_from_multiple_estimator(fitted_estimators, label_encoder, X_test_list)"
      ],
      "execution_count": 0,
      "outputs": []
    },
    {
      "cell_type": "code",
      "metadata": {
        "id": "EN8N0xX2sTU5",
        "colab_type": "code",
        "colab": {}
      },
      "source": [
        "ttestScores  = metrics.accuracy_score(ym_test,y_test_pred)\n",
        "tconfusion   = metrics.confusion_matrix(ym_test,y_test_pred)"
      ],
      "execution_count": 0,
      "outputs": []
    },
    {
      "cell_type": "code",
      "metadata": {
        "id": "V3aBrelasWF0",
        "colab_type": "code",
        "outputId": "985cfbbc-274d-44a3-dd8c-d4c79b10256d",
        "colab": {
          "base_uri": "https://localhost:8080/",
          "height": 329
        }
      },
      "source": [
        "print(\"Best accuracy (on testing dataset): %.2f%%\" % (ttestScores*100))\n",
        "print(metrics.classification_report(ym_test,y_test_pred,digits=4))\n",
        "print(tconfusion)"
      ],
      "execution_count": 0,
      "outputs": [
        {
          "output_type": "stream",
          "text": [
            "Best accuracy (on testing dataset): 74.61%\n",
            "              precision    recall  f1-score   support\n",
            "\n",
            "           1     0.9307    0.9739    0.9518       345\n",
            "           2     0.6486    0.5565    0.5991       345\n",
            "           3     0.6017    0.6087    0.6052       345\n",
            "           4     0.8459    0.7797    0.8115       345\n",
            "           5     0.6983    0.8116    0.7507       345\n",
            "\n",
            "    accuracy                         0.7461      1725\n",
            "   macro avg     0.7451    0.7461    0.7436      1725\n",
            "weighted avg     0.7451    0.7461    0.7436      1725\n",
            "\n",
            "[[336   6   1   2   0]\n",
            " [ 15 192 115   6  17]\n",
            " [  8  79 210  13  35]\n",
            " [  2   4   1 269  69]\n",
            " [  0  15  22  28 280]]\n"
          ],
          "name": "stdout"
        }
      ]
    },
    {
      "cell_type": "code",
      "metadata": {
        "id": "p6wnqMNmtSG5",
        "colab_type": "code",
        "outputId": "6e29b6ae-db9e-4e9e-d977-d8166e90009a",
        "colab": {
          "base_uri": "https://localhost:8080/",
          "height": 312
        }
      },
      "source": [
        "skplt.metrics.plot_confusion_matrix(ym_test, y_test_pred, normalize=True)"
      ],
      "execution_count": 0,
      "outputs": [
        {
          "output_type": "execute_result",
          "data": {
            "text/plain": [
              "<matplotlib.axes._subplots.AxesSubplot at 0x7f0c195ee438>"
            ]
          },
          "metadata": {
            "tags": []
          },
          "execution_count": 125
        },
        {
          "output_type": "display_data",
          "data": {
            "image/png": "[encoded data removed]",
            "text/plain": [
              "<Figure size 432x288 with 2 Axes>"
            ]
          },
          "metadata": {
            "tags": []
          }
        }
      ]
    }
  ]
}